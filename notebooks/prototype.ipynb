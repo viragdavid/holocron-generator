{
 "cells": [
  {
   "cell_type": "code",
   "execution_count": 18,
   "id": "8f5078a0",
   "metadata": {},
   "outputs": [
    {
     "name": "stdout",
     "output_type": "stream",
     "text": [
      "Loaded 12 previously generated titles.\n",
      "\n",
      "Attempt 1/30 to find a new random article...\n",
      "Found a new, valid random article URL: https://starwars.fandom.com/wiki/Kilogram\n",
      "Article content saved to '../data/generated_articles\\Science stubs\\Kilogram.txt' in AI-friendly format.\n",
      "\n",
      "Process complete. 'Kilogram' has been saved and logged in the 'Science stubs' folder.\n"
     ]
    }
   ],
   "source": [
    "### WOOKIEPEDIA SCRAPER ###\n",
    "import requests\n",
    "import random\n",
    "import json\n",
    "import bs4\n",
    "import urllib.parse\n",
    "import re\n",
    "import os\n",
    "from collections import defaultdict\n",
    "\n",
    "# Generated articles are tracked here\n",
    "TRACKING_ARTICLE_FILE = \"../data/generated_articles.log\"\n",
    "BASE_ARTICLE_DIRECTORY = \"../data/generated_articles\" # Base directory for all saved articles\n",
    "\n",
    "# --- CATEGORY DEFINITION AND FILTERING SECTIONS ---\n",
    "\n",
    "# 1. CATEGORIES TO ALWAYS EXCLUDE from being processed/saved, regardless of source\n",
    "#    These are often meta-categories, real-world, or irrelevant technical tags.\n",
    "EXCLUDE_CATEGORIES_FOR_ANY_USE = {\n",
    "    \"Real-world people\", \"Real-world media\", \"Disambiguation pages\", \"Dates\",\n",
    "    \"Community content\", \"Wookieepedia\", \"Wiki\", \"Articles with unpopulated pronoun parameters\", \n",
    "    \"Articles that use DPL\", \"Articles with incorrect canonical link\",\n",
    "    \"Articles with an inconsistent canonical status\",\n",
    "    \"Articles with broken file links\", \"Articles with dead external links\",\n",
    "    \"Articles with information from unknown sources\"\n",
    "}\n",
    "\n",
    "# 2. CATEGORIES TO AVOID USING AS FOLDER NAMES (too general or internal wiki-maintenance)\n",
    "#    These categories might be on a page, but are not specific or descriptive or just too general.\n",
    "AVOID_FOLDER_CATEGORIES = {\n",
    "    \"Articles needing illustration\", \"Articles with conjectural titles\", \"Articles with gameplay alternatives\",\n",
    "    \"Archiveurl usages with non-Wayback URLs\", \"Canon articles\", \"Legends articles\", \"Canon articles with Legends counterparts\"\n",
    "}\n",
    "# --- END CATEGORY DEFINITION AND FILTERING SECTIONS ---\n",
    "\n",
    "# --- ARTICLE PROCESSING FUNCTIONS ---\n",
    "\n",
    "# 1. Function to get previously generated titles from the tracking file\n",
    "def get_previously_generated_titles(TRACKING_ARTICLE_FILE):\n",
    "    \"\"\"Reads the tracking file and returns a set of titles that have already been generated.\"\"\"\n",
    "    if not os.path.exists(TRACKING_ARTICLE_FILE):\n",
    "        return set()\n",
    "    with open(TRACKING_ARTICLE_FILE, 'r', encoding='utf-8') as f:\n",
    "        return set(line.strip() for line in f)\n",
    "\n",
    "# 2. Function to log a newly generated title\n",
    "def log_generated_title(title, TRACKING_ARTICLE_FILE):\n",
    "    \"\"\"Appends a new title to the tracking file.\"\"\"\n",
    "    with open(TRACKING_ARTICLE_FILE, 'a', encoding='utf-8') as f:\n",
    "        f.write(title + '\\n')\n",
    "\n",
    "# 3. Function to save the article content in a structured, token-efficient format\n",
    "def save_article_to_file(title, parsed_data, image_urls, category_name=\"Uncategorized\"):\n",
    "    \"\"\"Saves the structured, token-efficient article content to a text file in a category-specific folder.\"\"\"\n",
    "    \n",
    "    # Sanitize category_name to be safe for a directory name\n",
    "    sanitized_category_name = re.sub(r'[\\\\/*?:\"<>|]', \"\", category_name).strip()\n",
    "    if not sanitized_category_name: # Fallback if sanitization results in an empty string\n",
    "        sanitized_category_name = \"Uncategorized\"\n",
    "\n",
    "    # Create the category directory if it doesn't exist\n",
    "    target_directory = os.path.join(BASE_ARTICLE_DIRECTORY, sanitized_category_name)\n",
    "    os.makedirs(target_directory, exist_ok=True)\n",
    "\n",
    "    sanitized_title = re.sub(r'[\\\\/*?:\"<>|]', \"\", title.replace('/', '_'))\n",
    "    filename = os.path.join(target_directory, f\"{sanitized_title}.txt\")\n",
    "    \n",
    "    with open(filename, 'w', encoding='utf-8') as f:\n",
    "        f.write(f\"Title: {title}\\n\")\n",
    "\n",
    "        # Write each content section from the parsed data\n",
    "        for section, text in parsed_data['content_sections'].items():\n",
    "            f.write(f\"{section}: {text}\\n\")\n",
    "        \n",
    "        # Write the compacted table data\n",
    "        if parsed_data['infobox_string']:\n",
    "            f.write(f\"Table: {parsed_data['infobox_string']}\\n\")\n",
    "            \n",
    "        # Write the comma-separated appearances\n",
    "        if parsed_data['appearances']:\n",
    "            appearances_line = \", \".join(parsed_data['appearances'])\n",
    "            f.write(f\"Appearances: {appearances_line}\\n\")\n",
    "            \n",
    "        # Write the comma-separated image URLs\n",
    "        if image_urls:\n",
    "            images_line = \", \".join(image_urls)\n",
    "            f.write(f\"Images: {images_line}\\n\")\n",
    "            \n",
    "    print(f\"Article content saved to '{filename}' in AI-friendly format.\")\n",
    "\n",
    "# 4. Function to get a random title from Wookieepedia, checking against the tracking file and defined exclusion categories\n",
    "def get_random_title(TRACKING_ARTICLE_FILE, max_attempts=30):\n",
    "    \"\"\"Gets a random title, checking against the tracking file and defined exclusion categories.\"\"\"\n",
    "    url = \"https://starwars.fandom.com/api.php\"\n",
    "    generated_titles = get_previously_generated_titles(TRACKING_ARTICLE_FILE)\n",
    "    print(f\"Loaded {len(generated_titles)} previously generated titles.\")\n",
    "    \n",
    "    for attempt in range(max_attempts):\n",
    "        print(f\"\\nAttempt {attempt + 1}/{max_attempts} to find a new random article...\")\n",
    "        params = {\"action\": \"query\", \"format\": \"json\", \"list\": \"random\", \"rnnamespace\": 0, \"rnlimit\": 1}\n",
    "        res = requests.get(url, params=params).json()\n",
    "        random_title = res['query']['random'][0]['title']\n",
    "        \n",
    "        if random_title in generated_titles:\n",
    "            print(f\"'{random_title}' has already been generated. Skipping.\")\n",
    "            continue\n",
    "        \n",
    "        try:\n",
    "            # Fetch categories for filtering\n",
    "            params = {\"action\": \"query\", \"format\": \"json\", \"titles\": random_title, \"prop\": \"categories\", \"cllimit\": \"max\"}\n",
    "            category_check_res = requests.get(url, params=params).json()\n",
    "            page = next(iter(category_check_res[\"query\"][\"pages\"].values()))\n",
    "            \n",
    "            page_categories = set()\n",
    "            if 'categories' in page:\n",
    "                page_categories = {cat['title'].replace(\"Category:\", \"\") for cat in page['categories']}\n",
    "                \n",
    "            # Check for exclusion categories (using the centralized EXCLUDE_CATEGORIES_FOR_ANY_USE)\n",
    "            if not page_categories.isdisjoint(EXCLUDE_CATEGORIES_FOR_ANY_USE):\n",
    "                print(f\"'{random_title}' is in an excluded category ({page_categories.intersection(EXCLUDE_CATEGORIES_FOR_ANY_USE)}). Skipping.\")\n",
    "                continue\n",
    "\n",
    "            encoded_title = urllib.parse.quote(random_title.replace(' ', '_'))\n",
    "            print(\"Found a new, valid random article URL:\", f\"https://starwars.fandom.com/wiki/{encoded_title}\")\n",
    "            \n",
    "            return random_title, page_categories\n",
    "        except requests.exceptions.RequestException as e:\n",
    "            print(f\"API request failed: {e}. Skipping attempt.\")\n",
    "            continue\n",
    "    return None, set() # Return None and an empty set if no title is found\n",
    "\n",
    "# 5. Function to get all page data, including images and structured content\n",
    "def get_article_content(title):\n",
    "    \"\"\"Gets all page data and returns it in a structured dictionary.\"\"\"\n",
    "    url = \"https://starwars.fandom.com/api.php\"\n",
    "    params = {\"action\": \"query\", \"format\": \"json\", \"prop\": \"images\", \"titles\": title}\n",
    "    res = requests.get(url, params=params).json()\n",
    "    page = next(iter(res[\"query\"][\"pages\"].values()))\n",
    "    \n",
    "    parsed_data = get_summary_from_html(title)\n",
    "    \n",
    "    return {\n",
    "        \"title\": title,\n",
    "        \"parsed_data\": parsed_data,\n",
    "        \"images\": page.get(\"images\", [])\n",
    "    }\n",
    "\n",
    "# 6. Function to filter out images based on specific keywords\n",
    "# Todo: This functon doesnt work always properly, it should be improved\n",
    "def filter_images(image_titles):\n",
    "    exclude_keywords = [\n",
    "        \"logo\", \"banner\", \"icon\", \"question\", \"cite\", \"premium\", \"gotocanon\", \n",
    "        \"gotolegends\", \"swcustom\", \"tab-\", \"onacanonarticle\", \"onalegendsarticle\", \n",
    "        \"blue-exclamation-mark\", \"starwars-databank\", \"food-stub\", \"bobawhere\", \"char-stub\",\n",
    "        \"falactic_senate\", \"swtor_mini\", \"onanoncanonarticle\", \"swajsmall\", \"wizardsofthecoast\",\n",
    "        \"wiki-shrinkable\", \"lego\", \"military-stub\", \"SWTOR_mini\", \"kdy\", \"swinsider\", \"SWInsider\",\n",
    "        \"stub\", \"planet-stub\", \"Planet-stub\"\n",
    "    ]\n",
    "    filtered = []\n",
    "    for image in image_titles:\n",
    "        title = image['title'].lower()\n",
    "        if not any(keyword in title for keyword in exclude_keywords):\n",
    "            filtered.append(image)\n",
    "    return filtered\n",
    "\n",
    "# 7. Function to get image URLs from the filtered image titles\n",
    "def get_image_urls(image_titles):\n",
    "    urls = []\n",
    "    for image in image_titles:\n",
    "        title = image['title']\n",
    "        url = \"https://starwars.fandom.com/api.php\"\n",
    "        params = {\"action\": \"query\", \"format\": \"json\", \"titles\": title, \"prop\": \"imageinfo\", \"iiprop\": \"url\"}\n",
    "        res = requests.get(url, params=params).json()\n",
    "        page = next(iter(res['query']['pages'].values()))\n",
    "        if 'imageinfo' in page:\n",
    "            urls.append(page['imageinfo'][0]['url'])\n",
    "    return urls\n",
    "\n",
    "# 8. Function to scrape a Wookieepedia page and return structured content\n",
    "def get_summary_from_html(title):\n",
    "    \"\"\"\n",
    "    Scrapes a Wookieepedia page and returns a structured dictionary of its content.\n",
    "    \"\"\"\n",
    "    url = f\"https://starwars.fandom.com/wiki/{urllib.parse.quote(title.replace(' ', '_'))}\"\n",
    "    \n",
    "    try:\n",
    "        res = requests.get(url)\n",
    "        res.raise_for_status()\n",
    "        soup = bs4.BeautifulSoup(res.text, 'html.parser')\n",
    "        \n",
    "        # --- Data Extraction into Intermediate Structures ---\n",
    "        infobox_data = defaultdict(list)\n",
    "        infobox = soup.find('aside', class_='portable-infobox')\n",
    "        if infobox:\n",
    "            current_section = infobox.find('h2', class_='pi-title').get_text(strip=True) if infobox.find('h2', 'pi-title') else \"General\"\n",
    "            for item in infobox.find_all(['h2', 'div'], class_=['pi-header', 'pi-data']):\n",
    "                if 'pi-header' in item.get('class', []):\n",
    "                    current_section = item.get_text(strip=True)\n",
    "                elif 'pi-data' in item.get('class', []):\n",
    "                    label_el = item.find('h3', class_='pi-data-label')\n",
    "                    value_el = item.find('div', class_='pi-data-value')\n",
    "                    if label_el and value_el:\n",
    "                        for sup in value_el.find_all('sup', class_='reference'): sup.decompose()\n",
    "                        key = label_el.get_text(strip=True)\n",
    "                        value = ' '.join(value_el.get_text(separator=' ', strip=True).split())\n",
    "                        infobox_data[current_section].append(f\"{key}: {value}\")\n",
    "            infobox.decompose()\n",
    "\n",
    "        # --- Content Section Parsing ---\n",
    "        content_sections = defaultdict(list)\n",
    "        appearances = []\n",
    "        current_section_key = 'Main' # For text before the first header\n",
    "        content_div = soup.find('div', class_='mw-parser-output')\n",
    "        if content_div:\n",
    "            parsing_appearances = False\n",
    "            for element in content_div.find_all(['h2', 'h3', 'p', 'div', 'ul'], recursive=False):\n",
    "                if element.name in ['h2', 'h3']:\n",
    "                    headline_span = element.find('span', class_='mw-headline')\n",
    "                    if not headline_span: continue\n",
    "                    headline_text = headline_span.get_text(strip=True)\n",
    "                    stop_keywords = [\"Sources\", \"Notes and references\", \"See also\", \"External links\"]\n",
    "                    if any(keyword in headline_text for keyword in stop_keywords): break\n",
    "                    parsing_appearances = \"Appearances\" in headline_text\n",
    "                    if not parsing_appearances:\n",
    "                        current_section_key = headline_text\n",
    "                elif parsing_appearances and element.name in ['div', 'ul']:\n",
    "                    for li in element.find_all('li'):\n",
    "                        raw_text = li.get_text(strip=True)\n",
    "                        cleaned_text = re.sub(r'\\s*\\([^)]*\\)', '', raw_text).strip()\n",
    "                        if cleaned_text: appearances.append(cleaned_text)\n",
    "                elif not parsing_appearances and element.name == 'p':\n",
    "                    for sup in element.find_all('sup', class_='reference'): sup.decompose()\n",
    "                    text = element.get_text(separator=' ', strip=True)\n",
    "                    if text: content_sections[current_section_key].append(text)\n",
    "\n",
    "        # --- Final Formatting into Token-Efficient Strings ---\n",
    "        final_sections = {key: \" \".join(value) for key, value in content_sections.items()}\n",
    "        \n",
    "        infobox_string_parts = []\n",
    "        for section, kv_pairs in infobox_data.items():\n",
    "            pairs_str = \"; \".join(kv_pairs)\n",
    "            infobox_string_parts.append(f\"{section} | {pairs_str}\")\n",
    "        infobox_final_str = \" | \".join(infobox_string_parts)\n",
    "        \n",
    "        return {\n",
    "            \"infobox_string\": infobox_final_str,\n",
    "            \"content_sections\": final_sections,\n",
    "            \"appearances\": appearances\n",
    "        }\n",
    "    except Exception as e:\n",
    "        return {\"infobox_string\": \"\", \"content_sections\": {\"Error\": str(e)}, \"appearances\": []}\n",
    "# --- END ARTICLE PROCESSING FUNCTIONS ---\n",
    "\n",
    "# --- Main Execution ---\n",
    "if __name__ == \"__main__\":\n",
    "    \n",
    "    # Create the base saving directory if it doesn't exist\n",
    "    os.makedirs(BASE_ARTICLE_DIRECTORY, exist_ok=True)\n",
    "    \n",
    "    # Always try to get a random title\n",
    "    title, categories = get_random_title(TRACKING_ARTICLE_FILE)\n",
    "    \n",
    "    if title:\n",
    "        page_data = get_article_content(title)\n",
    "        \n",
    "        if \"Error\" in page_data[\"parsed_data\"][\"content_sections\"]:\n",
    "            print(f\"Could not process '{title}'. Reason: {page_data['parsed_data']['content_sections']['Error']}\")\n",
    "        else:\n",
    "            filtered_images = filter_images(page_data[\"images\"])\n",
    "            image_urls = get_image_urls(filtered_images)\n",
    "            \n",
    "            chosen_category_for_folder = \"Uncategorized\" # Default fallback\n",
    "\n",
    "            # Combine all exclusion sets for checking against potential folder names\n",
    "            all_avoid_categories_for_folder_name = AVOID_FOLDER_CATEGORIES.union(EXCLUDE_CATEGORIES_FOR_ANY_USE)\n",
    "            \n",
    "            # Convert categories set to a sorted list to ensure deterministic \"first\" tag\n",
    "            sorted_page_categories = sorted(list(categories))\n",
    "            \n",
    "            # Iterate through the page's categories and pick the first suitable one for the folder name\n",
    "            for cat in sorted_page_categories:\n",
    "                # Check if the category is suitable (not in any exclusion/avoid list, and not a generic keyword)\n",
    "                if cat not in all_avoid_categories_for_folder_name and \\\n",
    "                   not any(keyword in cat.lower() for keyword in [\"real-world\", \"disambiguation\", \"date\", \"fictional\"]):\n",
    "                    chosen_category_for_folder = cat\n",
    "                    break # Use this category and stop searching\n",
    "\n",
    "            # Save the structured data to the file\n",
    "            save_article_to_file(\n",
    "                page_data[\"title\"], \n",
    "                page_data[\"parsed_data\"], \n",
    "                image_urls,\n",
    "                category_name=chosen_category_for_folder # Pass the determined category\n",
    "            )\n",
    "            \n",
    "            log_generated_title(page_data[\"title\"], TRACKING_ARTICLE_FILE)\n",
    "            print(f\"\\nProcess complete. '{title}' has been saved and logged in the '{chosen_category_for_folder}' folder.\")\n",
    "    else:\n",
    "        print(\"\\nCould not find a new article to process after multiple attempts.\")"
   ]
  },
  {
   "cell_type": "code",
   "execution_count": 19,
   "id": "54b8073c",
   "metadata": {},
   "outputs": [
    {
     "name": "stdout",
     "output_type": "stream",
     "text": [
      "Set GOOGLE_APPLICATION_CREDENTIALS to: C:\\egyetem\\github-ml\\holocron-generator\\ethereal-smoke-467209-n7-2fa1b578920d.json\n",
      "Google Cloud Text-to-Speech client initialized.\n",
      "Loaded 12 previously generated audio titles.\n",
      "\n",
      "Processing file: ../data/generated_articles\\Arboreal planets\\Mulita.txt\n",
      "'Mulita' has already had audio generated. Skipping.\n",
      "\n",
      "Processing file: ../data/generated_articles\\Arms manufacturing companies\\Antrech Arms.txt\n",
      "'Antrech Arms' has already had audio generated. Skipping.\n",
      "\n",
      "Processing file: ../data/generated_articles\\Battles in 19 BBY\\Mission to Batuu.txt\n",
      "'Mission to Batuu' has already had audio generated. Skipping.\n",
      "\n",
      "Processing file: ../data/generated_articles\\Character stubs\\Eos Morne.txt\n",
      "'Eos Morne' has already had audio generated. Skipping.\n",
      "\n",
      "Processing file: ../data/generated_articles\\Character stubs\\Unidentified Second Prince.txt\n",
      "Sending to Gemini for rephrasing: Unidentified Second Prince\n",
      "Rephrased text saved to '../data/generated_text\\Character stubs\\Unidentified Second Prince_rephrased.txt'.\n",
      "Successfully rephrased 'Unidentified Second Prince'. Now generating audio...\n",
      "Audio content saved to '../data/generated_audio\\Character stubs\\Unidentified Second Prince.mp3'.\n",
      "Audio generation and logging complete for 'Unidentified Second Prince'.\n",
      "\n",
      "Processing file: ../data/generated_articles\\Codes\\Protocol 514.txt\n",
      "Sending to Gemini for rephrasing: Protocol 514\n",
      "Rephrased text saved to '../data/generated_text\\Codes\\Protocol 514_rephrased.txt'.\n",
      "Successfully rephrased 'Protocol 514'. Now generating audio...\n",
      "Audio content saved to '../data/generated_audio\\Codes\\Protocol 514.mp3'.\n",
      "Audio generation and logging complete for 'Protocol 514'.\n",
      "\n",
      "Processing file: ../data/generated_articles\\Diplomatic events\\Thirteenth Imperial Diplomatic Conclave.txt\n",
      "'Thirteenth Imperial Diplomatic Conclave' has already had audio generated. Skipping.\n",
      "\n",
      "Processing file: ../data/generated_articles\\Diseases and maladies\\Spice withdrawal.txt\n",
      "'Spice withdrawal' has already had audio generated. Skipping.\n",
      "\n",
      "Processing file: ../data/generated_articles\\Herdessa sector locations\\Cificap VIII.txt\n",
      "'Cificap VIII' has already had audio generated. Skipping.\n",
      "\n",
      "Processing file: ../data/generated_articles\\Koradin sector locations\\Kovor system_Legends.txt\n",
      "Sending to Gemini for rephrasing: Kovor system/Legends\n",
      "Rephrased text saved to '../data/generated_text\\Koradin sector locations\\Kovor system_Legends_rephrased.txt'.\n",
      "Successfully rephrased 'Kovor system/Legends'. Now generating audio...\n",
      "Audio content saved to '../data/generated_audio\\Koradin sector locations\\Kovor system_Legends.mp3'.\n",
      "Audio generation and logging complete for 'Kovor system/Legends'.\n",
      "\n",
      "Processing file: ../data/generated_articles\\Meirm Speeder Emporium products\\Iguana (speeder bike).txt\n",
      "'Iguana (speeder bike)' has already had audio generated. Skipping.\n",
      "\n",
      "Processing file: ../data/generated_articles\\Rocks\\Sandstone.txt\n",
      "'Sandstone' has already had audio generated. Skipping.\n",
      "\n",
      "Processing file: ../data/generated_articles\\Science stubs\\Kilogram.txt\n",
      "Sending to Gemini for rephrasing: Kilogram\n",
      "Rephrased text saved to '../data/generated_text\\Science stubs\\Kilogram_rephrased.txt'.\n",
      "Successfully rephrased 'Kilogram'. Now generating audio...\n",
      "Audio content saved to '../data/generated_audio\\Science stubs\\Kilogram.mp3'.\n",
      "Audio generation and logging complete for 'Kilogram'.\n",
      "\n",
      "Processing file: ../data/generated_articles\\Songs\\What Mamma Doesn't Know.txt\n",
      "'What Mamma Doesn't Know' has already had audio generated. Skipping.\n",
      "\n",
      "--- Processing complete. ---\n"
     ]
    }
   ],
   "source": [
    "### AI STUFF ###\n",
    "import os\n",
    "import re\n",
    "from dotenv import load_dotenv\n",
    "import google.generativeai as genai\n",
    "from google.cloud import texttospeech # Import WaveNet library\n",
    "\n",
    "# --- Gemini Configuration ---\n",
    "load_dotenv()\n",
    "gemini_api_key = os.getenv(\"GEMINI_API_KEY\")\n",
    "if gemini_api_key is None:\n",
    "    raise ValueError(\"GEMINI_API_KEY not found in environment variables. \"\n",
    "                     \"Please set it in a .env file or as an environment variable.\")\n",
    "\n",
    "# --- Google Cloud Text-to-Speech Configuration ---\n",
    "# Get the path to the JSON key from .env\n",
    "google_app_credentials_path = os.getenv(\"GOOGLE_APPLICATION_CREDENTIALS\")\n",
    "if google_app_credentials_path is None:\n",
    "    raise ValueError(\"GOOGLE_APPLICATION_CREDENTIALS not found in environment variables. \"\n",
    "                     \"Please set it in a .env file or as an environment variable.\")\n",
    "\n",
    "# IMPORTANT: Explicitly set the environment variable for Google Cloud libraries\n",
    "os.environ[\"GOOGLE_APPLICATION_CREDENTIALS\"] = google_app_credentials_path\n",
    "print(f\"Set GOOGLE_APPLICATION_CREDENTIALS to: {os.environ['GOOGLE_APPLICATION_CREDENTIALS']}\")\n",
    "\n",
    "# --- Initialize Gemini API client ---\n",
    "genai.configure(api_key=gemini_api_key)\n",
    "model = genai.GenerativeModel('gemini-1.5-flash') # Recommended for quick text tasks\n",
    "\n",
    "# --- Initialize Google Cloud Text-to-Speech Client ---\n",
    "try:\n",
    "    tts_client = texttospeech.TextToSpeechClient()\n",
    "    print(\"Google Cloud Text-to-Speech client initialized.\")\n",
    "except Exception as e:\n",
    "    # Adding a check here to ensure the file exists at the set path\n",
    "    if not os.path.exists(google_app_credentials_path):\n",
    "        raise RuntimeError(f\"Failed to initialize Google Cloud Text-to-Speech client. \"\n",
    "                           f\"The JSON key file was NOT found at the specified path: {google_app_credentials_path}. \"\n",
    "                           f\"Error: {e}\")\n",
    "    else:\n",
    "        raise RuntimeError(f\"Failed to initialize Google Cloud Text-to-Speech client. \"\n",
    "                           f\"Ensure GOOGLE_APPLICATION_CREDENTIALS is set correctly and the JSON file exists: {e}\")\n",
    "\n",
    "\n",
    "# --- File Paths ---\n",
    "BASE_ARTICLE_DIRECTORY = \"../data/generated_articles\"\n",
    "TRACKING_ARTICLE_FILE = \"../data/generated_articles.log\"\n",
    "\n",
    "# Path for saving the generated text\n",
    "GENERATED_TEXT_DIRECTORY = \"../data/generated_text\"\n",
    "\n",
    "# Voice generation specific paths\n",
    "VOICE_SAVE_DIRECTORY = \"../data/generated_audio\"\n",
    "TRACKING_VOICE_FILE = \"../data/generated_voice.log\" # Tracks which articles have had voice generated\n",
    "\n",
    "# --- Helper Functions ---\n",
    "\n",
    "# 1. Function to get previously processed voice titles\n",
    "def get_processed_voice_titles(tracking_file):\n",
    "    \"\"\"Reads the voice tracking file and returns a set of titles already processed for voice.\"\"\"\n",
    "    if not os.path.exists(tracking_file):\n",
    "        return set()\n",
    "    with open(tracking_file, 'r', encoding='utf-8') as f:\n",
    "        return set(line.strip() for line in f)\n",
    "\n",
    "# 2. Function to log a newly processed voice title\n",
    "def log_processed_voice_title(title, tracking_file):\n",
    "    \"\"\"Appends a new title to the voice tracking file.\"\"\"\n",
    "    with open(tracking_file, 'a', encoding='utf-8') as f:\n",
    "        f.write(title + '\\n')\n",
    "\n",
    "# 3. Function to parse a saved article file into its components\n",
    "def parse_article_file(filepath):\n",
    "    \"\"\"\n",
    "    Parses a saved article file into its components.\n",
    "    Returns (title, main_content_for_gemini, images_part)\n",
    "    \"\"\"\n",
    "    title = \"\"\n",
    "    main_content_lines = []\n",
    "    table_content_lines = []\n",
    "    appearances_content_lines = []\n",
    "    images_part = \"\"\n",
    "\n",
    "    current_section = None\n",
    "    with open(filepath, 'r', encoding='utf-8') as f:\n",
    "        for line in f:\n",
    "            line = line.strip()\n",
    "            if line.startswith(\"Title:\"):\n",
    "                title = line[len(\"Title:\"):].strip()\n",
    "                current_section = None # Reset after title\n",
    "            elif line.startswith(\"Main:\"):\n",
    "                current_section = \"Main\"\n",
    "                main_content_lines.append(line[len(\"Main:\"):].strip())\n",
    "            elif line.startswith(\"Table:\"):\n",
    "                current_section = \"Table\"\n",
    "                table_content_lines.append(line[len(\"Table:\"):].strip())\n",
    "            elif line.startswith(\"Appearances:\"):\n",
    "                current_section = \"Appearances\"\n",
    "                appearances_content_lines.append(line[len(\"Appearances:\"):].strip())\n",
    "            elif line.startswith(\"Images:\"):\n",
    "                current_section = \"Images\"\n",
    "                images_part = line[len(\"Images:\"):].strip()\n",
    "            elif current_section: # Append to current section if continuation line\n",
    "                if current_section == \"Main\":\n",
    "                    main_content_lines.append(line)\n",
    "                elif current_section == \"Table\":\n",
    "                    table_content_lines.append(line)\n",
    "                elif current_section == \"Appearances\":\n",
    "                    appearances_content_lines.append(line)\n",
    "    \n",
    "    # Concatenate content for Gemini\n",
    "    gemini_input_parts = []\n",
    "    if title:\n",
    "        gemini_input_parts.append(f\"Title: {title}\")\n",
    "    if main_content_lines:\n",
    "        gemini_input_parts.append(f\"Main: {' '.join(main_content_lines)}\")\n",
    "    if table_content_lines:\n",
    "        gemini_input_parts.append(f\"Table: {' '.join(table_content_lines)}\")\n",
    "    if appearances_content_lines:\n",
    "        gemini_input_parts.append(f\"Appearances: {' '.join(appearances_content_lines)}\")\n",
    "        \n",
    "    content_for_gemini = \"\\n\".join(gemini_input_parts)\n",
    "\n",
    "    return title, content_for_gemini, images_part\n",
    "\n",
    "# 4. Function to rephrase text using Gemini API\n",
    "def rephrase_with_gemini(text_to_rephrase):\n",
    "    \"\"\"\n",
    "    Sends text to Gemini API for rephrasing.\n",
    "    \"\"\"\n",
    "    prompt = f\"Rephrase the following Star Wars Wookieepedia article content in an engaging, concise, and informative way, suitable for a narration. Focus on the core facts and avoid phrases like 'this article describes' or 'the content above':\\n\\n{text_to_rephrase}\"\n",
    "    \n",
    "    try:\n",
    "        response = model.generate_content(prompt)\n",
    "        if response.parts and response.parts[0].text:\n",
    "            return response.parts[0].text\n",
    "        else:\n",
    "            print(f\"Gemini response was empty or malformed for text: {text_to_rephrase[:100]}...\")\n",
    "            return None\n",
    "    except Exception as e:\n",
    "        print(f\"Error calling Gemini API: {e}\")\n",
    "        return None\n",
    "\n",
    "# 5. Function to save the rephrased text for subtitles\n",
    "def save_rephrased_text_for_subtitles(rephrased_text, original_title, category_folder):\n",
    "    \"\"\"\n",
    "    Saves the rephrased text to a new file in the generated_text directory,\n",
    "    under a category-specific subfolder.\n",
    "    \"\"\"\n",
    "    # Sanitize category_folder to be safe for a directory name\n",
    "    sanitized_category_folder = re.sub(r'[\\\\/*?:\"<>|]', \"\", category_folder).strip()\n",
    "    if not sanitized_category_folder:\n",
    "        sanitized_category_folder = \"Uncategorized_Text\"\n",
    "\n",
    "    target_directory = os.path.join(GENERATED_TEXT_DIRECTORY, sanitized_category_folder)\n",
    "    os.makedirs(target_directory, exist_ok=True) # Ensure the directory exists\n",
    "\n",
    "    sanitized_title = re.sub(r'[\\\\/*?:\"<>|]', \"\", original_title.replace('/', '_'))\n",
    "    filename = os.path.join(target_directory, f\"{sanitized_title}_rephrased.txt\")\n",
    "\n",
    "    try:\n",
    "        with open(filename, 'w', encoding='utf-8') as f:\n",
    "            f.write(rephrased_text)\n",
    "        print(f\"Rephrased text saved to '{filename}'.\")\n",
    "        return True\n",
    "    except Exception as e:\n",
    "        print(f\"Error saving rephrased text for '{original_title}': {e}\")\n",
    "        return False\n",
    "\n",
    "# 6. Function to generate audio using Google Cloud WaveNet\n",
    "def generate_wavenet_audio(text_to_convert, original_title, category_folder):\n",
    "    \"\"\"\n",
    "    Converts text to speech using Google Cloud WaveNet and saves it as an MP3 file.\n",
    "    \"\"\"\n",
    "    # Sanitize category_folder for directory name\n",
    "    sanitized_category_folder = re.sub(r'[\\\\/*?:\"<>|]', \"\", category_folder).strip()\n",
    "    if not sanitized_category_folder:\n",
    "        sanitized_category_folder = \"Uncategorized_Audio\"\n",
    "\n",
    "    target_directory = os.path.join(VOICE_SAVE_DIRECTORY, sanitized_category_folder)\n",
    "    os.makedirs(target_directory, exist_ok=True)\n",
    "\n",
    "    sanitized_title = re.sub(r'[\\\\/*?:\"<>|]', \"\", original_title.replace('/', '_'))\n",
    "    filename = os.path.join(target_directory, f\"{sanitized_title}.mp3\")\n",
    "\n",
    "    synthesis_input = texttospeech.SynthesisInput(text=text_to_convert)\n",
    "\n",
    "    # Select the voice parameters. You can change these!\n",
    "    # Available voices: https://cloud.google.com/text-to-speech/docs/voices\n",
    "    # 'en-US-Wavenet-D' is a common male voice. 'en-US-Wavenet-C' is a common female voice.\n",
    "    voice = texttospeech.VoiceSelectionParams(\n",
    "        language_code=\"en-US\",\n",
    "        name=\"en-US-Wavenet-D\", # Choose your preferred WaveNet voice\n",
    "        ssml_gender=texttospeech.SsmlVoiceGender.MALE # Match gender to voice name\n",
    "    )\n",
    "\n",
    "    audio_config = texttospeech.AudioConfig(\n",
    "        audio_encoding=texttospeech.AudioEncoding.MP3,\n",
    "        speaking_rate=1.0, # Adjust speed if desired (0.25 to 4.0)\n",
    "        pitch=0.0 # Adjust pitch if desired (-20.0 to 20.0)\n",
    "    )\n",
    "\n",
    "    try:\n",
    "        response = tts_client.synthesize_speech(\n",
    "            input=synthesis_input, voice=voice, audio_config=audio_config\n",
    "        )\n",
    "\n",
    "        with open(filename, \"wb\") as out:\n",
    "            out.write(response.audio_content)\n",
    "        print(f\"Audio content saved to '{filename}'.\")\n",
    "        return True\n",
    "    except Exception as e:\n",
    "        print(f\"Error generating WaveNet audio for '{original_title}': {e}\")\n",
    "        return False\n",
    "\n",
    "# --- Main Processing Logic ---\n",
    "if __name__ == \"__main__\":\n",
    "    # Ensure all base output directories exist\n",
    "    os.makedirs(GENERATED_TEXT_DIRECTORY, exist_ok=True)\n",
    "    os.makedirs(VOICE_SAVE_DIRECTORY, exist_ok=True)\n",
    "\n",
    "    processed_voice_titles = get_processed_voice_titles(TRACKING_VOICE_FILE)\n",
    "    print(f\"Loaded {len(processed_voice_titles)} previously generated audio titles.\")\n",
    "\n",
    "    for root, dirs, files in os.walk(BASE_ARTICLE_DIRECTORY):\n",
    "        category_folder = os.path.basename(root) \n",
    "        \n",
    "        # Skip the base directory itself if it's not a category folder\n",
    "        if category_folder == os.path.basename(BASE_ARTICLE_DIRECTORY) and root != BASE_ARTICLE_DIRECTORY:\n",
    "             continue \n",
    "\n",
    "        for filename in files:\n",
    "            if filename.endswith(\".txt\"):\n",
    "                filepath = os.path.join(root, filename)\n",
    "                print(f\"\\nProcessing file: {filepath}\")\n",
    "\n",
    "                original_title, content_for_gemini, images_part = parse_article_file(filepath)\n",
    "\n",
    "                if not original_title:\n",
    "                    print(f\"Could not parse title from {filename}. Skipping.\")\n",
    "                    continue\n",
    "\n",
    "                if original_title in processed_voice_titles:\n",
    "                    print(f\"'{original_title}' has already had audio generated. Skipping.\")\n",
    "                    continue\n",
    "                \n",
    "                if not content_for_gemini.strip():\n",
    "                    print(f\"No substantial text content found for Gemini in '{original_title}'. Skipping.\")\n",
    "                    continue\n",
    "\n",
    "                print(f\"Sending to Gemini for rephrasing: {original_title}\")\n",
    "                rephrased_text = rephrase_with_gemini(content_for_gemini)\n",
    "\n",
    "                if rephrased_text:\n",
    "                    # Save the rephrased text for subtitles\n",
    "                    text_saved = save_rephrased_text_for_subtitles(rephrased_text, original_title, category_folder)\n",
    "                    \n",
    "                    if text_saved:\n",
    "                        print(f\"Successfully rephrased '{original_title}'. Now generating audio...\")\n",
    "                        audio_generated = generate_wavenet_audio(rephrased_text, original_title, category_folder)\n",
    "                        \n",
    "                        if audio_generated:\n",
    "                            log_processed_voice_title(original_title, TRACKING_VOICE_FILE)\n",
    "                            print(f\"Audio generation and logging complete for '{original_title}'.\")\n",
    "                        else:\n",
    "                            print(f\"Audio generation failed for '{original_title}'. Not logging.\")\n",
    "                    else:\n",
    "                        print(f\"Failed to save rephrased text for '{original_title}'. Skipping audio generation.\")\n",
    "                else:\n",
    "                    print(f\"Failed to get rephrased text for '{original_title}'. Skipping text and audio generation.\")\n",
    "    \n",
    "    print(\"\\n--- Processing complete. ---\")"
   ]
  },
  {
   "cell_type": "code",
   "execution_count": 20,
   "id": "8dabf45d",
   "metadata": {},
   "outputs": [
    {
     "name": "stdout",
     "output_type": "stream",
     "text": [
      "Starting forced alignment process...\n",
      "Skipping already processed: Arboreal planets\\Mulita.mp3\n",
      "Skipping already processed: Arboreal planets\\Mulita.wav\n",
      "Skipping already processed: Arms manufacturing companies\\Antrech Arms.mp3\n",
      "Skipping already processed: Arms manufacturing companies\\Antrech Arms.wav\n",
      "Skipping already processed: Battles in 19 BBY\\Mission to Batuu.mp3\n",
      "Skipping already processed: Battles in 19 BBY\\Mission to Batuu.wav\n",
      "Skipping already processed: Character stubs\\Eos Morne.mp3\n",
      "Skipping already processed: Character stubs\\Eos Morne.wav\n",
      "\n",
      "Processing: Audio='../data/generated_audio\\Character stubs\\Unidentified Second Prince.mp3', Text='../data/generated_text\\Character stubs\\Unidentified Second Prince_rephrased.txt'\n",
      "\n",
      "--- Debugging SRT Creation for Unidentified Second Prince.srt ---\n",
      "Total words from alignment: 63\n",
      "  Word 1: 'IN' (Start: 0.000, End: 0.220)\n",
      "  Word 2: 'THE' (Start: 0.240, End: 0.340)\n",
      "  Word 3: 'EMPIRES' (Start: 0.440, End: 0.880)\n",
      "  Word 4: 'TWILIGHT' (Start: 0.941, End: 1.421)\n",
      "  Word 5: 'YEARS' (Start: 1.461, End: 1.781)\n",
      "    Break reason: Word group limit (5) reached.\n",
      "  --- SRT Entry 1 ---\n",
      "    Time: 00:00:00,000 --> 00:00:01,780\n",
      "    Text: \"IN THE EMPIRES TWILIGHT YEARS\"\n",
      "  Word 6: 'A' (Start: 2.121, End: 2.161)\n",
      "  Word 7: 'POWER' (Start: 2.221, End: 2.602)\n",
      "  Word 8: 'STRUGGLE' (Start: 2.642, End: 2.982)\n",
      "  Word 9: 'BREWED' (Start: 3.042, End: 3.282)\n",
      "  Word 10: 'BETWEEN' (Start: 3.302, End: 3.622)\n",
      "    Break reason: Word group limit (5) reached.\n",
      "  --- SRT Entry 2 ---\n",
      "    Time: 00:00:02,121 --> 00:00:03,621\n",
      "    Text: \"A POWER STRUGGLE BREWED BETWEEN\"\n",
      "  Word 11: 'TWO' (Start: 3.702, End: 3.862)\n",
      "  Word 12: 'BROTHERS' (Start: 3.902, End: 4.323)\n",
      "    Break reason: Pause detected (0.480s > 0.3s).\n",
      "  --- SRT Entry 3 ---\n",
      "    Time: 00:00:03,702 --> 00:00:04,323\n",
      "    Text: \"TWO BROTHERS\"\n",
      "  Word 13: 'THE' (Start: 4.803, End: 4.903)\n",
      "  Word 14: 'CROWN' (Start: 4.943, End: 5.263)\n",
      "  Word 15: 'PRINCE' (Start: 5.323, End: 5.643)\n",
      "  Word 16: 'AND' (Start: 5.703, End: 5.784)\n",
      "  Word 17: 'HIS' (Start: 5.824, End: 5.924)\n",
      "    Break reason: Word group limit (5) reached.\n",
      "  --- SRT Entry 4 ---\n",
      "    Time: 00:00:04,802 --> 00:00:05,924\n",
      "    Text: \"THE CROWN PRINCE AND HIS\"\n",
      "  Word 18: 'UNNAMED' (Start: 6.024, End: 6.384)\n",
      "  Word 19: 'YOUNGER' (Start: 6.444, End: 6.724)\n",
      "  Word 20: 'SIBLING' (Start: 6.784, End: 7.184)\n",
      "  Word 21: 'THE' (Start: 7.344, End: 7.425)\n",
      "  Word 22: 'SECOND' (Start: 7.465, End: 7.785)\n",
      "    Break reason: Word group limit (5) reached.\n",
      "  --- SRT Entry 5 ---\n",
      "    Time: 00:00:06,024 --> 00:00:07,785\n",
      "    Text: \"UNNAMED YOUNGER SIBLING THE SECOND\"\n",
      "  Word 23: 'PRINCE' (Start: 7.825, End: 8.165)\n",
      "    Break reason: Pause detected (0.901s > 0.3s).\n",
      "  --- SRT Entry 6 ---\n",
      "    Time: 00:00:07,825 --> 00:00:08,164\n",
      "    Text: \"PRINCE\"\n",
      "  Word 24: 'BOTH' (Start: 9.066, End: 9.286)\n",
      "  Word 25: 'PREPARED' (Start: 9.346, End: 9.746)\n",
      "  Word 26: 'FOR' (Start: 9.806, End: 9.926)\n",
      "  Word 27: 'A' (Start: 9.966, End: 10.006)\n",
      "  Word 28: 'DEADLY' (Start: 10.086, End: 10.426)\n",
      "    Break reason: Word group limit (5) reached.\n",
      "  --- SRT Entry 7 ---\n",
      "    Time: 00:00:09,066 --> 00:00:10,426\n",
      "    Text: \"BOTH PREPARED FOR A DEADLY\"\n",
      "  Word 29: 'SUCCESSION' (Start: 10.486, End: 11.047)\n",
      "  Word 30: 'BATTLE' (Start: 11.107, End: 11.407)\n",
      "  Word 31: 'AS' (Start: 11.467, End: 11.547)\n",
      "  Word 32: 'THEIR' (Start: 11.567, End: 11.727)\n",
      "  Word 33: 'FATHER' (Start: 11.747, End: 12.127)\n",
      "    Break reason: Word group limit (5) reached.\n",
      "  --- SRT Entry 8 ---\n",
      "    Time: 00:00:10,486 --> 00:00:12,127\n",
      "    Text: \"SUCCESSION BATTLE AS THEIR FATHER\"\n",
      "  Word 34: 'THE' (Start: 12.307, End: 12.428)\n",
      "  Word 35: 'EMPEROR' (Start: 12.508, End: 12.868)\n",
      "  Word 36: 'NEARED' (Start: 13.008, End: 13.228)\n",
      "  Word 37: 'HIS' (Start: 13.268, End: 13.388)\n",
      "  Word 38: 'END' (Start: 13.508, End: 13.668)\n",
      "    Break reason: Word group limit (5) reached.\n",
      "  --- SRT Entry 9 ---\n",
      "    Time: 00:00:12,307 --> 00:00:13,667\n",
      "    Text: \"THE EMPEROR NEARED HIS END\"\n",
      "  Word 39: 'THIS' (Start: 14.469, End: 14.629)\n",
      "  Word 40: 'SHADOWY' (Start: 14.729, End: 15.189)\n",
      "  Word 41: 'FIGURE' (Start: 15.269, End: 15.610)\n",
      "    Break reason: Pause detected (0.340s > 0.3s).\n",
      "  --- SRT Entry 10 ---\n",
      "    Time: 00:00:14,468 --> 00:00:15,609\n",
      "    Text: \"THIS SHADOWY FIGURE\"\n",
      "  Word 42: 'ONLY' (Start: 15.950, End: 16.170)\n",
      "  Word 43: 'GLIMPSED' (Start: 16.230, End: 16.570)\n",
      "  Word 44: 'IN' (Start: 16.650, End: 16.730)\n",
      "  Word 45: 'EMMA' (Start: 16.830, End: 16.990)\n",
      "  Word 46: 'MIEKO' (Start: 17.050, End: 17.411)\n",
      "    Break reason: Word group limit (5) reached.\n",
      "  --- SRT Entry 11 ---\n",
      "    Time: 00:00:15,949 --> 00:00:17,411\n",
      "    Text: \"ONLY GLIMPSED IN EMMA MIEKO\"\n",
      "  Word 47: 'CANDONS' (Start: 17.491, End: 17.911)\n",
      "    Break reason: Pause detected (0.600s > 0.3s).\n",
      "  --- SRT Entry 12 ---\n",
      "    Time: 00:00:17,490 --> 00:00:17,911\n",
      "    Text: \"CANDONS\"\n",
      "  Word 48: 'RONIN' (Start: 18.511, End: 18.852)\n",
      "    Break reason: Pause detected (0.560s > 0.3s).\n",
      "  --- SRT Entry 13 ---\n",
      "    Time: 00:00:18,510 --> 00:00:18,852\n",
      "    Text: \"RONIN\"\n",
      "  Word 49: 'A' (Start: 19.412, End: 19.472)\n",
      "  Word 50: 'VISIONS' (Start: 19.512, End: 19.912)\n",
      "  Word 51: 'NOVEL' (Start: 19.972, End: 20.272)\n",
      "    Break reason: Pause detected (1.001s > 0.3s).\n",
      "  --- SRT Entry 14 ---\n",
      "    Time: 00:00:19,411 --> 00:00:20,271\n",
      "    Text: \"A VISIONS NOVEL\"\n",
      "  Word 52: 'REMAINS' (Start: 21.273, End: 21.573)\n",
      "  Word 53: 'A' (Start: 21.633, End: 21.673)\n",
      "  Word 54: 'MYSTERY' (Start: 21.713, End: 22.174)\n",
      "    Break reason: Pause detected (0.340s > 0.3s).\n",
      "  --- SRT Entry 15 ---\n",
      "    Time: 00:00:21,272 --> 00:00:22,173\n",
      "    Text: \"REMAINS A MYSTERY\"\n",
      "  Word 55: 'YET' (Start: 22.514, End: 22.654)\n",
      "  Word 56: 'HIS' (Start: 22.694, End: 22.814)\n",
      "  Word 57: 'AMBITION' (Start: 22.934, End: 23.394)\n",
      "  Word 58: 'FOR' (Start: 23.434, End: 23.534)\n",
      "  Word 59: 'THE' (Start: 23.574, End: 23.654)\n",
      "    Break reason: Word group limit (5) reached.\n",
      "  --- SRT Entry 16 ---\n",
      "    Time: 00:00:22,513 --> 00:00:23,653\n",
      "    Text: \"YET HIS AMBITION FOR THE\"\n",
      "  Word 60: 'IMPERIAL' (Start: 23.715, End: 24.215)\n",
      "  Word 61: 'THRONE' (Start: 24.275, End: 24.575)\n",
      "  Word 62: 'IS' (Start: 24.635, End: 24.715)\n",
      "  Word 63: 'UNDENIABLE' (Start: 24.795, End: 25.416)\n",
      "    Break reason: Last word.\n",
      "  --- SRT Entry 17 ---\n",
      "    Time: 00:00:23,714 --> 00:00:25,416\n",
      "    Text: \"IMPERIAL THRONE IS UNDENIABLE\"\n",
      "\n",
      "Generated SRT: ../data/generated_transcripts\\Character stubs\\Unidentified Second Prince.srt\n",
      "\n",
      "Processing: Audio='../data/generated_audio\\Codes\\Protocol 514.mp3', Text='../data/generated_text\\Codes\\Protocol 514_rephrased.txt'\n",
      "\n",
      "--- Debugging SRT Creation for Protocol 514.srt ---\n",
      "Total words from alignment: 59\n",
      "  Word 1: 'ON' (Start: 0.000, End: 0.220)\n",
      "  Word 2: 'THE' (Start: 0.240, End: 0.360)\n",
      "  Word 3: 'REMOTE' (Start: 0.400, End: 0.700)\n",
      "  Word 4: 'PLANET' (Start: 0.780, End: 1.120)\n",
      "  Word 5: 'CORE' (Start: 1.200, End: 2.361)\n",
      "    Break reason: Word group limit (5) reached.\n",
      "  --- SRT Entry 1 ---\n",
      "    Time: 00:00:00,000 --> 00:00:02,361\n",
      "    Text: \"ON THE REMOTE PLANET CORE\"\n",
      "  Word 6: 'TORROBO' (Start: 2.701, End: 3.541)\n",
      "  Word 7: 'INDUSTRIES' (Start: 3.622, End: 4.122)\n",
      "  Word 8: 'SECRETLY' (Start: 4.222, End: 4.702)\n",
      "  Word 9: 'ACTIVATED' (Start: 4.822, End: 5.302)\n",
      "  Word 10: 'PROTOCOL' (Start: 5.422, End: 5.982)\n",
      "    Break reason: Word group limit (5) reached.\n",
      "  --- SRT Entry 2 ---\n",
      "    Time: 00:00:02,701 --> 00:00:05,982\n",
      "    Text: \"TORROBO INDUSTRIES SECRETLY ACTIVATED PROTOCOL\"\n",
      "  Word 11: 'THIS' (Start: 6.843, End: 8.063)\n",
      "  Word 12: 'DRASTIC' (Start: 8.143, End: 8.644)\n",
      "  Word 13: 'MEASURE' (Start: 8.724, End: 9.064)\n",
      "  Word 14: 'WIPED' (Start: 9.144, End: 9.384)\n",
      "  Word 15: 'THE' (Start: 9.444, End: 9.524)\n",
      "    Break reason: Word group limit (5) reached.\n",
      "  --- SRT Entry 3 ---\n",
      "    Time: 00:00:06,843 --> 00:00:09,523\n",
      "    Text: \"THIS DRASTIC MEASURE WIPED THE\"\n",
      "  Word 16: 'MEMORIES' (Start: 9.564, End: 9.944)\n",
      "  Word 17: 'OF' (Start: 10.004, End: 10.064)\n",
      "  Word 18: 'EVERY' (Start: 10.184, End: 10.404)\n",
      "  Word 19: 'DROID' (Start: 10.444, End: 10.805)\n",
      "  Word 20: 'IN' (Start: 10.845, End: 10.905)\n",
      "    Break reason: Word group limit (5) reached.\n",
      "  --- SRT Entry 4 ---\n",
      "    Time: 00:00:09,564 --> 00:00:10,904\n",
      "    Text: \"MEMORIES OF EVERY DROID IN\"\n",
      "  Word 21: 'THEIR' (Start: 10.945, End: 11.085)\n",
      "  Word 22: 'PROCESSING' (Start: 11.145, End: 11.705)\n",
      "  Word 23: 'CENTER' (Start: 11.765, End: 13.266)\n",
      "    Break reason: Pause detected (0.780s > 0.3s).\n",
      "  --- SRT Entry 5 ---\n",
      "    Time: 00:00:10,945 --> 00:00:13,266\n",
      "    Text: \"THEIR PROCESSING CENTER\"\n",
      "  Word 24: 'WHY' (Start: 14.046, End: 14.326)\n",
      "  Word 25: 'TO' (Start: 14.606, End: 14.706)\n",
      "  Word 26: 'COVER' (Start: 14.766, End: 15.026)\n",
      "  Word 27: 'UP' (Start: 15.086, End: 15.166)\n",
      "  Word 28: 'A' (Start: 15.206, End: 15.246)\n",
      "    Break reason: Word group limit (5) reached.\n",
      "  --- SRT Entry 6 ---\n",
      "    Time: 00:00:14,045 --> 00:00:15,246\n",
      "    Text: \"WHY TO COVER UP A\"\n",
      "  Word 29: 'SMUGGLING' (Start: 15.326, End: 15.767)\n",
      "  Word 30: 'OPERATION' (Start: 15.867, End: 16.407)\n",
      "  Word 31: 'INVOLVING' (Start: 16.467, End: 16.887)\n",
      "  Word 32: 'VALUABLE' (Start: 16.967, End: 17.507)\n",
      "  Word 33: 'TOLTYPE' (Start: 17.627, End: 18.448)\n",
      "    Break reason: Word group limit (5) reached.\n",
      "  --- SRT Entry 7 ---\n",
      "    Time: 00:00:15,326 --> 00:00:18,448\n",
      "    Text: \"SMUGGLING OPERATION INVOLVING VALUABLE TOLTYPE\"\n",
      "  Word 34: 'ORE' (Start: 18.588, End: 18.748)\n",
      "  Word 35: 'AND' (Start: 18.868, End: 18.948)\n",
      "  Word 36: 'A' (Start: 19.008, End: 19.068)\n",
      "  Word 37: 'BREACHED' (Start: 19.128, End: 19.428)\n",
      "  Word 38: 'PROFITSHARING' (Start: 19.528, End: 20.268)\n",
      "    Break reason: Word group limit (5) reached.\n",
      "  --- SRT Entry 8 ---\n",
      "    Time: 00:00:18,588 --> 00:00:20,268\n",
      "    Text: \"ORE AND A BREACHED PROFITSHARING\"\n",
      "  Word 39: 'AGREEMENT' (Start: 20.328, End: 20.729)\n",
      "  Word 40: 'WITH' (Start: 20.769, End: 20.909)\n",
      "  Word 41: 'OTHER' (Start: 20.969, End: 21.129)\n",
      "  Word 42: 'COMPANIES' (Start: 21.189, End: 21.649)\n",
      "    Break reason: Pause detected (0.840s > 0.3s).\n",
      "  --- SRT Entry 9 ---\n",
      "    Time: 00:00:20,327 --> 00:00:21,649\n",
      "    Text: \"AGREEMENT WITH OTHER COMPANIES\"\n",
      "  Word 43: 'THE' (Start: 22.489, End: 22.590)\n",
      "  Word 44: 'DESPERATE' (Start: 22.649, End: 23.090)\n",
      "  Word 45: 'ACT' (Start: 23.230, End: 23.370)\n",
      "  Word 46: 'WAS' (Start: 23.410, End: 23.550)\n",
      "  Word 47: 'REVEALED' (Start: 23.610, End: 23.970)\n",
      "    Break reason: Word group limit (5) reached.\n",
      "  --- SRT Entry 10 ---\n",
      "    Time: 00:00:22,489 --> 00:00:23,969\n",
      "    Text: \"THE DESPERATE ACT WAS REVEALED\"\n",
      "  Word 48: 'IN' (Start: 24.010, End: 24.070)\n",
      "  Word 49: 'THE' (Start: 24.110, End: 24.190)\n",
      "  Word 50: 'THRILLING' (Start: 24.230, End: 24.590)\n",
      "  Word 51: 'EVENTS' (Start: 24.650, End: 24.951)\n",
      "  Word 52: 'OF' (Start: 25.030, End: 25.090)\n",
      "    Break reason: Word group limit (5) reached.\n",
      "  --- SRT Entry 11 ---\n",
      "    Time: 00:00:24,010 --> 00:00:25,089\n",
      "    Text: \"IN THE THRILLING EVENTS OF\"\n",
      "  Word 53: 'IMMINENT' (Start: 25.331, End: 25.671)\n",
      "  Word 54: 'IMPACT' (Start: 25.771, End: 26.231)\n",
      "  Word 55: 'SET' (Start: 26.491, End: 26.651)\n",
      "  Word 56: 'IN' (Start: 26.691, End: 26.751)\n",
      "  Word 57: 'THE' (Start: 26.771, End: 26.871)\n",
      "    Break reason: Word group limit (5) reached.\n",
      "  --- SRT Entry 12 ---\n",
      "    Time: 00:00:25,330 --> 00:00:26,870\n",
      "    Text: \"IMMINENT IMPACT SET IN THE\"\n",
      "  Word 58: 'UNKNOWN' (Start: 26.951, End: 27.251)\n",
      "  Word 59: 'REGIONS' (Start: 27.311, End: 27.712)\n",
      "    Break reason: Last word.\n",
      "  --- SRT Entry 13 ---\n",
      "    Time: 00:00:26,951 --> 00:00:27,711\n",
      "    Text: \"UNKNOWN REGIONS\"\n",
      "\n",
      "Generated SRT: ../data/generated_transcripts\\Codes\\Protocol 514.srt\n",
      "Skipping already processed: Diplomatic events\\Thirteenth Imperial Diplomatic Conclave.mp3\n",
      "Skipping already processed: Diplomatic events\\Thirteenth Imperial Diplomatic Conclave.wav\n",
      "Skipping already processed: Diseases and maladies\\Spice withdrawal.mp3\n",
      "Skipping already processed: Diseases and maladies\\Spice withdrawal.wav\n",
      "Skipping already processed: Herdessa sector locations\\Cificap VIII.mp3\n",
      "Skipping already processed: Herdessa sector locations\\Cificap VIII.wav\n",
      "\n",
      "Processing: Audio='../data/generated_audio\\Koradin sector locations\\Kovor system_Legends.mp3', Text='../data/generated_text\\Koradin sector locations\\Kovor system_Legends_rephrased.txt'\n",
      "\n",
      "--- Debugging SRT Creation for Kovor system_Legends.srt ---\n",
      "Total words from alignment: 45\n",
      "  Word 1: 'DEEP' (Start: 0.000, End: 0.420)\n",
      "  Word 2: 'IN' (Start: 0.460, End: 0.520)\n",
      "  Word 3: 'THE' (Start: 0.560, End: 0.660)\n",
      "  Word 4: 'OUTER' (Start: 0.760, End: 0.981)\n",
      "  Word 5: 'RIM' (Start: 1.041, End: 1.241)\n",
      "    Break reason: Word group limit (5) reached.\n",
      "  --- SRT Entry 1 ---\n",
      "    Time: 00:00:00,000 --> 00:00:01,241\n",
      "    Text: \"DEEP IN THE OUTER RIM\"\n",
      "  Word 6: 'TERRITORIES' (Start: 1.281, End: 1.921)\n",
      "  Word 7: 'NESTLED' (Start: 2.162, End: 2.522)\n",
      "  Word 8: 'WITHIN' (Start: 2.542, End: 2.762)\n",
      "  Word 9: 'THE' (Start: 2.782, End: 2.862)\n",
      "  Word 10: 'KORADIN' (Start: 2.922, End: 3.362)\n",
      "    Break reason: Word group limit (5) reached.\n",
      "  --- SRT Entry 2 ---\n",
      "    Time: 00:00:01,280 --> 00:00:03,362\n",
      "    Text: \"TERRITORIES NESTLED WITHIN THE KORADIN\"\n",
      "  Word 11: 'SECTOR' (Start: 3.402, End: 3.763)\n",
      "  Word 12: 'LIES' (Start: 3.903, End: 4.143)\n",
      "  Word 13: 'THE' (Start: 4.183, End: 4.263)\n",
      "  Word 14: 'KOVOR' (Start: 4.303, End: 4.663)\n",
      "  Word 15: 'SYSTEM' (Start: 4.703, End: 5.064)\n",
      "    Break reason: Word group limit (5) reached.\n",
      "  --- SRT Entry 3 ---\n",
      "    Time: 00:00:03,402 --> 00:00:05,064\n",
      "    Text: \"SECTOR LIES THE KOVOR SYSTEM\"\n",
      "  Word 16: 'THIS' (Start: 5.824, End: 6.004)\n",
      "  Word 17: 'REMOTE' (Start: 6.104, End: 6.424)\n",
      "  Word 18: 'SYSTEM' (Start: 6.505, End: 6.865)\n",
      "  Word 19: 'BOASTS' (Start: 6.945, End: 7.225)\n",
      "  Word 20: 'A' (Start: 7.285, End: 7.325)\n",
      "    Break reason: Word group limit (5) reached.\n",
      "  --- SRT Entry 4 ---\n",
      "    Time: 00:00:05,823 --> 00:00:07,325\n",
      "    Text: \"THIS REMOTE SYSTEM BOASTS A\"\n",
      "  Word 21: 'SINGLE' (Start: 7.405, End: 7.745)\n",
      "  Word 22: 'KNOWN' (Start: 7.785, End: 8.006)\n",
      "  Word 23: 'PLANET' (Start: 8.066, End: 8.446)\n",
      "  Word 24: 'KOVOR' (Start: 8.646, End: 9.006)\n",
      "  Word 25: 'ITSELF' (Start: 9.046, End: 9.427)\n",
      "    Break reason: Word group limit (5) reached.\n",
      "  --- SRT Entry 5 ---\n",
      "    Time: 00:00:07,405 --> 00:00:09,426\n",
      "    Text: \"SINGLE KNOWN PLANET KOVOR ITSELF\"\n",
      "  Word 26: 'A' (Start: 9.707, End: 9.747)\n",
      "  Word 27: 'WORLD' (Start: 9.807, End: 10.087)\n",
      "  Word 28: 'THAT' (Start: 10.127, End: 10.247)\n",
      "  Word 29: 'FEATURES' (Start: 10.307, End: 10.667)\n",
      "  Word 30: 'IN' (Start: 10.727, End: 10.787)\n",
      "    Break reason: Word group limit (5) reached.\n",
      "  --- SRT Entry 6 ---\n",
      "    Time: 00:00:09,707 --> 00:00:10,787\n",
      "    Text: \"A WORLD THAT FEATURES IN\"\n",
      "  Word 31: 'THE' (Start: 10.828, End: 10.888)\n",
      "  Word 32: 'STAR' (Start: 10.948, End: 11.188)\n",
      "  Word 33: 'WARS' (Start: 11.228, End: 11.548)\n",
      "    Break reason: Pause detected (0.300s > 0.3s).\n",
      "  --- SRT Entry 7 ---\n",
      "    Time: 00:00:10,827 --> 00:00:11,548\n",
      "    Text: \"THE STAR WARS\"\n",
      "  Word 34: 'THE' (Start: 11.848, End: 11.948)\n",
      "  Word 35: 'OLD' (Start: 12.028, End: 12.168)\n",
      "  Word 36: 'REPUBLIC' (Start: 12.229, End: 12.709)\n",
      "  Word 37: 'GAME' (Start: 12.749, End: 12.989)\n",
      "    Break reason: Pause detected (0.801s > 0.3s).\n",
      "  --- SRT Entry 8 ---\n",
      "    Time: 00:00:11,848 --> 00:00:12,989\n",
      "    Text: \"THE OLD REPUBLIC GAME\"\n",
      "  Word 38: 'ITS' (Start: 13.790, End: 13.890)\n",
      "  Word 39: 'LOCATION' (Start: 13.950, End: 14.470)\n",
      "  Word 40: 'IS' (Start: 14.530, End: 14.610)\n",
      "  Word 41: 'PINPOINTED' (Start: 14.690, End: 15.291)\n",
      "  Word 42: 'AT' (Start: 15.351, End: 15.411)\n",
      "    Break reason: Word group limit (5) reached.\n",
      "  --- SRT Entry 9 ---\n",
      "    Time: 00:00:13,789 --> 00:00:15,410\n",
      "    Text: \"ITS LOCATION IS PINPOINTED AT\"\n",
      "  Word 43: 'GRID' (Start: 15.471, End: 15.731)\n",
      "  Word 44: 'SQUARE' (Start: 15.771, End: 16.091)\n",
      "    Break reason: Pause detected (0.320s > 0.3s).\n",
      "  --- SRT Entry 10 ---\n",
      "    Time: 00:00:15,471 --> 00:00:16,091\n",
      "    Text: \"GRID SQUARE\"\n",
      "  Word 45: 'I' (Start: 16.411, End: 16.892)\n",
      "    Break reason: Last word.\n",
      "  --- SRT Entry 11 ---\n",
      "    Time: 00:00:16,411 --> 00:00:16,891\n",
      "    Text: \"I\"\n",
      "\n",
      "Generated SRT: ../data/generated_transcripts\\Koradin sector locations\\Kovor system_Legends.srt\n",
      "Skipping already processed: Meirm Speeder Emporium products\\Iguana (speeder bike).mp3\n",
      "Skipping already processed: Meirm Speeder Emporium products\\Iguana (speeder bike).wav\n",
      "Skipping already processed: Rocks\\Sandstone.mp3\n",
      "Skipping already processed: Rocks\\Sandstone.wav\n",
      "\n",
      "Processing: Audio='../data/generated_audio\\Science stubs\\Kilogram.mp3', Text='../data/generated_text\\Science stubs\\Kilogram_rephrased.txt'\n",
      "\n",
      "--- Debugging SRT Creation for Kilogram.srt ---\n",
      "Total words from alignment: 56\n",
      "  Word 1: 'IN' (Start: 0.000, End: 0.220)\n",
      "  Word 2: 'THE' (Start: 0.240, End: 0.340)\n",
      "  Word 3: 'STAR' (Start: 0.400, End: 0.661)\n",
      "  Word 4: 'WARS' (Start: 0.701, End: 0.981)\n",
      "  Word 5: 'GALAXY' (Start: 1.021, End: 1.601)\n",
      "    Break reason: Word group limit (5) reached.\n",
      "  --- SRT Entry 1 ---\n",
      "    Time: 00:00:00,000 --> 00:00:01,601\n",
      "    Text: \"IN THE STAR WARS GALAXY\"\n",
      "  Word 6: 'THE' (Start: 1.782, End: 1.882)\n",
      "  Word 7: 'KILOGRAM' (Start: 1.942, End: 2.542)\n",
      "  Word 8: 'OR' (Start: 2.682, End: 2.762)\n",
      "  Word 9: 'KG' (Start: 2.822, End: 3.383)\n",
      "  Word 10: 'MEASURES' (Start: 3.543, End: 3.883)\n",
      "    Break reason: Word group limit (5) reached.\n",
      "  --- SRT Entry 2 ---\n",
      "    Time: 00:00:01,782 --> 00:00:03,883\n",
      "    Text: \"THE KILOGRAM OR KG MEASURES\"\n",
      "  Word 11: 'MASS' (Start: 3.963, End: 4.324)\n",
      "    Break reason: Pause detected (0.820s > 0.3s).\n",
      "  --- SRT Entry 3 ---\n",
      "    Time: 00:00:03,963 --> 00:00:04,323\n",
      "    Text: \"MASS\"\n",
      "  Word 12: 'WE' (Start: 5.144, End: 5.245)\n",
      "  Word 13: 'KNOW' (Start: 5.285, End: 5.485)\n",
      "  Word 14: 'FOR' (Start: 5.665, End: 5.765)\n",
      "  Word 15: 'INSTANCE' (Start: 5.845, End: 6.245)\n",
      "  Word 16: 'THAT' (Start: 6.466, End: 6.606)\n",
      "    Break reason: Word group limit (5) reached.\n",
      "  --- SRT Entry 4 ---\n",
      "    Time: 00:00:05,144 --> 00:00:06,605\n",
      "    Text: \"WE KNOW FOR INSTANCE THAT\"\n",
      "  Word 17: 'A' (Start: 6.646, End: 6.686)\n",
      "  Word 18: 'B' (Start: 6.746, End: 7.206)\n",
      "  Word 19: 'BATTLE' (Start: 7.286, End: 7.587)\n",
      "  Word 20: 'DROID' (Start: 7.607, End: 7.887)\n",
      "  Word 21: 'TIPS' (Start: 7.947, End: 8.187)\n",
      "    Break reason: Word group limit (5) reached.\n",
      "  --- SRT Entry 5 ---\n",
      "    Time: 00:00:06,645 --> 00:00:08,186\n",
      "    Text: \"A B BATTLE DROID TIPS\"\n",
      "  Word 22: 'THE' (Start: 8.247, End: 8.327)\n",
      "  Word 23: 'SCALES' (Start: 8.367, End: 8.728)\n",
      "  Word 24: 'AT' (Start: 8.808, End: 9.548)\n",
      "  Word 25: 'KILOGRAMS' (Start: 9.608, End: 10.229)\n",
      "    Break reason: Pause detected (0.841s > 0.3s).\n",
      "  --- SRT Entry 6 ---\n",
      "    Time: 00:00:08,246 --> 00:00:10,228\n",
      "    Text: \"THE SCALES AT KILOGRAMS\"\n",
      "  Word 26: 'THIS' (Start: 11.070, End: 11.250)\n",
      "  Word 27: 'UNIT' (Start: 11.390, End: 11.610)\n",
      "  Word 28: 'OF' (Start: 11.630, End: 11.690)\n",
      "  Word 29: 'MEASUREMENT' (Start: 11.790, End: 12.271)\n",
      "  Word 30: 'APPEARS' (Start: 12.311, End: 12.631)\n",
      "    Break reason: Word group limit (5) reached.\n",
      "  --- SRT Entry 7 ---\n",
      "    Time: 00:00:11,070 --> 00:00:12,631\n",
      "    Text: \"THIS UNIT OF MEASUREMENT APPEARS\"\n",
      "  Word 31: 'THROUGHOUT' (Start: 12.671, End: 12.991)\n",
      "  Word 32: 'THE' (Start: 13.011, End: 13.111)\n",
      "  Word 33: 'SAGA' (Start: 13.152, End: 13.572)\n",
      "  Word 34: 'FROM' (Start: 13.792, End: 13.912)\n",
      "  Word 35: 'THE' (Start: 13.932, End: 14.032)\n",
      "    Break reason: Word group limit (5) reached.\n",
      "  --- SRT Entry 8 ---\n",
      "    Time: 00:00:12,670 --> 00:00:14,032\n",
      "    Text: \"THROUGHOUT THE SAGA FROM THE\"\n",
      "  Word 36: 'HIGH' (Start: 14.072, End: 14.273)\n",
      "  Word 37: 'REPUBLIC' (Start: 14.313, End: 14.793)\n",
      "  Word 38: 'ERA' (Start: 14.873, End: 15.073)\n",
      "  Word 39: 'TO' (Start: 15.113, End: 15.193)\n",
      "  Word 40: 'THE' (Start: 15.213, End: 15.293)\n",
      "    Break reason: Word group limit (5) reached.\n",
      "  --- SRT Entry 9 ---\n",
      "    Time: 00:00:14,071 --> 00:00:15,292\n",
      "    Text: \"HIGH REPUBLIC ERA TO THE\"\n",
      "  Word 41: 'SEQUEL' (Start: 15.354, End: 15.774)\n",
      "  Word 42: 'TRILOGY' (Start: 15.834, End: 16.274)\n",
      "  Word 43: 'AND' (Start: 16.354, End: 16.434)\n",
      "  Word 44: 'BEYOND' (Start: 16.474, End: 16.915)\n",
      "    Break reason: Pause detected (0.380s > 0.3s).\n",
      "  --- SRT Entry 10 ---\n",
      "    Time: 00:00:15,353 --> 00:00:16,914\n",
      "    Text: \"SEQUEL TRILOGY AND BEYOND\"\n",
      "  Word 45: 'SHOWING' (Start: 17.295, End: 17.555)\n",
      "  Word 46: 'UP' (Start: 17.616, End: 17.696)\n",
      "  Word 47: 'IN' (Start: 17.736, End: 17.816)\n",
      "  Word 48: 'VARIOUS' (Start: 17.856, End: 18.196)\n",
      "  Word 49: 'BOOKS' (Start: 18.256, End: 18.556)\n",
      "    Break reason: Word group limit (5) reached.\n",
      "  --- SRT Entry 11 ---\n",
      "    Time: 00:00:17,295 --> 00:00:18,556\n",
      "    Text: \"SHOWING UP IN VARIOUS BOOKS\"\n",
      "  Word 50: 'COMICS' (Start: 18.877, End: 19.297)\n",
      "    Break reason: Pause detected (0.300s > 0.3s).\n",
      "  --- SRT Entry 12 ---\n",
      "    Time: 00:00:18,876 --> 00:00:19,297\n",
      "    Text: \"COMICS\"\n",
      "  Word 51: 'AND' (Start: 19.597, End: 19.697)\n",
      "  Word 52: 'EVEN' (Start: 19.777, End: 19.958)\n",
      "  Word 53: 'EPISODES' (Start: 20.018, End: 20.478)\n",
      "  Word 54: 'OF' (Start: 20.518, End: 20.578)\n",
      "    Break reason: Pause detected (0.621s > 0.3s).\n",
      "  --- SRT Entry 13 ---\n",
      "    Time: 00:00:19,597 --> 00:00:20,577\n",
      "    Text: \"AND EVEN EPISODES OF\"\n",
      "  Word 55: 'THE' (Start: 21.199, End: 21.279)\n",
      "  Word 56: 'MANDALORIAN' (Start: 21.299, End: 21.999)\n",
      "    Break reason: Last word.\n",
      "  --- SRT Entry 14 ---\n",
      "    Time: 00:00:21,199 --> 00:00:21,998\n",
      "    Text: \"THE MANDALORIAN\"\n",
      "\n",
      "Generated SRT: ../data/generated_transcripts\\Science stubs\\Kilogram.srt\n",
      "Skipping already processed: Songs\\What Mamma Doesn't Know.mp3\n",
      "Skipping already processed: Songs\\What Mamma Doesn't Know.wav\n",
      "Forced alignment process complete.\n"
     ]
    }
   ],
   "source": [
    "### TRANSCRIPT GENERATION USING FORCE ALIGNMENT (WITH DEBUGGING) ###\n",
    "import os\n",
    "from forcealign import ForceAlign\n",
    "import re # For sanitizing filenames\n",
    "\n",
    "# Directory where AI generated audio files are stored\n",
    "GENERATED_AUDIO_DIRECTORY = \"../data/generated_audio\"\n",
    "\n",
    "# Directory where AI generated voices transcript files are stored\n",
    "GENERATED_TEXT_DIRECTORY = \"../data/generated_text\"\n",
    "\n",
    "# Directory where the generated SRT transcripts are saved\n",
    "GENERATED_TRANSCRIPT_DIRECTORY = \"../data/generated_transcripts\"\n",
    "\n",
    "# Tracking file for already created shorts\n",
    "TRACKING_TRANSCRIPT_FILE = \"../data/generated_transcripts.log\"\n",
    "\n",
    "# Define the suffix that might be present in text files but not audio\n",
    "TEXT_FILE_SUFFIX = \"_rephrased.txt\"\n",
    "\n",
    "def format_time_for_srt(seconds):\n",
    "    \"\"\"Converts seconds to SRT time format: HH:MM:SS,mmm\"\"\"\n",
    "    hours = int(seconds // 3600)\n",
    "    minutes = int((seconds % 3600) // 60)\n",
    "    seconds_remainder = seconds % 60\n",
    "    milliseconds = int((seconds_remainder - int(seconds_remainder)) * 1000)\n",
    "    return f\"{hours:02d}:{minutes:02d}:{int(seconds_remainder):02d},{milliseconds:03d}\"\n",
    "\n",
    "def create_srt_from_alignment(words_with_timestamps, output_filepath):\n",
    "    \"\"\"\n",
    "    Creates an SRT file from the ForceAlign output.\n",
    "    This version groups words into sensible subtitle lines (e.g., up to 3-4 words or until a short pause).\n",
    "    For perfect, word-per-word, you'd modify the grouping logic.\n",
    "    \"\"\"\n",
    "    srt_entries = []\n",
    "    current_line_words = []\n",
    "    current_line_start_time = None\n",
    "    sequence_number = 1\n",
    "    \n",
    "    # Heuristic for grouping: a new line after a pause or every few words\n",
    "    WORD_GROUP_LIMIT = 5 # Max words per line\n",
    "    PAUSE_THRESHOLD = 0.3 # seconds, for detecting a natural break\n",
    "\n",
    "    print(f\"\\n--- Debugging SRT Creation for {os.path.basename(output_filepath)} ---\")\n",
    "    print(f\"Total words from alignment: {len(words_with_timestamps)}\")\n",
    "\n",
    "    for i, word_info in enumerate(words_with_timestamps):\n",
    "        word = word_info.word\n",
    "        start_time = word_info.time_start\n",
    "        end_time = word_info.time_end\n",
    "\n",
    "        # Debug print for each word's timestamp\n",
    "        print(f\"  Word {i+1}: '{word}' (Start: {start_time:.3f}, End: {end_time:.3f})\")\n",
    "\n",
    "        if not current_line_words:\n",
    "            current_line_start_time = start_time\n",
    "        \n",
    "        current_line_words.append(word)\n",
    "\n",
    "        is_last_word = (i == len(words_with_timestamps) - 1)\n",
    "        next_word_info = words_with_timestamps[i+1] if not is_last_word else None\n",
    "        \n",
    "        should_break = False\n",
    "        if is_last_word:\n",
    "            should_break = True\n",
    "            print(\"    Break reason: Last word.\")\n",
    "        elif len(current_line_words) >= WORD_GROUP_LIMIT:\n",
    "            should_break = True\n",
    "            print(f\"    Break reason: Word group limit ({WORD_GROUP_LIMIT}) reached.\")\n",
    "        elif next_word_info and (next_word_info.time_start - end_time > PAUSE_THRESHOLD):\n",
    "            should_break = True\n",
    "            print(f\"    Break reason: Pause detected ({(next_word_info.time_start - end_time):.3f}s > {PAUSE_THRESHOLD}s).\")\n",
    "        elif re.search(r'[.!?]', word): # Check for punctuation\n",
    "            should_break = True\n",
    "            print(\"    Break reason: Punctuation detected.\")\n",
    "\n",
    "        if should_break:\n",
    "            line_text = \" \".join(current_line_words)\n",
    "            line_end_time = end_time\n",
    "\n",
    "            srt_entries.append(f\"{sequence_number}\")\n",
    "            srt_entries.append(f\"{format_time_for_srt(current_line_start_time)} --> {format_time_for_srt(line_end_time)}\")\n",
    "            srt_entries.append(line_text)\n",
    "            srt_entries.append(\"\") # Blank line separator for SRT\n",
    "\n",
    "            print(f\"  --- SRT Entry {sequence_number} ---\")\n",
    "            print(f\"    Time: {format_time_for_srt(current_line_start_time)} --> {format_time_for_srt(line_end_time)}\")\n",
    "            print(f\"    Text: \\\"{line_text}\\\"\")\n",
    "            \n",
    "            current_line_words = []\n",
    "            current_line_start_time = None\n",
    "            sequence_number += 1\n",
    "\n",
    "    # Ensure output directory exists\n",
    "    os.makedirs(os.path.dirname(output_filepath), exist_ok=True)\n",
    "    \n",
    "    with open(output_filepath, \"w\", encoding=\"utf-8\") as f:\n",
    "        f.write(\"\\n\".join(srt_entries))\n",
    "    print(f\"\\nGenerated SRT: {output_filepath}\")\n",
    "\n",
    "\n",
    "def get_processed_log():\n",
    "    \"\"\"Reads the log file to get a set of already processed file identifiers.\"\"\"\n",
    "    if not os.path.exists(TRACKING_TRANSCRIPT_FILE):\n",
    "        return set()\n",
    "    with open(TRACKING_TRANSCRIPT_FILE, \"r\", encoding=\"utf-8\") as f:\n",
    "        return set(line.strip() for line in f)\n",
    "\n",
    "def add_to_processed_log(identifier):\n",
    "    \"\"\"Adds a file identifier to the log file.\"\"\"\n",
    "    with open(TRACKING_TRANSCRIPT_FILE, \"a\", encoding=\"utf-8\") as f:\n",
    "        f.write(f\"{identifier}\\n\")\n",
    "\n",
    "def process_audio_text_pairs():\n",
    "    processed_files = get_processed_log()\n",
    "\n",
    "    for root, _, files in os.walk(GENERATED_AUDIO_DIRECTORY):\n",
    "        for audio_file_name in files:\n",
    "            if audio_file_name.endswith((\".mp3\", \".wav\")):\n",
    "                relative_path = os.path.relpath(root, GENERATED_AUDIO_DIRECTORY)\n",
    "                base_name = os.path.splitext(audio_file_name)[0]\n",
    "                audio_file_path = os.path.join(root, audio_file_name)\n",
    "                text_file_path = os.path.join(GENERATED_TEXT_DIRECTORY, relative_path, f\"{base_name}{TEXT_FILE_SUFFIX}\")\n",
    "                file_identifier = os.path.relpath(audio_file_path, GENERATED_AUDIO_DIRECTORY)\n",
    "\n",
    "                if file_identifier in processed_files:\n",
    "                    print(f\"Skipping already processed: {file_identifier}\")\n",
    "                    continue\n",
    "                \n",
    "                if not os.path.exists(text_file_path):\n",
    "                    print(f\"Warning: Corresponding text file not found for audio '{audio_file_path}'. Expected '{text_file_path}'\")\n",
    "                    continue\n",
    "                \n",
    "                print(f\"\\nProcessing: Audio='{audio_file_path}', Text='{text_file_path}'\")\n",
    "\n",
    "                try:\n",
    "                    with open(text_file_path, \"r\", encoding=\"utf-8\") as f:\n",
    "                        transcript = f.read().strip()\n",
    "\n",
    "                    if not transcript:\n",
    "                        print(f\"Skipping empty transcript: {text_file_path}\")\n",
    "                        add_to_processed_log(file_identifier)\n",
    "                        continue\n",
    "                    \n",
    "                    aligner = ForceAlign(audio_file=audio_file_path, transcript=transcript)\n",
    "                    words = aligner.inference()\n",
    "\n",
    "                    output_srt_directory = os.path.join(GENERATED_TRANSCRIPT_DIRECTORY, relative_path)\n",
    "                    os.makedirs(output_srt_directory, exist_ok=True)\n",
    "                    srt_file_name = f\"{base_name}.srt\"\n",
    "                    output_srt_path = os.path.join(output_srt_directory, srt_file_name)\n",
    "\n",
    "                    create_srt_from_alignment(words, output_srt_path)\n",
    "                    add_to_processed_log(file_identifier)\n",
    "\n",
    "                except Exception as e:\n",
    "                    print(f\"Error processing {file_identifier}: {e}\")\n",
    "\n",
    "if __name__ == \"__main__\":\n",
    "    os.makedirs(GENERATED_AUDIO_DIRECTORY, exist_ok=True)\n",
    "    os.makedirs(GENERATED_TEXT_DIRECTORY, exist_ok=True)\n",
    "    os.makedirs(GENERATED_TRANSCRIPT_DIRECTORY, exist_ok=True)\n",
    "\n",
    "    print(\"Starting forced alignment process...\")\n",
    "    process_audio_text_pairs()\n",
    "    print(\"Forced alignment process complete.\")"
   ]
  },
  {
   "cell_type": "code",
   "execution_count": 21,
   "id": "a32e0239",
   "metadata": {},
   "outputs": [
    {
     "name": "stdout",
     "output_type": "stream",
     "text": [
      "Loaded 10 previously created shorts titles.\n",
      "\n",
      "'Mulita' has already had a short created. Skipping.\n",
      "\n",
      "'Antrech Arms' has already had a short created. Skipping.\n",
      "\n",
      "'Mission to Batuu' has already had a short created. Skipping.\n",
      "\n",
      "'Eos Morne' has already had a short created. Skipping.\n",
      "\n",
      "Processing audio file: ../data/generated_audio\\Character stubs\\Unidentified Second Prince.mp3 for short creation.\n",
      "Loaded article content from: ../data/generated_articles\\Character stubs\\Unidentified Second Prince.txt\n",
      "No image URLs found in article content.\n",
      "Cleaned temporary image directory: ../data/temp_images\n",
      "Loaded 17 subtitle entries from: ../data/generated_transcripts\\Character stubs\\Unidentified Second Prince.srt\n",
      "Loaded audio: Unidentified Second Prince.mp3 (Duration: 26.14s)\n",
      "Loaded main video: minecraft01.mp4 (Duration: 1076.82s)\n",
      "Selected video segment: 680.06s to 706.20s (Clip duration: 26.14s)\n"
     ]
    },
    {
     "name": "stderr",
     "output_type": "stream",
     "text": [
      "t:  32%|███▏      | 566/1769 [4:09:13<02:59,  6.70it/s, now=None]"
     ]
    },
    {
     "name": "stdout",
     "output_type": "stream",
     "text": [
      "Cropping width from 1920 to 607 to fit 9:16.\n",
      "Resized to final resolution: 1080x1920\n",
      "No image URLs found for overlay.\n",
      "  Frame at t_in_clip: 0.00s (Time for subtitle lookup: 0.00s)\n",
      "    Subtitle found: \"IN THE EMPIRES TWILIGHT YEARS\" (SRT range: 0.00-1.78)\n",
      "      Drawing subtitle: 'IN THE EMPIRES' at X=118.0, Y=1429, W=844, H=64, Color=(255, 255, 0, 255)\n",
      "      Drawing subtitle: 'TWILIGHT YEARS' at X=86.0, Y=1502, W=908, H=64, Color=(255, 255, 0, 255)\n",
      "Writing final video to: ../data/generated_shorts\\Character stubs\\Unidentified Second Prince_short.mp4\n",
      "Moviepy - Building video ../data/generated_shorts\\Character stubs\\Unidentified Second Prince_short.mp4.\n",
      "MoviePy - Writing audio in Unidentified Second Prince_shortTEMP_MPY_wvf_snd.mp3\n"
     ]
    },
    {
     "name": "stderr",
     "output_type": "stream",
     "text": [
      "t:  32%|███▏      | 566/1769 [4:09:13<02:59,  6.70it/s, now=None]"
     ]
    },
    {
     "name": "stdout",
     "output_type": "stream",
     "text": [
      "MoviePy - Done.\n",
      "Moviepy - Writing video ../data/generated_shorts\\Character stubs\\Unidentified Second Prince_short.mp4\n",
      "\n"
     ]
    },
    {
     "name": "stderr",
     "output_type": "stream",
     "text": [
      "\n"
     ]
    },
    {
     "name": "stdout",
     "output_type": "stream",
     "text": [
      "  Frame at t_in_clip: 0.00s (Time for subtitle lookup: 0.00s)\n",
      "    Subtitle found: \"IN THE EMPIRES TWILIGHT YEARS\" (SRT range: 0.00-1.78)\n",
      "      Drawing subtitle: 'IN THE EMPIRES' at X=118.0, Y=1429, W=844, H=64, Color=(255, 255, 0, 255)\n",
      "      Drawing subtitle: 'TWILIGHT YEARS' at X=86.0, Y=1502, W=908, H=64, Color=(255, 255, 0, 255)\n",
      "  Frame at t_in_clip: 0.03s (Time for subtitle lookup: 0.03s)\n",
      "    Subtitle found: \"IN THE EMPIRES TWILIGHT YEARS\" (SRT range: 0.00-1.78)\n",
      "      Drawing subtitle: 'IN THE EMPIRES' at X=118.0, Y=1429, W=844, H=64, Color=(255, 255, 0, 255)\n",
      "      Drawing subtitle: 'TWILIGHT YEARS' at X=86.0, Y=1502, W=908, H=64, Color=(255, 255, 0, 255)\n"
     ]
    },
    {
     "name": "stderr",
     "output_type": "stream",
     "text": [
      "t:   0%|          | 3/785 [00:00<00:47, 16.58it/s, now=None]\u001b[A"
     ]
    },
    {
     "name": "stdout",
     "output_type": "stream",
     "text": [
      "  Frame at t_in_clip: 0.07s (Time for subtitle lookup: 0.07s)\n"
     ]
    },
    {
     "name": "stderr",
     "output_type": "stream",
     "text": []
    },
    {
     "name": "stdout",
     "output_type": "stream",
     "text": [
      "    Subtitle found: \"IN THE EMPIRES TWILIGHT YEARS\" (SRT range: 0.00-1.78)\n",
      "      Drawing subtitle: 'IN THE EMPIRES' at X=118.0, Y=1429, W=844, H=64, Color=(255, 255, 0, 255)\n",
      "      Drawing subtitle: 'TWILIGHT YEARS' at X=86.0, Y=1502, W=908, H=64, Color=(255, 255, 0, 255)\n"
     ]
    },
    {
     "name": "stderr",
     "output_type": "stream",
     "text": []
    },
    {
     "name": "stdout",
     "output_type": "stream",
     "text": [
      "  Frame at t_in_clip: 1.00s (Time for subtitle lookup: 1.00s)\n",
      "    Subtitle found: \"IN THE EMPIRES TWILIGHT YEARS\" (SRT range: 0.00-1.78)\n",
      "      Drawing subtitle: 'IN THE EMPIRES' at X=118.0, Y=1429, W=844, H=64, Color=(255, 255, 0, 255)\n",
      "      Drawing subtitle: 'TWILIGHT YEARS' at X=86.0, Y=1502, W=908, H=64, Color=(255, 255, 0, 255)\n",
      "  Frame at t_in_clip: 1.03s (Time for subtitle lookup: 1.03s)\n",
      "    Subtitle found: \"IN THE EMPIRES TWILIGHT YEARS\" (SRT range: 0.00-1.78)\n",
      "      Drawing subtitle: 'IN THE EMPIRES' at X=118.0, Y=1429, W=844, H=64, Color=(255, 255, 0, 255)\n",
      "      Drawing subtitle: 'TWILIGHT YEARS' at X=86.0, Y=1502, W=908, H=64, Color=(255, 255, 0, 255)\n"
     ]
    },
    {
     "name": "stderr",
     "output_type": "stream",
     "text": []
    },
    {
     "name": "stdout",
     "output_type": "stream",
     "text": [
      "  Frame at t_in_clip: 1.07s (Time for subtitle lookup: 1.07s)\n",
      "    Subtitle found: \"IN THE EMPIRES TWILIGHT YEARS\" (SRT range: 0.00-1.78)\n",
      "      Drawing subtitle: 'IN THE EMPIRES' at X=118.0, Y=1429, W=844, H=64, Color=(255, 255, 0, 255)\n",
      "      Drawing subtitle: 'TWILIGHT YEARS' at X=86.0, Y=1502, W=908, H=64, Color=(255, 255, 0, 255)\n"
     ]
    },
    {
     "name": "stderr",
     "output_type": "stream",
     "text": []
    },
    {
     "name": "stdout",
     "output_type": "stream",
     "text": [
      "  Frame at t_in_clip: 2.00s (Time for subtitle lookup: 2.00s)\n",
      "    No subtitle found for actual transcript time 2.00s.\n",
      "  Frame at t_in_clip: 2.03s (Time for subtitle lookup: 2.03s)\n",
      "    No subtitle found for actual transcript time 2.03s.\n",
      "  Frame at t_in_clip: 2.07s (Time for subtitle lookup: 2.07s)\n"
     ]
    },
    {
     "name": "stderr",
     "output_type": "stream",
     "text": []
    },
    {
     "name": "stdout",
     "output_type": "stream",
     "text": [
      "    No subtitle found for actual transcript time 2.07s.\n"
     ]
    },
    {
     "name": "stderr",
     "output_type": "stream",
     "text": []
    },
    {
     "name": "stdout",
     "output_type": "stream",
     "text": [
      "  Frame at t_in_clip: 3.00s (Time for subtitle lookup: 3.00s)\n",
      "    Subtitle found: \"A POWER STRUGGLE BREWED BETWEEN\" (SRT range: 2.12-3.62)\n",
      "      Drawing subtitle: 'A POWER' at X=291.0, Y=1283, W=498, H=64, Color=(255, 255, 0, 255)\n",
      "      Drawing subtitle: 'STRUGGLE' at X=266.0, Y=1356, W=548, H=64, Color=(255, 255, 0, 255)\n",
      "      Drawing subtitle: 'BREWED' at X=310.5, Y=1429, W=459, H=64, Color=(255, 255, 0, 255)\n",
      "      Drawing subtitle: 'BETWEEN' at X=278.5, Y=1502, W=523, H=64, Color=(255, 255, 0, 255)\n",
      "  Frame at t_in_clip: 3.03s (Time for subtitle lookup: 3.03s)\n",
      "    Subtitle found: \"A POWER STRUGGLE BREWED BETWEEN\" (SRT range: 2.12-3.62)\n",
      "      Drawing subtitle: 'A POWER' at X=291.0, Y=1283, W=498, H=64, Color=(255, 255, 0, 255)\n",
      "      Drawing subtitle: 'STRUGGLE' at X=266.0, Y=1356, W=548, H=64, Color=(255, 255, 0, 255)\n",
      "      Drawing subtitle: 'BREWED' at X=310.5, Y=1429, W=459, H=64, Color=(255, 255, 0, 255)\n",
      "      Drawing subtitle: 'BETWEEN' at X=278.5, Y=1502, W=523, H=64, Color=(255, 255, 0, 255)\n",
      "  Frame at t_in_clip: 3.07s (Time for subtitle lookup: 3.07s)\n",
      "    Subtitle found: \"A POWER STRUGGLE BREWED BETWEEN\" (SRT range: 2.12-3.62)\n",
      "      Drawing subtitle: 'A POWER' at X=291.0, Y=1283, W=498, H=64, Color=(255, 255, 0, 255)\n",
      "      Drawing subtitle: 'STRUGGLE' at X=266.0, Y=1356, W=548, H=64, Color=(255, 255, 0, 255)\n",
      "      Drawing subtitle: 'BREWED' at X=310.5, Y=1429, W=459, H=64, Color=(255, 255, 0, 255)\n",
      "      Drawing subtitle: 'BETWEEN' at X=278.5, Y=1502, W=523, H=64, Color=(255, 255, 0, 255)\n"
     ]
    },
    {
     "name": "stderr",
     "output_type": "stream",
     "text": []
    },
    {
     "name": "stdout",
     "output_type": "stream",
     "text": [
      "  Frame at t_in_clip: 4.00s (Time for subtitle lookup: 4.00s)\n",
      "    Subtitle found: \"TWO BROTHERS\" (SRT range: 3.70-4.32)\n",
      "      Drawing subtitle: 'TWO BROTHERS' at X=117.0, Y=1502, W=846, H=64, Color=(255, 255, 0, 255)\n",
      "  Frame at t_in_clip: 4.03s (Time for subtitle lookup: 4.03s)\n",
      "    Subtitle found: \"TWO BROTHERS\" (SRT range: 3.70-4.32)\n",
      "      Drawing subtitle: 'TWO BROTHERS' at X=117.0, Y=1502, W=846, H=64, Color=(255, 255, 0, 255)\n",
      "  Frame at t_in_clip: 4.07s (Time for subtitle lookup: 4.07s)\n",
      "    Subtitle found: \"TWO BROTHERS\" (SRT range: 3.70-4.32)\n",
      "      Drawing subtitle: 'TWO BROTHERS' at X=117.0, Y=1502, W=846, H=64, Color=(255, 255, 0, 255)\n"
     ]
    },
    {
     "name": "stderr",
     "output_type": "stream",
     "text": []
    },
    {
     "name": "stdout",
     "output_type": "stream",
     "text": [
      "  Frame at t_in_clip: 5.00s (Time for subtitle lookup: 5.00s)\n",
      "    Subtitle found: \"THE CROWN PRINCE AND HIS\" (SRT range: 4.80-5.92)\n",
      "      Drawing subtitle: 'THE CROWN' at X=225.0, Y=1429, W=630, H=64, Color=(255, 255, 0, 255)\n",
      "      Drawing subtitle: 'PRINCE AND HIS' at X=120.0, Y=1502, W=840, H=64, Color=(255, 255, 0, 255)\n",
      "  Frame at t_in_clip: 5.03s (Time for subtitle lookup: 5.03s)\n",
      "    Subtitle found: \"THE CROWN PRINCE AND HIS\" (SRT range: 4.80-5.92)\n",
      "      Drawing subtitle: 'THE CROWN' at X=225.0, Y=1429, W=630, H=64, Color=(255, 255, 0, 255)\n",
      "      Drawing subtitle: 'PRINCE AND HIS' at X=120.0, Y=1502, W=840, H=64, Color=(255, 255, 0, 255)\n",
      "  Frame at t_in_clip: 5.07s (Time for subtitle lookup: 5.07s)\n",
      "    Subtitle found: \"THE CROWN PRINCE AND HIS\" (SRT range: 4.80-5.92)\n",
      "      Drawing subtitle: 'THE CROWN' at X=225.0, Y=1429, W=630, H=64, Color=(255, 255, 0, 255)\n",
      "      Drawing subtitle: 'PRINCE AND HIS' at X=120.0, Y=1502, W=840, H=64, Color=(255, 255, 0, 255)\n"
     ]
    },
    {
     "name": "stderr",
     "output_type": "stream",
     "text": []
    },
    {
     "name": "stdout",
     "output_type": "stream",
     "text": [
      "  Frame at t_in_clip: 6.00s (Time for subtitle lookup: 6.00s)\n",
      "    No subtitle found for actual transcript time 6.00s.\n",
      "  Frame at t_in_clip: 6.03s (Time for subtitle lookup: 6.03s)\n",
      "    Subtitle found: \"UNNAMED YOUNGER SIBLING THE SECOND\" (SRT range: 6.02-7.79)\n",
      "      Drawing subtitle: 'UNNAMED' at X=284.0, Y=1356, W=512, H=64, Color=(255, 255, 0, 255)\n",
      "      Drawing subtitle: 'YOUNGER SIBLING' at X=70.0, Y=1429, W=940, H=64, Color=(255, 255, 0, 255)\n",
      "      Drawing subtitle: 'THE SECOND' at X=208.0, Y=1502, W=664, H=64, Color=(255, 255, 0, 255)\n"
     ]
    },
    {
     "name": "stderr",
     "output_type": "stream",
     "text": []
    },
    {
     "name": "stdout",
     "output_type": "stream",
     "text": [
      "  Frame at t_in_clip: 6.07s (Time for subtitle lookup: 6.07s)\n",
      "    Subtitle found: \"UNNAMED YOUNGER SIBLING THE SECOND\" (SRT range: 6.02-7.79)\n",
      "      Drawing subtitle: 'UNNAMED' at X=284.0, Y=1356, W=512, H=64, Color=(255, 255, 0, 255)\n",
      "      Drawing subtitle: 'YOUNGER SIBLING' at X=70.0, Y=1429, W=940, H=64, Color=(255, 255, 0, 255)\n",
      "      Drawing subtitle: 'THE SECOND' at X=208.0, Y=1502, W=664, H=64, Color=(255, 255, 0, 255)\n"
     ]
    },
    {
     "name": "stderr",
     "output_type": "stream",
     "text": []
    },
    {
     "name": "stdout",
     "output_type": "stream",
     "text": [
      "  Frame at t_in_clip: 7.00s (Time for subtitle lookup: 7.00s)\n",
      "    Subtitle found: \"UNNAMED YOUNGER SIBLING THE SECOND\" (SRT range: 6.02-7.79)\n",
      "      Drawing subtitle: 'UNNAMED' at X=284.0, Y=1356, W=512, H=64, Color=(255, 255, 0, 255)\n",
      "      Drawing subtitle: 'YOUNGER SIBLING' at X=70.0, Y=1429, W=940, H=64, Color=(255, 255, 0, 255)\n",
      "      Drawing subtitle: 'THE SECOND' at X=208.0, Y=1502, W=664, H=64, Color=(255, 255, 0, 255)\n",
      "  Frame at t_in_clip: 7.03s (Time for subtitle lookup: 7.03s)\n",
      "    Subtitle found: \"UNNAMED YOUNGER SIBLING THE SECOND\" (SRT range: 6.02-7.79)\n",
      "      Drawing subtitle: 'UNNAMED' at X=284.0, Y=1356, W=512, H=64, Color=(255, 255, 0, 255)\n",
      "      Drawing subtitle: 'YOUNGER SIBLING' at X=70.0, Y=1429, W=940, H=64, Color=(255, 255, 0, 255)\n",
      "      Drawing subtitle: 'THE SECOND' at X=208.0, Y=1502, W=664, H=64, Color=(255, 255, 0, 255)\n",
      "  Frame at t_in_clip: 7.07s (Time for subtitle lookup: 7.07s)\n"
     ]
    },
    {
     "name": "stderr",
     "output_type": "stream",
     "text": []
    },
    {
     "name": "stdout",
     "output_type": "stream",
     "text": [
      "    Subtitle found: \"UNNAMED YOUNGER SIBLING THE SECOND\" (SRT range: 6.02-7.79)\n",
      "      Drawing subtitle: 'UNNAMED' at X=284.0, Y=1356, W=512, H=64, Color=(255, 255, 0, 255)\n",
      "      Drawing subtitle: 'YOUNGER SIBLING' at X=70.0, Y=1429, W=940, H=64, Color=(255, 255, 0, 255)\n",
      "      Drawing subtitle: 'THE SECOND' at X=208.0, Y=1502, W=664, H=64, Color=(255, 255, 0, 255)\n"
     ]
    },
    {
     "name": "stderr",
     "output_type": "stream",
     "text": []
    },
    {
     "name": "stdout",
     "output_type": "stream",
     "text": [
      "  Frame at t_in_clip: 8.00s (Time for subtitle lookup: 8.00s)\n",
      "    Subtitle found: \"PRINCE\" (SRT range: 7.83-8.16)\n",
      "      Drawing subtitle: 'PRINCE' at X=350.0, Y=1502, W=380, H=64, Color=(255, 255, 0, 255)\n",
      "  Frame at t_in_clip: 8.03s (Time for subtitle lookup: 8.03s)\n",
      "    Subtitle found: \"PRINCE\" (SRT range: 7.83-8.16)\n",
      "      Drawing subtitle: 'PRINCE' at X=350.0, Y=1502, W=380, H=64, Color=(255, 255, 0, 255)\n",
      "  Frame at t_in_clip: 8.07s (Time for subtitle lookup: 8.07s)\n",
      "    Subtitle found: \"PRINCE\" (SRT range: 7.83-8.16)\n",
      "      Drawing subtitle: 'PRINCE' at X=350.0, Y=1502, W=380, H=64, Color=(255, 255, 0, 255)\n"
     ]
    },
    {
     "name": "stderr",
     "output_type": "stream",
     "text": []
    },
    {
     "name": "stdout",
     "output_type": "stream",
     "text": [
      "  Frame at t_in_clip: 9.00s (Time for subtitle lookup: 9.00s)\n",
      "    No subtitle found for actual transcript time 9.00s.\n",
      "  Frame at t_in_clip: 9.03s (Time for subtitle lookup: 9.03s)\n",
      "    No subtitle found for actual transcript time 9.03s.\n",
      "  Frame at t_in_clip: 9.07s (Time for subtitle lookup: 9.07s)\n",
      "    Subtitle found: \"BOTH PREPARED FOR A DEADLY\" (SRT range: 9.07-10.43)\n",
      "      Drawing subtitle: 'BOTH PREPARED' at X=94.0, Y=1429, W=892, H=64, Color=(255, 255, 0, 255)\n",
      "      Drawing subtitle: 'FOR A DEADLY' at X=156.5, Y=1502, W=767, H=64, Color=(255, 255, 0, 255)\n"
     ]
    },
    {
     "name": "stderr",
     "output_type": "stream",
     "text": []
    },
    {
     "name": "stdout",
     "output_type": "stream",
     "text": [
      "  Frame at t_in_clip: 10.00s (Time for subtitle lookup: 10.00s)\n",
      "    Subtitle found: \"BOTH PREPARED FOR A DEADLY\" (SRT range: 9.07-10.43)\n",
      "      Drawing subtitle: 'BOTH PREPARED' at X=94.0, Y=1429, W=892, H=64, Color=(255, 255, 0, 255)\n",
      "      Drawing subtitle: 'FOR A DEADLY' at X=156.5, Y=1502, W=767, H=64, Color=(255, 255, 0, 255)\n",
      "  Frame at t_in_clip: 10.03s (Time for subtitle lookup: 10.03s)\n",
      "    Subtitle found: \"BOTH PREPARED FOR A DEADLY\" (SRT range: 9.07-10.43)\n",
      "      Drawing subtitle: 'BOTH PREPARED' at X=94.0, Y=1429, W=892, H=64, Color=(255, 255, 0, 255)\n",
      "      Drawing subtitle: 'FOR A DEADLY' at X=156.5, Y=1502, W=767, H=64, Color=(255, 255, 0, 255)\n"
     ]
    },
    {
     "name": "stderr",
     "output_type": "stream",
     "text": []
    },
    {
     "name": "stdout",
     "output_type": "stream",
     "text": [
      "  Frame at t_in_clip: 10.07s (Time for subtitle lookup: 10.07s)\n",
      "    Subtitle found: \"BOTH PREPARED FOR A DEADLY\" (SRT range: 9.07-10.43)\n",
      "      Drawing subtitle: 'BOTH PREPARED' at X=94.0, Y=1429, W=892, H=64, Color=(255, 255, 0, 255)\n",
      "      Drawing subtitle: 'FOR A DEADLY' at X=156.5, Y=1502, W=767, H=64, Color=(255, 255, 0, 255)\n"
     ]
    },
    {
     "name": "stderr",
     "output_type": "stream",
     "text": []
    },
    {
     "name": "stdout",
     "output_type": "stream",
     "text": [
      "  Frame at t_in_clip: 11.00s (Time for subtitle lookup: 11.00s)\n",
      "    Subtitle found: \"SUCCESSION BATTLE AS THEIR FATHER\" (SRT range: 10.49-12.13)\n",
      "      Drawing subtitle: 'SUCCESSION' at X=221.0, Y=1356, W=638, H=64, Color=(255, 255, 0, 255)\n",
      "      Drawing subtitle: 'BATTLE AS THEIR' at X=69.5, Y=1429, W=941, H=64, Color=(255, 255, 0, 255)\n",
      "      Drawing subtitle: 'FATHER' at X=334.5, Y=1502, W=411, H=64, Color=(255, 255, 0, 255)\n",
      "  Frame at t_in_clip: 11.03s (Time for subtitle lookup: 11.03s)\n",
      "    Subtitle found: \"SUCCESSION BATTLE AS THEIR FATHER\" (SRT range: 10.49-12.13)\n",
      "      Drawing subtitle: 'SUCCESSION' at X=221.0, Y=1356, W=638, H=64, Color=(255, 255, 0, 255)\n",
      "      Drawing subtitle: 'BATTLE AS THEIR' at X=69.5, Y=1429, W=941, H=64, Color=(255, 255, 0, 255)\n",
      "      Drawing subtitle: 'FATHER' at X=334.5, Y=1502, W=411, H=64, Color=(255, 255, 0, 255)\n",
      "  Frame at t_in_clip: 11.07s (Time for subtitle lookup: 11.07s)\n",
      "    Subtitle found: \"SUCCESSION BATTLE AS THEIR FATHER\" (SRT range: 10.49-12.13)\n",
      "      Drawing subtitle: 'SUCCESSION' at X=221.0, Y=1356, W=638, H=64, Color=(255, 255, 0, 255)\n"
     ]
    },
    {
     "name": "stderr",
     "output_type": "stream",
     "text": []
    },
    {
     "name": "stdout",
     "output_type": "stream",
     "text": [
      "      Drawing subtitle: 'BATTLE AS THEIR' at X=69.5, Y=1429, W=941, H=64, Color=(255, 255, 0, 255)\n",
      "      Drawing subtitle: 'FATHER' at X=334.5, Y=1502, W=411, H=64, Color=(255, 255, 0, 255)\n"
     ]
    },
    {
     "name": "stderr",
     "output_type": "stream",
     "text": []
    },
    {
     "name": "stdout",
     "output_type": "stream",
     "text": [
      "  Frame at t_in_clip: 12.00s (Time for subtitle lookup: 12.00s)\n",
      "    Subtitle found: \"SUCCESSION BATTLE AS THEIR FATHER\" (SRT range: 10.49-12.13)\n",
      "      Drawing subtitle: 'SUCCESSION' at X=221.0, Y=1356, W=638, H=64, Color=(255, 255, 0, 255)\n",
      "      Drawing subtitle: 'BATTLE AS THEIR' at X=69.5, Y=1429, W=941, H=64, Color=(255, 255, 0, 255)\n",
      "      Drawing subtitle: 'FATHER' at X=334.5, Y=1502, W=411, H=64, Color=(255, 255, 0, 255)\n",
      "  Frame at t_in_clip: 12.03s (Time for subtitle lookup: 12.03s)\n",
      "    Subtitle found: \"SUCCESSION BATTLE AS THEIR FATHER\" (SRT range: 10.49-12.13)\n",
      "      Drawing subtitle: 'SUCCESSION' at X=221.0, Y=1356, W=638, H=64, Color=(255, 255, 0, 255)\n",
      "      Drawing subtitle: 'BATTLE AS THEIR' at X=69.5, Y=1429, W=941, H=64, Color=(255, 255, 0, 255)\n",
      "      Drawing subtitle: 'FATHER' at X=334.5, Y=1502, W=411, H=64, Color=(255, 255, 0, 255)\n"
     ]
    },
    {
     "name": "stderr",
     "output_type": "stream",
     "text": []
    },
    {
     "name": "stdout",
     "output_type": "stream",
     "text": [
      "  Frame at t_in_clip: 12.07s (Time for subtitle lookup: 12.07s)\n",
      "    Subtitle found: \"SUCCESSION BATTLE AS THEIR FATHER\" (SRT range: 10.49-12.13)\n",
      "      Drawing subtitle: 'SUCCESSION' at X=221.0, Y=1356, W=638, H=64, Color=(255, 255, 0, 255)\n",
      "      Drawing subtitle: 'BATTLE AS THEIR' at X=69.5, Y=1429, W=941, H=64, Color=(255, 255, 0, 255)\n",
      "      Drawing subtitle: 'FATHER' at X=334.5, Y=1502, W=411, H=64, Color=(255, 255, 0, 255)\n"
     ]
    },
    {
     "name": "stderr",
     "output_type": "stream",
     "text": []
    },
    {
     "name": "stdout",
     "output_type": "stream",
     "text": [
      "  Frame at t_in_clip: 13.00s (Time for subtitle lookup: 13.00s)\n",
      "    Subtitle found: \"THE EMPEROR NEARED HIS END\" (SRT range: 12.31-13.67)\n",
      "      Drawing subtitle: 'THE EMPEROR' at X=160.0, Y=1429, W=760, H=64, Color=(255, 255, 0, 255)\n",
      "      Drawing subtitle: 'NEARED HIS END' at X=98.0, Y=1502, W=884, H=64, Color=(255, 255, 0, 255)\n",
      "  Frame at t_in_clip: 13.03s (Time for subtitle lookup: 13.03s)\n",
      "    Subtitle found: \"THE EMPEROR NEARED HIS END\" (SRT range: 12.31-13.67)\n",
      "      Drawing subtitle: 'THE EMPEROR' at X=160.0, Y=1429, W=760, H=64, Color=(255, 255, 0, 255)\n",
      "      Drawing subtitle: 'NEARED HIS END' at X=98.0, Y=1502, W=884, H=64, Color=(255, 255, 0, 255)\n",
      "  Frame at t_in_clip: 13.07s (Time for subtitle lookup: 13.07s)\n"
     ]
    },
    {
     "name": "stderr",
     "output_type": "stream",
     "text": []
    },
    {
     "name": "stdout",
     "output_type": "stream",
     "text": [
      "    Subtitle found: \"THE EMPEROR NEARED HIS END\" (SRT range: 12.31-13.67)\n",
      "      Drawing subtitle: 'THE EMPEROR' at X=160.0, Y=1429, W=760, H=64, Color=(255, 255, 0, 255)\n",
      "      Drawing subtitle: 'NEARED HIS END' at X=98.0, Y=1502, W=884, H=64, Color=(255, 255, 0, 255)\n"
     ]
    },
    {
     "name": "stderr",
     "output_type": "stream",
     "text": []
    },
    {
     "name": "stdout",
     "output_type": "stream",
     "text": [
      "  Frame at t_in_clip: 14.00s (Time for subtitle lookup: 14.00s)\n",
      "    No subtitle found for actual transcript time 14.00s.\n",
      "  Frame at t_in_clip: 14.03s (Time for subtitle lookup: 14.03s)\n",
      "    No subtitle found for actual transcript time 14.03s.\n",
      "  Frame at t_in_clip: 14.07s (Time for subtitle lookup: 14.07s)\n",
      "    No subtitle found for actual transcript time 14.07s.\n"
     ]
    },
    {
     "name": "stderr",
     "output_type": "stream",
     "text": []
    },
    {
     "name": "stdout",
     "output_type": "stream",
     "text": [
      "  Frame at t_in_clip: 15.00s (Time for subtitle lookup: 15.00s)\n",
      "    Subtitle found: \"THIS SHADOWY FIGURE\" (SRT range: 14.47-15.61)\n",
      "      Drawing subtitle: 'THIS SHADOWY' at X=133.5, Y=1429, W=813, H=64, Color=(255, 255, 0, 255)\n",
      "      Drawing subtitle: 'FIGURE' at X=348.0, Y=1502, W=384, H=64, Color=(255, 255, 0, 255)\n",
      "  Frame at t_in_clip: 15.03s (Time for subtitle lookup: 15.03s)\n",
      "    Subtitle found: \"THIS SHADOWY FIGURE\" (SRT range: 14.47-15.61)\n",
      "      Drawing subtitle: 'THIS SHADOWY' at X=133.5, Y=1429, W=813, H=64, Color=(255, 255, 0, 255)\n",
      "      Drawing subtitle: 'FIGURE' at X=348.0, Y=1502, W=384, H=64, Color=(255, 255, 0, 255)\n",
      "  Frame at t_in_clip: 15.07s (Time for subtitle lookup: 15.07s)\n",
      "    Subtitle found: \"THIS SHADOWY FIGURE\" (SRT range: 14.47-15.61)\n",
      "      Drawing subtitle: 'THIS SHADOWY' at X=133.5, Y=1429, W=813, H=64, Color=(255, 255, 0, 255)\n",
      "      Drawing subtitle: 'FIGURE' at X=348.0, Y=1502, W=384, H=64, Color=(255, 255, 0, 255)\n"
     ]
    },
    {
     "name": "stderr",
     "output_type": "stream",
     "text": []
    },
    {
     "name": "stdout",
     "output_type": "stream",
     "text": [
      "  Frame at t_in_clip: 16.00s (Time for subtitle lookup: 16.00s)\n",
      "    Subtitle found: \"ONLY GLIMPSED IN EMMA MIEKO\" (SRT range: 15.95-17.41)\n",
      "      Drawing subtitle: 'ONLY GLIMPSED IN' at X=64.5, Y=1429, W=951, H=64, Color=(255, 255, 0, 255)\n",
      "      Drawing subtitle: 'EMMA MIEKO' at X=210.0, Y=1502, W=660, H=64, Color=(255, 255, 0, 255)\n",
      "  Frame at t_in_clip: 16.03s (Time for subtitle lookup: 16.03s)\n",
      "    Subtitle found: \"ONLY GLIMPSED IN EMMA MIEKO\" (SRT range: 15.95-17.41)\n",
      "      Drawing subtitle: 'ONLY GLIMPSED IN' at X=64.5, Y=1429, W=951, H=64, Color=(255, 255, 0, 255)\n",
      "      Drawing subtitle: 'EMMA MIEKO' at X=210.0, Y=1502, W=660, H=64, Color=(255, 255, 0, 255)\n",
      "  Frame at t_in_clip: 16.07s (Time for subtitle lookup: 16.07s)\n",
      "    Subtitle found: \"ONLY GLIMPSED IN EMMA MIEKO\" (SRT range: 15.95-17.41)\n",
      "      Drawing subtitle: 'ONLY GLIMPSED IN' at X=64.5, Y=1429, W=951, H=64, Color=(255, 255, 0, 255)\n",
      "      Drawing subtitle: 'EMMA MIEKO' at X=210.0, Y=1502, W=660, H=64, Color=(255, 255, 0, 255)\n"
     ]
    },
    {
     "name": "stderr",
     "output_type": "stream",
     "text": []
    },
    {
     "name": "stdout",
     "output_type": "stream",
     "text": [
      "  Frame at t_in_clip: 17.00s (Time for subtitle lookup: 17.00s)\n",
      "    Subtitle found: \"ONLY GLIMPSED IN EMMA MIEKO\" (SRT range: 15.95-17.41)\n",
      "      Drawing subtitle: 'ONLY GLIMPSED IN' at X=64.5, Y=1429, W=951, H=64, Color=(255, 255, 0, 255)\n",
      "      Drawing subtitle: 'EMMA MIEKO' at X=210.0, Y=1502, W=660, H=64, Color=(255, 255, 0, 255)\n",
      "  Frame at t_in_clip: 17.03s (Time for subtitle lookup: 17.03s)\n",
      "    Subtitle found: \"ONLY GLIMPSED IN EMMA MIEKO\" (SRT range: 15.95-17.41)\n",
      "      Drawing subtitle: 'ONLY GLIMPSED IN' at X=64.5, Y=1429, W=951, H=64, Color=(255, 255, 0, 255)\n",
      "      Drawing subtitle: 'EMMA MIEKO' at X=210.0, Y=1502, W=660, H=64, Color=(255, 255, 0, 255)\n",
      "  Frame at t_in_clip: 17.07s (Time for subtitle lookup: 17.07s)\n",
      "    Subtitle found: \"ONLY GLIMPSED IN EMMA MIEKO\" (SRT range: 15.95-17.41)\n",
      "      Drawing subtitle: 'ONLY GLIMPSED IN' at X=64.5, Y=1429, W=951, H=64, Color=(255, 255, 0, 255)\n",
      "      Drawing subtitle: 'EMMA MIEKO' at X=210.0, Y=1502, W=660, H=64, Color=(255, 255, 0, 255)\n"
     ]
    },
    {
     "name": "stderr",
     "output_type": "stream",
     "text": []
    },
    {
     "name": "stdout",
     "output_type": "stream",
     "text": [
      "  Frame at t_in_clip: 18.00s (Time for subtitle lookup: 18.00s)\n",
      "    No subtitle found for actual transcript time 18.00s.\n",
      "  Frame at t_in_clip: 18.03s (Time for subtitle lookup: 18.03s)\n",
      "    No subtitle found for actual transcript time 18.03s.\n"
     ]
    },
    {
     "name": "stderr",
     "output_type": "stream",
     "text": []
    },
    {
     "name": "stdout",
     "output_type": "stream",
     "text": [
      "  Frame at t_in_clip: 18.07s (Time for subtitle lookup: 18.07s)\n",
      "    No subtitle found for actual transcript time 18.07s.\n"
     ]
    },
    {
     "name": "stderr",
     "output_type": "stream",
     "text": []
    },
    {
     "name": "stdout",
     "output_type": "stream",
     "text": [
      "  Frame at t_in_clip: 19.00s (Time for subtitle lookup: 19.00s)\n",
      "    No subtitle found for actual transcript time 19.00s.\n",
      "  Frame at t_in_clip: 19.03s (Time for subtitle lookup: 19.03s)\n",
      "    No subtitle found for actual transcript time 19.03s.\n"
     ]
    },
    {
     "name": "stderr",
     "output_type": "stream",
     "text": []
    },
    {
     "name": "stdout",
     "output_type": "stream",
     "text": [
      "  Frame at t_in_clip: 19.07s (Time for subtitle lookup: 19.07s)\n",
      "    No subtitle found for actual transcript time 19.07s.\n"
     ]
    },
    {
     "name": "stderr",
     "output_type": "stream",
     "text": []
    },
    {
     "name": "stdout",
     "output_type": "stream",
     "text": [
      "  Frame at t_in_clip: 20.00s (Time for subtitle lookup: 20.00s)\n",
      "    Subtitle found: \"A VISIONS NOVEL\" (SRT range: 19.41-20.27)\n",
      "      Drawing subtitle: 'A VISIONS NOVEL' at X=86.5, Y=1502, W=907, H=64, Color=(255, 255, 0, 255)\n",
      "  Frame at t_in_clip: 20.03s (Time for subtitle lookup: 20.03s)\n",
      "    Subtitle found: \"A VISIONS NOVEL\" (SRT range: 19.41-20.27)\n",
      "      Drawing subtitle: 'A VISIONS NOVEL' at X=86.5, Y=1502, W=907, H=64, Color=(255, 255, 0, 255)\n"
     ]
    },
    {
     "name": "stderr",
     "output_type": "stream",
     "text": []
    },
    {
     "name": "stdout",
     "output_type": "stream",
     "text": [
      "  Frame at t_in_clip: 20.07s (Time for subtitle lookup: 20.07s)\n",
      "    Subtitle found: \"A VISIONS NOVEL\" (SRT range: 19.41-20.27)\n",
      "      Drawing subtitle: 'A VISIONS NOVEL' at X=86.5, Y=1502, W=907, H=64, Color=(255, 255, 0, 255)\n"
     ]
    },
    {
     "name": "stderr",
     "output_type": "stream",
     "text": []
    },
    {
     "name": "stdout",
     "output_type": "stream",
     "text": [
      "  Frame at t_in_clip: 21.00s (Time for subtitle lookup: 21.00s)\n",
      "    No subtitle found for actual transcript time 21.00s.\n",
      "  Frame at t_in_clip: 21.03s (Time for subtitle lookup: 21.03s)\n",
      "    No subtitle found for actual transcript time 21.03s.\n"
     ]
    },
    {
     "name": "stderr",
     "output_type": "stream",
     "text": []
    },
    {
     "name": "stdout",
     "output_type": "stream",
     "text": [
      "  Frame at t_in_clip: 21.07s (Time for subtitle lookup: 21.07s)\n",
      "    No subtitle found for actual transcript time 21.07s.\n"
     ]
    },
    {
     "name": "stderr",
     "output_type": "stream",
     "text": []
    },
    {
     "name": "stdout",
     "output_type": "stream",
     "text": [
      "  Frame at t_in_clip: 22.00s (Time for subtitle lookup: 22.00s)\n",
      "    Subtitle found: \"REMAINS A MYSTERY\" (SRT range: 21.27-22.17)\n",
      "      Drawing subtitle: 'REMAINS A' at X=250.0, Y=1429, W=580, H=64, Color=(255, 255, 0, 255)\n",
      "      Drawing subtitle: 'MYSTERY' at X=299.0, Y=1502, W=482, H=64, Color=(255, 255, 0, 255)\n",
      "  Frame at t_in_clip: 22.03s (Time for subtitle lookup: 22.03s)\n",
      "    Subtitle found: \"REMAINS A MYSTERY\" (SRT range: 21.27-22.17)\n",
      "      Drawing subtitle: 'REMAINS A' at X=250.0, Y=1429, W=580, H=64, Color=(255, 255, 0, 255)\n",
      "      Drawing subtitle: 'MYSTERY' at X=299.0, Y=1502, W=482, H=64, Color=(255, 255, 0, 255)\n",
      "  Frame at t_in_clip: 22.07s (Time for subtitle lookup: 22.07s)\n",
      "    Subtitle found: \"REMAINS A MYSTERY\" (SRT range: 21.27-22.17)\n",
      "      Drawing subtitle: 'REMAINS A' at X=250.0, Y=1429, W=580, H=64, Color=(255, 255, 0, 255)\n",
      "      Drawing subtitle: 'MYSTERY' at X=299.0, Y=1502, W=482, H=64, Color=(255, 255, 0, 255)\n"
     ]
    },
    {
     "name": "stderr",
     "output_type": "stream",
     "text": []
    },
    {
     "name": "stdout",
     "output_type": "stream",
     "text": [
      "  Frame at t_in_clip: 23.00s (Time for subtitle lookup: 23.00s)\n",
      "    Subtitle found: \"YET HIS AMBITION FOR THE\" (SRT range: 22.51-23.65)\n",
      "      Drawing subtitle: 'YET HIS AMBITION' at X=60.5, Y=1429, W=959, H=64, Color=(255, 255, 0, 255)\n",
      "      Drawing subtitle: 'FOR THE' at X=310.0, Y=1502, W=460, H=64, Color=(255, 255, 0, 255)\n",
      "  Frame at t_in_clip: 23.03s (Time for subtitle lookup: 23.03s)\n",
      "    Subtitle found: \"YET HIS AMBITION FOR THE\" (SRT range: 22.51-23.65)\n",
      "      Drawing subtitle: 'YET HIS AMBITION' at X=60.5, Y=1429, W=959, H=64, Color=(255, 255, 0, 255)\n",
      "      Drawing subtitle: 'FOR THE' at X=310.0, Y=1502, W=460, H=64, Color=(255, 255, 0, 255)\n"
     ]
    },
    {
     "name": "stderr",
     "output_type": "stream",
     "text": []
    },
    {
     "name": "stdout",
     "output_type": "stream",
     "text": [
      "  Frame at t_in_clip: 23.07s (Time for subtitle lookup: 23.07s)\n",
      "    Subtitle found: \"YET HIS AMBITION FOR THE\" (SRT range: 22.51-23.65)\n",
      "      Drawing subtitle: 'YET HIS AMBITION' at X=60.5, Y=1429, W=959, H=64, Color=(255, 255, 0, 255)\n",
      "      Drawing subtitle: 'FOR THE' at X=310.0, Y=1502, W=460, H=64, Color=(255, 255, 0, 255)\n"
     ]
    },
    {
     "name": "stderr",
     "output_type": "stream",
     "text": []
    },
    {
     "name": "stdout",
     "output_type": "stream",
     "text": [
      "  Frame at t_in_clip: 24.00s (Time for subtitle lookup: 24.00s)\n",
      "    Subtitle found: \"IMPERIAL THRONE IS UNDENIABLE\" (SRT range: 23.71-25.42)\n",
      "      Drawing subtitle: 'IMPERIAL THRONE' at X=60.0, Y=1429, W=960, H=64, Color=(255, 255, 0, 255)\n",
      "      Drawing subtitle: 'IS UNDENIABLE' at X=142.0, Y=1502, W=796, H=64, Color=(255, 255, 0, 255)\n",
      "  Frame at t_in_clip: 24.03s (Time for subtitle lookup: 24.03s)\n",
      "    Subtitle found: \"IMPERIAL THRONE IS UNDENIABLE\" (SRT range: 23.71-25.42)\n",
      "      Drawing subtitle: 'IMPERIAL THRONE' at X=60.0, Y=1429, W=960, H=64, Color=(255, 255, 0, 255)\n",
      "      Drawing subtitle: 'IS UNDENIABLE' at X=142.0, Y=1502, W=796, H=64, Color=(255, 255, 0, 255)\n"
     ]
    },
    {
     "name": "stderr",
     "output_type": "stream",
     "text": []
    },
    {
     "name": "stdout",
     "output_type": "stream",
     "text": [
      "  Frame at t_in_clip: 24.07s (Time for subtitle lookup: 24.07s)\n",
      "    Subtitle found: \"IMPERIAL THRONE IS UNDENIABLE\" (SRT range: 23.71-25.42)\n",
      "      Drawing subtitle: 'IMPERIAL THRONE' at X=60.0, Y=1429, W=960, H=64, Color=(255, 255, 0, 255)\n",
      "      Drawing subtitle: 'IS UNDENIABLE' at X=142.0, Y=1502, W=796, H=64, Color=(255, 255, 0, 255)\n"
     ]
    },
    {
     "name": "stderr",
     "output_type": "stream",
     "text": []
    },
    {
     "name": "stdout",
     "output_type": "stream",
     "text": [
      "  Frame at t_in_clip: 25.00s (Time for subtitle lookup: 25.00s)\n",
      "    Subtitle found: \"IMPERIAL THRONE IS UNDENIABLE\" (SRT range: 23.71-25.42)\n",
      "      Drawing subtitle: 'IMPERIAL THRONE' at X=60.0, Y=1429, W=960, H=64, Color=(255, 255, 0, 255)\n",
      "      Drawing subtitle: 'IS UNDENIABLE' at X=142.0, Y=1502, W=796, H=64, Color=(255, 255, 0, 255)\n",
      "  Frame at t_in_clip: 25.03s (Time for subtitle lookup: 25.03s)\n",
      "    Subtitle found: \"IMPERIAL THRONE IS UNDENIABLE\" (SRT range: 23.71-25.42)\n",
      "      Drawing subtitle: 'IMPERIAL THRONE' at X=60.0, Y=1429, W=960, H=64, Color=(255, 255, 0, 255)\n",
      "      Drawing subtitle: 'IS UNDENIABLE' at X=142.0, Y=1502, W=796, H=64, Color=(255, 255, 0, 255)\n"
     ]
    },
    {
     "name": "stderr",
     "output_type": "stream",
     "text": []
    },
    {
     "name": "stdout",
     "output_type": "stream",
     "text": [
      "  Frame at t_in_clip: 25.07s (Time for subtitle lookup: 25.07s)\n",
      "    Subtitle found: \"IMPERIAL THRONE IS UNDENIABLE\" (SRT range: 23.71-25.42)\n",
      "      Drawing subtitle: 'IMPERIAL THRONE' at X=60.0, Y=1429, W=960, H=64, Color=(255, 255, 0, 255)\n",
      "      Drawing subtitle: 'IS UNDENIABLE' at X=142.0, Y=1502, W=796, H=64, Color=(255, 255, 0, 255)\n"
     ]
    },
    {
     "name": "stderr",
     "output_type": "stream",
     "text": []
    },
    {
     "name": "stdout",
     "output_type": "stream",
     "text": [
      "  Frame at t_in_clip: 26.00s (Time for subtitle lookup: 26.00s)\n",
      "    No subtitle found for actual transcript time 26.00s.\n",
      "  Frame at t_in_clip: 26.03s (Time for subtitle lookup: 26.03s)\n",
      "    No subtitle found for actual transcript time 26.03s.\n",
      "  Frame at t_in_clip: 26.07s (Time for subtitle lookup: 26.07s)\n"
     ]
    },
    {
     "name": "stderr",
     "output_type": "stream",
     "text": []
    },
    {
     "name": "stdout",
     "output_type": "stream",
     "text": [
      "    No subtitle found for actual transcript time 26.07s.\n"
     ]
    },
    {
     "name": "stderr",
     "output_type": "stream",
     "text": [
      "t:  32%|███▏      | 566/1769 [4:10:36<02:59,  6.70it/s, now=None]"
     ]
    },
    {
     "name": "stdout",
     "output_type": "stream",
     "text": [
      "Moviepy - Done !\n",
      "Moviepy - video ready ../data/generated_shorts\\Character stubs\\Unidentified Second Prince_short.mp4\n",
      "Successfully created short for 'Unidentified Second Prince'.\n",
      "Cleaned temporary image directory: ../data/temp_images\n",
      "Short creation and logging complete for 'Unidentified Second Prince'.\n",
      "\n",
      "Processing audio file: ../data/generated_audio\\Codes\\Protocol 514.mp3 for short creation.\n",
      "Loaded article content from: ../data/generated_articles\\Codes\\Protocol 514.txt\n",
      "No image URLs found in article content.\n",
      "Cleaned temporary image directory: ../data/temp_images\n",
      "Loaded 13 subtitle entries from: ../data/generated_transcripts\\Codes\\Protocol 514.srt\n",
      "Loaded audio: Protocol 514.mp3 (Duration: 28.51s)\n",
      "Loaded main video: minecraft01.mp4 (Duration: 1076.82s)\n",
      "Selected video segment: 38.63s to 67.14s (Clip duration: 28.51s)\n"
     ]
    },
    {
     "name": "stderr",
     "output_type": "stream",
     "text": [
      "t:  32%|███▏      | 566/1769 [4:10:37<02:59,  6.70it/s, now=None]"
     ]
    },
    {
     "name": "stdout",
     "output_type": "stream",
     "text": [
      "Cropping width from 1920 to 607 to fit 9:16.\n",
      "Resized to final resolution: 1080x1920\n",
      "No image URLs found for overlay.\n",
      "  Frame at t_in_clip: 0.00s (Time for subtitle lookup: 0.00s)\n",
      "    Subtitle found: \"ON THE REMOTE PLANET CORE\" (SRT range: 0.00-2.36)\n",
      "      Drawing subtitle: 'ON THE REMOTE' at X=109.0, Y=1429, W=862, H=64, Color=(255, 255, 0, 255)\n",
      "      Drawing subtitle: 'PLANET CORE' at X=171.5, Y=1502, W=737, H=64, Color=(255, 255, 0, 255)\n",
      "Writing final video to: ../data/generated_shorts\\Codes\\Protocol 514_short.mp4\n",
      "Moviepy - Building video ../data/generated_shorts\\Codes\\Protocol 514_short.mp4.\n",
      "MoviePy - Writing audio in Protocol 514_shortTEMP_MPY_wvf_snd.mp3\n"
     ]
    },
    {
     "name": "stderr",
     "output_type": "stream",
     "text": [
      "t:  32%|███▏      | 566/1769 [4:10:37<02:59,  6.70it/s, now=None]"
     ]
    },
    {
     "name": "stdout",
     "output_type": "stream",
     "text": [
      "MoviePy - Done.\n",
      "Moviepy - Writing video ../data/generated_shorts\\Codes\\Protocol 514_short.mp4\n",
      "\n"
     ]
    },
    {
     "name": "stderr",
     "output_type": "stream",
     "text": []
    },
    {
     "name": "stdout",
     "output_type": "stream",
     "text": [
      "  Frame at t_in_clip: 0.00s (Time for subtitle lookup: 0.00s)\n",
      "    Subtitle found: \"ON THE REMOTE PLANET CORE\" (SRT range: 0.00-2.36)\n",
      "      Drawing subtitle: 'ON THE REMOTE' at X=109.0, Y=1429, W=862, H=64, Color=(255, 255, 0, 255)\n",
      "      Drawing subtitle: 'PLANET CORE' at X=171.5, Y=1502, W=737, H=64, Color=(255, 255, 0, 255)\n",
      "  Frame at t_in_clip: 0.03s (Time for subtitle lookup: 0.03s)\n",
      "    Subtitle found: \"ON THE REMOTE PLANET CORE\" (SRT range: 0.00-2.36)\n",
      "      Drawing subtitle: 'ON THE REMOTE' at X=109.0, Y=1429, W=862, H=64, Color=(255, 255, 0, 255)\n",
      "      Drawing subtitle: 'PLANET CORE' at X=171.5, Y=1502, W=737, H=64, Color=(255, 255, 0, 255)\n"
     ]
    },
    {
     "name": "stderr",
     "output_type": "stream",
     "text": []
    },
    {
     "name": "stdout",
     "output_type": "stream",
     "text": [
      "  Frame at t_in_clip: 0.07s (Time for subtitle lookup: 0.07s)\n"
     ]
    },
    {
     "name": "stderr",
     "output_type": "stream",
     "text": []
    },
    {
     "name": "stdout",
     "output_type": "stream",
     "text": [
      "    Subtitle found: \"ON THE REMOTE PLANET CORE\" (SRT range: 0.00-2.36)\n",
      "      Drawing subtitle: 'ON THE REMOTE' at X=109.0, Y=1429, W=862, H=64, Color=(255, 255, 0, 255)\n",
      "      Drawing subtitle: 'PLANET CORE' at X=171.5, Y=1502, W=737, H=64, Color=(255, 255, 0, 255)\n"
     ]
    },
    {
     "name": "stderr",
     "output_type": "stream",
     "text": []
    },
    {
     "name": "stdout",
     "output_type": "stream",
     "text": [
      "  Frame at t_in_clip: 1.00s (Time for subtitle lookup: 1.00s)\n",
      "    Subtitle found: \"ON THE REMOTE PLANET CORE\" (SRT range: 0.00-2.36)\n",
      "      Drawing subtitle: 'ON THE REMOTE' at X=109.0, Y=1429, W=862, H=64, Color=(255, 255, 0, 255)\n",
      "      Drawing subtitle: 'PLANET CORE' at X=171.5, Y=1502, W=737, H=64, Color=(255, 255, 0, 255)\n",
      "  Frame at t_in_clip: 1.03s (Time for subtitle lookup: 1.03s)\n",
      "    Subtitle found: \"ON THE REMOTE PLANET CORE\" (SRT range: 0.00-2.36)\n",
      "      Drawing subtitle: 'ON THE REMOTE' at X=109.0, Y=1429, W=862, H=64, Color=(255, 255, 0, 255)\n",
      "      Drawing subtitle: 'PLANET CORE' at X=171.5, Y=1502, W=737, H=64, Color=(255, 255, 0, 255)\n",
      "  Frame at t_in_clip: 1.07s (Time for subtitle lookup: 1.07s)\n",
      "    Subtitle found: \"ON THE REMOTE PLANET CORE\" (SRT range: 0.00-2.36)\n",
      "      Drawing subtitle: 'ON THE REMOTE' at X=109.0, Y=1429, W=862, H=64, Color=(255, 255, 0, 255)\n",
      "      Drawing subtitle: 'PLANET CORE' at X=171.5, Y=1502, W=737, H=64, Color=(255, 255, 0, 255)\n"
     ]
    },
    {
     "name": "stderr",
     "output_type": "stream",
     "text": []
    },
    {
     "name": "stdout",
     "output_type": "stream",
     "text": [
      "  Frame at t_in_clip: 2.00s (Time for subtitle lookup: 2.00s)\n",
      "    Subtitle found: \"ON THE REMOTE PLANET CORE\" (SRT range: 0.00-2.36)\n",
      "      Drawing subtitle: 'ON THE REMOTE' at X=109.0, Y=1429, W=862, H=64, Color=(255, 255, 0, 255)\n",
      "      Drawing subtitle: 'PLANET CORE' at X=171.5, Y=1502, W=737, H=64, Color=(255, 255, 0, 255)\n",
      "  Frame at t_in_clip: 2.03s (Time for subtitle lookup: 2.03s)\n",
      "    Subtitle found: \"ON THE REMOTE PLANET CORE\" (SRT range: 0.00-2.36)\n",
      "      Drawing subtitle: 'ON THE REMOTE' at X=109.0, Y=1429, W=862, H=64, Color=(255, 255, 0, 255)\n",
      "      Drawing subtitle: 'PLANET CORE' at X=171.5, Y=1502, W=737, H=64, Color=(255, 255, 0, 255)\n",
      "  Frame at t_in_clip: 2.07s (Time for subtitle lookup: 2.07s)\n",
      "    Subtitle found: \"ON THE REMOTE PLANET CORE\" (SRT range: 0.00-2.36)\n",
      "      Drawing subtitle: 'ON THE REMOTE' at X=109.0, Y=1429, W=862, H=64, Color=(255, 255, 0, 255)\n",
      "      Drawing subtitle: 'PLANET CORE' at X=171.5, Y=1502, W=737, H=64, Color=(255, 255, 0, 255)\n"
     ]
    },
    {
     "name": "stderr",
     "output_type": "stream",
     "text": []
    },
    {
     "name": "stdout",
     "output_type": "stream",
     "text": [
      "  Frame at t_in_clip: 3.00s (Time for subtitle lookup: 3.00s)\n",
      "    Subtitle found: \"TORROBO INDUSTRIES SECRETLY ACTIVATED PROTOCOL\" (SRT range: 2.70-5.98)\n",
      "      Drawing subtitle: 'TORROBO' at X=285.5, Y=1210, W=509, H=64, Color=(255, 255, 0, 255)\n",
      "      Drawing subtitle: 'INDUSTRIES' at X=236.0, Y=1283, W=608, H=64, Color=(255, 255, 0, 255)\n",
      "      Drawing subtitle: 'SECRETLY' at X=272.5, Y=1356, W=535, H=64, Color=(255, 255, 0, 255)\n",
      "      Drawing subtitle: 'ACTIVATED' at X=252.0, Y=1429, W=576, H=64, Color=(255, 255, 0, 255)\n",
      "      Drawing subtitle: 'PROTOCOL' at X=260.5, Y=1502, W=559, H=64, Color=(255, 255, 0, 255)\n",
      "  Frame at t_in_clip: 3.03s (Time for subtitle lookup: 3.03s)\n",
      "    Subtitle found: \"TORROBO INDUSTRIES SECRETLY ACTIVATED PROTOCOL\" (SRT range: 2.70-5.98)\n",
      "      Drawing subtitle: 'TORROBO' at X=285.5, Y=1210, W=509, H=64, Color=(255, 255, 0, 255)\n",
      "      Drawing subtitle: 'INDUSTRIES' at X=236.0, Y=1283, W=608, H=64, Color=(255, 255, 0, 255)\n",
      "      Drawing subtitle: 'SECRETLY' at X=272.5, Y=1356, W=535, H=64, Color=(255, 255, 0, 255)\n",
      "      Drawing subtitle: 'ACTIVATED' at X=252.0, Y=1429, W=576, H=64, Color=(255, 255, 0, 255)\n",
      "      Drawing subtitle: 'PROTOCOL' at X=260.5, Y=1502, W=559, H=64, Color=(255, 255, 0, 255)\n",
      "  Frame at t_in_clip: 3.07s (Time for subtitle lookup: 3.07s)\n",
      "    Subtitle found: \"TORROBO INDUSTRIES SECRETLY ACTIVATED PROTOCOL\" (SRT range: 2.70-5.98)\n",
      "      Drawing subtitle: 'TORROBO' at X=285.5, Y=1210, W=509, H=64, Color=(255, 255, 0, 255)\n",
      "      Drawing subtitle: 'INDUSTRIES' at X=236.0, Y=1283, W=608, H=64, Color=(255, 255, 0, 255)\n",
      "      Drawing subtitle: 'SECRETLY' at X=272.5, Y=1356, W=535, H=64, Color=(255, 255, 0, 255)\n"
     ]
    },
    {
     "name": "stderr",
     "output_type": "stream",
     "text": []
    },
    {
     "name": "stdout",
     "output_type": "stream",
     "text": [
      "      Drawing subtitle: 'ACTIVATED' at X=252.0, Y=1429, W=576, H=64, Color=(255, 255, 0, 255)\n",
      "      Drawing subtitle: 'PROTOCOL' at X=260.5, Y=1502, W=559, H=64, Color=(255, 255, 0, 255)\n"
     ]
    },
    {
     "name": "stderr",
     "output_type": "stream",
     "text": []
    },
    {
     "name": "stdout",
     "output_type": "stream",
     "text": [
      "  Frame at t_in_clip: 4.00s (Time for subtitle lookup: 4.00s)\n",
      "    Subtitle found: \"TORROBO INDUSTRIES SECRETLY ACTIVATED PROTOCOL\" (SRT range: 2.70-5.98)\n",
      "      Drawing subtitle: 'TORROBO' at X=285.5, Y=1210, W=509, H=64, Color=(255, 255, 0, 255)\n",
      "      Drawing subtitle: 'INDUSTRIES' at X=236.0, Y=1283, W=608, H=64, Color=(255, 255, 0, 255)\n",
      "      Drawing subtitle: 'SECRETLY' at X=272.5, Y=1356, W=535, H=64, Color=(255, 255, 0, 255)\n",
      "      Drawing subtitle: 'ACTIVATED' at X=252.0, Y=1429, W=576, H=64, Color=(255, 255, 0, 255)\n",
      "      Drawing subtitle: 'PROTOCOL' at X=260.5, Y=1502, W=559, H=64, Color=(255, 255, 0, 255)\n",
      "  Frame at t_in_clip: 4.03s (Time for subtitle lookup: 4.03s)\n",
      "    Subtitle found: \"TORROBO INDUSTRIES SECRETLY ACTIVATED PROTOCOL\" (SRT range: 2.70-5.98)\n",
      "      Drawing subtitle: 'TORROBO' at X=285.5, Y=1210, W=509, H=64, Color=(255, 255, 0, 255)\n",
      "      Drawing subtitle: 'INDUSTRIES' at X=236.0, Y=1283, W=608, H=64, Color=(255, 255, 0, 255)\n",
      "      Drawing subtitle: 'SECRETLY' at X=272.5, Y=1356, W=535, H=64, Color=(255, 255, 0, 255)\n",
      "      Drawing subtitle: 'ACTIVATED' at X=252.0, Y=1429, W=576, H=64, Color=(255, 255, 0, 255)\n",
      "      Drawing subtitle: 'PROTOCOL' at X=260.5, Y=1502, W=559, H=64, Color=(255, 255, 0, 255)\n"
     ]
    },
    {
     "name": "stderr",
     "output_type": "stream",
     "text": []
    },
    {
     "name": "stdout",
     "output_type": "stream",
     "text": [
      "  Frame at t_in_clip: 4.07s (Time for subtitle lookup: 4.07s)\n",
      "    Subtitle found: \"TORROBO INDUSTRIES SECRETLY ACTIVATED PROTOCOL\" (SRT range: 2.70-5.98)\n",
      "      Drawing subtitle: 'TORROBO' at X=285.5, Y=1210, W=509, H=64, Color=(255, 255, 0, 255)\n",
      "      Drawing subtitle: 'INDUSTRIES' at X=236.0, Y=1283, W=608, H=64, Color=(255, 255, 0, 255)\n",
      "      Drawing subtitle: 'SECRETLY' at X=272.5, Y=1356, W=535, H=64, Color=(255, 255, 0, 255)\n",
      "      Drawing subtitle: 'ACTIVATED' at X=252.0, Y=1429, W=576, H=64, Color=(255, 255, 0, 255)\n",
      "      Drawing subtitle: 'PROTOCOL' at X=260.5, Y=1502, W=559, H=64, Color=(255, 255, 0, 255)\n"
     ]
    },
    {
     "name": "stderr",
     "output_type": "stream",
     "text": []
    },
    {
     "name": "stdout",
     "output_type": "stream",
     "text": [
      "  Frame at t_in_clip: 5.00s (Time for subtitle lookup: 5.00s)\n",
      "    Subtitle found: \"TORROBO INDUSTRIES SECRETLY ACTIVATED PROTOCOL\" (SRT range: 2.70-5.98)\n",
      "      Drawing subtitle: 'TORROBO' at X=285.5, Y=1210, W=509, H=64, Color=(255, 255, 0, 255)\n",
      "      Drawing subtitle: 'INDUSTRIES' at X=236.0, Y=1283, W=608, H=64, Color=(255, 255, 0, 255)\n",
      "      Drawing subtitle: 'SECRETLY' at X=272.5, Y=1356, W=535, H=64, Color=(255, 255, 0, 255)\n",
      "      Drawing subtitle: 'ACTIVATED' at X=252.0, Y=1429, W=576, H=64, Color=(255, 255, 0, 255)\n",
      "      Drawing subtitle: 'PROTOCOL' at X=260.5, Y=1502, W=559, H=64, Color=(255, 255, 0, 255)\n",
      "  Frame at t_in_clip: 5.03s (Time for subtitle lookup: 5.03s)\n",
      "    Subtitle found: \"TORROBO INDUSTRIES SECRETLY ACTIVATED PROTOCOL\" (SRT range: 2.70-5.98)\n",
      "      Drawing subtitle: 'TORROBO' at X=285.5, Y=1210, W=509, H=64, Color=(255, 255, 0, 255)\n",
      "      Drawing subtitle: 'INDUSTRIES' at X=236.0, Y=1283, W=608, H=64, Color=(255, 255, 0, 255)\n",
      "      Drawing subtitle: 'SECRETLY' at X=272.5, Y=1356, W=535, H=64, Color=(255, 255, 0, 255)\n",
      "      Drawing subtitle: 'ACTIVATED' at X=252.0, Y=1429, W=576, H=64, Color=(255, 255, 0, 255)\n",
      "      Drawing subtitle: 'PROTOCOL' at X=260.5, Y=1502, W=559, H=64, Color=(255, 255, 0, 255)\n"
     ]
    },
    {
     "name": "stderr",
     "output_type": "stream",
     "text": []
    },
    {
     "name": "stdout",
     "output_type": "stream",
     "text": [
      "  Frame at t_in_clip: 5.07s (Time for subtitle lookup: 5.07s)\n",
      "    Subtitle found: \"TORROBO INDUSTRIES SECRETLY ACTIVATED PROTOCOL\" (SRT range: 2.70-5.98)\n",
      "      Drawing subtitle: 'TORROBO' at X=285.5, Y=1210, W=509, H=64, Color=(255, 255, 0, 255)\n",
      "      Drawing subtitle: 'INDUSTRIES' at X=236.0, Y=1283, W=608, H=64, Color=(255, 255, 0, 255)\n",
      "      Drawing subtitle: 'SECRETLY' at X=272.5, Y=1356, W=535, H=64, Color=(255, 255, 0, 255)\n",
      "      Drawing subtitle: 'ACTIVATED' at X=252.0, Y=1429, W=576, H=64, Color=(255, 255, 0, 255)\n",
      "      Drawing subtitle: 'PROTOCOL' at X=260.5, Y=1502, W=559, H=64, Color=(255, 255, 0, 255)\n"
     ]
    },
    {
     "name": "stderr",
     "output_type": "stream",
     "text": []
    },
    {
     "name": "stdout",
     "output_type": "stream",
     "text": [
      "  Frame at t_in_clip: 6.00s (Time for subtitle lookup: 6.00s)\n",
      "    No subtitle found for actual transcript time 6.00s.\n",
      "  Frame at t_in_clip: 6.03s (Time for subtitle lookup: 6.03s)\n",
      "    No subtitle found for actual transcript time 6.03s.\n"
     ]
    },
    {
     "name": "stderr",
     "output_type": "stream",
     "text": []
    },
    {
     "name": "stdout",
     "output_type": "stream",
     "text": [
      "  Frame at t_in_clip: 6.07s (Time for subtitle lookup: 6.07s)\n",
      "    No subtitle found for actual transcript time 6.07s.\n"
     ]
    },
    {
     "name": "stderr",
     "output_type": "stream",
     "text": []
    },
    {
     "name": "stdout",
     "output_type": "stream",
     "text": [
      "  Frame at t_in_clip: 7.00s (Time for subtitle lookup: 7.00s)\n",
      "    Subtitle found: \"THIS DRASTIC MEASURE WIPED THE\" (SRT range: 6.84-9.52)\n",
      "      Drawing subtitle: 'THIS DRASTIC' at X=182.0, Y=1356, W=716, H=64, Color=(255, 255, 0, 255)\n",
      "      Drawing subtitle: 'MEASURE WIPED' at X=96.5, Y=1429, W=887, H=64, Color=(255, 255, 0, 255)\n",
      "      Drawing subtitle: 'THE' at X=434.0, Y=1502, W=212, H=64, Color=(255, 255, 0, 255)\n",
      "  Frame at t_in_clip: 7.03s (Time for subtitle lookup: 7.03s)\n",
      "    Subtitle found: \"THIS DRASTIC MEASURE WIPED THE\" (SRT range: 6.84-9.52)\n",
      "      Drawing subtitle: 'THIS DRASTIC' at X=182.0, Y=1356, W=716, H=64, Color=(255, 255, 0, 255)\n",
      "      Drawing subtitle: 'MEASURE WIPED' at X=96.5, Y=1429, W=887, H=64, Color=(255, 255, 0, 255)\n",
      "      Drawing subtitle: 'THE' at X=434.0, Y=1502, W=212, H=64, Color=(255, 255, 0, 255)\n"
     ]
    },
    {
     "name": "stderr",
     "output_type": "stream",
     "text": []
    },
    {
     "name": "stdout",
     "output_type": "stream",
     "text": [
      "  Frame at t_in_clip: 7.07s (Time for subtitle lookup: 7.07s)\n",
      "    Subtitle found: \"THIS DRASTIC MEASURE WIPED THE\" (SRT range: 6.84-9.52)\n",
      "      Drawing subtitle: 'THIS DRASTIC' at X=182.0, Y=1356, W=716, H=64, Color=(255, 255, 0, 255)\n",
      "      Drawing subtitle: 'MEASURE WIPED' at X=96.5, Y=1429, W=887, H=64, Color=(255, 255, 0, 255)\n",
      "      Drawing subtitle: 'THE' at X=434.0, Y=1502, W=212, H=64, Color=(255, 255, 0, 255)\n"
     ]
    },
    {
     "name": "stderr",
     "output_type": "stream",
     "text": []
    },
    {
     "name": "stdout",
     "output_type": "stream",
     "text": [
      "  Frame at t_in_clip: 8.00s (Time for subtitle lookup: 8.00s)\n",
      "    Subtitle found: \"THIS DRASTIC MEASURE WIPED THE\" (SRT range: 6.84-9.52)\n",
      "      Drawing subtitle: 'THIS DRASTIC' at X=182.0, Y=1356, W=716, H=64, Color=(255, 255, 0, 255)\n",
      "      Drawing subtitle: 'MEASURE WIPED' at X=96.5, Y=1429, W=887, H=64, Color=(255, 255, 0, 255)\n",
      "      Drawing subtitle: 'THE' at X=434.0, Y=1502, W=212, H=64, Color=(255, 255, 0, 255)\n",
      "  Frame at t_in_clip: 8.03s (Time for subtitle lookup: 8.03s)\n",
      "    Subtitle found: \"THIS DRASTIC MEASURE WIPED THE\" (SRT range: 6.84-9.52)\n",
      "      Drawing subtitle: 'THIS DRASTIC' at X=182.0, Y=1356, W=716, H=64, Color=(255, 255, 0, 255)\n",
      "      Drawing subtitle: 'MEASURE WIPED' at X=96.5, Y=1429, W=887, H=64, Color=(255, 255, 0, 255)\n",
      "      Drawing subtitle: 'THE' at X=434.0, Y=1502, W=212, H=64, Color=(255, 255, 0, 255)\n"
     ]
    },
    {
     "name": "stderr",
     "output_type": "stream",
     "text": []
    },
    {
     "name": "stdout",
     "output_type": "stream",
     "text": [
      "  Frame at t_in_clip: 8.07s (Time for subtitle lookup: 8.07s)\n",
      "    Subtitle found: \"THIS DRASTIC MEASURE WIPED THE\" (SRT range: 6.84-9.52)\n",
      "      Drawing subtitle: 'THIS DRASTIC' at X=182.0, Y=1356, W=716, H=64, Color=(255, 255, 0, 255)\n",
      "      Drawing subtitle: 'MEASURE WIPED' at X=96.5, Y=1429, W=887, H=64, Color=(255, 255, 0, 255)\n",
      "      Drawing subtitle: 'THE' at X=434.0, Y=1502, W=212, H=64, Color=(255, 255, 0, 255)\n"
     ]
    },
    {
     "name": "stderr",
     "output_type": "stream",
     "text": []
    },
    {
     "name": "stdout",
     "output_type": "stream",
     "text": [
      "  Frame at t_in_clip: 9.00s (Time for subtitle lookup: 9.00s)\n",
      "    Subtitle found: \"THIS DRASTIC MEASURE WIPED THE\" (SRT range: 6.84-9.52)\n",
      "      Drawing subtitle: 'THIS DRASTIC' at X=182.0, Y=1356, W=716, H=64, Color=(255, 255, 0, 255)\n",
      "      Drawing subtitle: 'MEASURE WIPED' at X=96.5, Y=1429, W=887, H=64, Color=(255, 255, 0, 255)\n",
      "      Drawing subtitle: 'THE' at X=434.0, Y=1502, W=212, H=64, Color=(255, 255, 0, 255)\n",
      "  Frame at t_in_clip: 9.03s (Time for subtitle lookup: 9.03s)\n",
      "    Subtitle found: \"THIS DRASTIC MEASURE WIPED THE\" (SRT range: 6.84-9.52)\n",
      "      Drawing subtitle: 'THIS DRASTIC' at X=182.0, Y=1356, W=716, H=64, Color=(255, 255, 0, 255)\n",
      "      Drawing subtitle: 'MEASURE WIPED' at X=96.5, Y=1429, W=887, H=64, Color=(255, 255, 0, 255)\n",
      "      Drawing subtitle: 'THE' at X=434.0, Y=1502, W=212, H=64, Color=(255, 255, 0, 255)\n"
     ]
    },
    {
     "name": "stderr",
     "output_type": "stream",
     "text": []
    },
    {
     "name": "stdout",
     "output_type": "stream",
     "text": [
      "  Frame at t_in_clip: 9.07s (Time for subtitle lookup: 9.07s)\n",
      "    Subtitle found: \"THIS DRASTIC MEASURE WIPED THE\" (SRT range: 6.84-9.52)\n",
      "      Drawing subtitle: 'THIS DRASTIC' at X=182.0, Y=1356, W=716, H=64, Color=(255, 255, 0, 255)\n",
      "      Drawing subtitle: 'MEASURE WIPED' at X=96.5, Y=1429, W=887, H=64, Color=(255, 255, 0, 255)\n",
      "      Drawing subtitle: 'THE' at X=434.0, Y=1502, W=212, H=64, Color=(255, 255, 0, 255)\n"
     ]
    },
    {
     "name": "stderr",
     "output_type": "stream",
     "text": []
    },
    {
     "name": "stdout",
     "output_type": "stream",
     "text": [
      "  Frame at t_in_clip: 10.00s (Time for subtitle lookup: 10.00s)\n",
      "    Subtitle found: \"MEMORIES OF EVERY DROID IN\" (SRT range: 9.56-10.90)\n",
      "      Drawing subtitle: 'MEMORIES OF' at X=182.0, Y=1429, W=716, H=64, Color=(255, 255, 0, 255)\n",
      "      Drawing subtitle: 'EVERY DROID IN' at X=116.0, Y=1502, W=848, H=64, Color=(255, 255, 0, 255)\n",
      "  Frame at t_in_clip: 10.03s (Time for subtitle lookup: 10.03s)\n",
      "    Subtitle found: \"MEMORIES OF EVERY DROID IN\" (SRT range: 9.56-10.90)\n",
      "      Drawing subtitle: 'MEMORIES OF' at X=182.0, Y=1429, W=716, H=64, Color=(255, 255, 0, 255)\n",
      "      Drawing subtitle: 'EVERY DROID IN' at X=116.0, Y=1502, W=848, H=64, Color=(255, 255, 0, 255)\n"
     ]
    },
    {
     "name": "stderr",
     "output_type": "stream",
     "text": []
    },
    {
     "name": "stdout",
     "output_type": "stream",
     "text": [
      "  Frame at t_in_clip: 10.07s (Time for subtitle lookup: 10.07s)\n",
      "    Subtitle found: \"MEMORIES OF EVERY DROID IN\" (SRT range: 9.56-10.90)\n",
      "      Drawing subtitle: 'MEMORIES OF' at X=182.0, Y=1429, W=716, H=64, Color=(255, 255, 0, 255)\n",
      "      Drawing subtitle: 'EVERY DROID IN' at X=116.0, Y=1502, W=848, H=64, Color=(255, 255, 0, 255)\n"
     ]
    },
    {
     "name": "stderr",
     "output_type": "stream",
     "text": []
    },
    {
     "name": "stdout",
     "output_type": "stream",
     "text": [
      "  Frame at t_in_clip: 11.00s (Time for subtitle lookup: 11.00s)\n",
      "    Subtitle found: \"THEIR PROCESSING CENTER\" (SRT range: 10.95-13.27)\n",
      "      Drawing subtitle: 'THEIR' at X=382.0, Y=1356, W=316, H=64, Color=(255, 255, 0, 255)\n",
      "      Drawing subtitle: 'PROCESSING' at X=213.0, Y=1429, W=654, H=64, Color=(255, 255, 0, 255)\n",
      "      Drawing subtitle: 'CENTER' at X=330.0, Y=1502, W=420, H=64, Color=(255, 255, 0, 255)\n",
      "  Frame at t_in_clip: 11.03s (Time for subtitle lookup: 11.03s)\n",
      "    Subtitle found: \"THEIR PROCESSING CENTER\" (SRT range: 10.95-13.27)\n",
      "      Drawing subtitle: 'THEIR' at X=382.0, Y=1356, W=316, H=64, Color=(255, 255, 0, 255)\n",
      "      Drawing subtitle: 'PROCESSING' at X=213.0, Y=1429, W=654, H=64, Color=(255, 255, 0, 255)\n",
      "      Drawing subtitle: 'CENTER' at X=330.0, Y=1502, W=420, H=64, Color=(255, 255, 0, 255)\n"
     ]
    },
    {
     "name": "stderr",
     "output_type": "stream",
     "text": []
    },
    {
     "name": "stdout",
     "output_type": "stream",
     "text": [
      "  Frame at t_in_clip: 11.07s (Time for subtitle lookup: 11.07s)\n",
      "    Subtitle found: \"THEIR PROCESSING CENTER\" (SRT range: 10.95-13.27)\n",
      "      Drawing subtitle: 'THEIR' at X=382.0, Y=1356, W=316, H=64, Color=(255, 255, 0, 255)\n",
      "      Drawing subtitle: 'PROCESSING' at X=213.0, Y=1429, W=654, H=64, Color=(255, 255, 0, 255)\n",
      "      Drawing subtitle: 'CENTER' at X=330.0, Y=1502, W=420, H=64, Color=(255, 255, 0, 255)\n"
     ]
    },
    {
     "name": "stderr",
     "output_type": "stream",
     "text": []
    },
    {
     "name": "stdout",
     "output_type": "stream",
     "text": [
      "  Frame at t_in_clip: 12.00s (Time for subtitle lookup: 12.00s)\n",
      "    Subtitle found: \"THEIR PROCESSING CENTER\" (SRT range: 10.95-13.27)\n",
      "      Drawing subtitle: 'THEIR' at X=382.0, Y=1356, W=316, H=64, Color=(255, 255, 0, 255)\n",
      "      Drawing subtitle: 'PROCESSING' at X=213.0, Y=1429, W=654, H=64, Color=(255, 255, 0, 255)\n",
      "      Drawing subtitle: 'CENTER' at X=330.0, Y=1502, W=420, H=64, Color=(255, 255, 0, 255)\n",
      "  Frame at t_in_clip: 12.03s (Time for subtitle lookup: 12.03s)\n",
      "    Subtitle found: \"THEIR PROCESSING CENTER\" (SRT range: 10.95-13.27)\n",
      "      Drawing subtitle: 'THEIR' at X=382.0, Y=1356, W=316, H=64, Color=(255, 255, 0, 255)\n",
      "      Drawing subtitle: 'PROCESSING' at X=213.0, Y=1429, W=654, H=64, Color=(255, 255, 0, 255)\n",
      "      Drawing subtitle: 'CENTER' at X=330.0, Y=1502, W=420, H=64, Color=(255, 255, 0, 255)\n"
     ]
    },
    {
     "name": "stderr",
     "output_type": "stream",
     "text": []
    },
    {
     "name": "stdout",
     "output_type": "stream",
     "text": [
      "  Frame at t_in_clip: 12.07s (Time for subtitle lookup: 12.07s)\n",
      "    Subtitle found: \"THEIR PROCESSING CENTER\" (SRT range: 10.95-13.27)\n",
      "      Drawing subtitle: 'THEIR' at X=382.0, Y=1356, W=316, H=64, Color=(255, 255, 0, 255)\n",
      "      Drawing subtitle: 'PROCESSING' at X=213.0, Y=1429, W=654, H=64, Color=(255, 255, 0, 255)\n",
      "      Drawing subtitle: 'CENTER' at X=330.0, Y=1502, W=420, H=64, Color=(255, 255, 0, 255)\n"
     ]
    },
    {
     "name": "stderr",
     "output_type": "stream",
     "text": []
    },
    {
     "name": "stdout",
     "output_type": "stream",
     "text": [
      "  Frame at t_in_clip: 13.00s (Time for subtitle lookup: 13.00s)\n",
      "    Subtitle found: \"THEIR PROCESSING CENTER\" (SRT range: 10.95-13.27)\n",
      "      Drawing subtitle: 'THEIR' at X=382.0, Y=1356, W=316, H=64, Color=(255, 255, 0, 255)\n",
      "      Drawing subtitle: 'PROCESSING' at X=213.0, Y=1429, W=654, H=64, Color=(255, 255, 0, 255)\n",
      "      Drawing subtitle: 'CENTER' at X=330.0, Y=1502, W=420, H=64, Color=(255, 255, 0, 255)\n",
      "  Frame at t_in_clip: 13.03s (Time for subtitle lookup: 13.03s)\n",
      "    Subtitle found: \"THEIR PROCESSING CENTER\" (SRT range: 10.95-13.27)\n",
      "      Drawing subtitle: 'THEIR' at X=382.0, Y=1356, W=316, H=64, Color=(255, 255, 0, 255)\n",
      "      Drawing subtitle: 'PROCESSING' at X=213.0, Y=1429, W=654, H=64, Color=(255, 255, 0, 255)\n",
      "      Drawing subtitle: 'CENTER' at X=330.0, Y=1502, W=420, H=64, Color=(255, 255, 0, 255)\n"
     ]
    },
    {
     "name": "stderr",
     "output_type": "stream",
     "text": []
    },
    {
     "name": "stdout",
     "output_type": "stream",
     "text": [
      "  Frame at t_in_clip: 13.07s (Time for subtitle lookup: 13.07s)\n",
      "    Subtitle found: \"THEIR PROCESSING CENTER\" (SRT range: 10.95-13.27)\n",
      "      Drawing subtitle: 'THEIR' at X=382.0, Y=1356, W=316, H=64, Color=(255, 255, 0, 255)\n",
      "      Drawing subtitle: 'PROCESSING' at X=213.0, Y=1429, W=654, H=64, Color=(255, 255, 0, 255)\n",
      "      Drawing subtitle: 'CENTER' at X=330.0, Y=1502, W=420, H=64, Color=(255, 255, 0, 255)\n"
     ]
    },
    {
     "name": "stderr",
     "output_type": "stream",
     "text": []
    },
    {
     "name": "stdout",
     "output_type": "stream",
     "text": [
      "  Frame at t_in_clip: 14.00s (Time for subtitle lookup: 14.00s)\n",
      "    No subtitle found for actual transcript time 14.00s.\n",
      "  Frame at t_in_clip: 14.03s (Time for subtitle lookup: 14.03s)\n",
      "    No subtitle found for actual transcript time 14.03s.\n",
      "  Frame at t_in_clip: 14.07s (Time for subtitle lookup: 14.07s)\n"
     ]
    },
    {
     "name": "stderr",
     "output_type": "stream",
     "text": []
    },
    {
     "name": "stdout",
     "output_type": "stream",
     "text": [
      "    Subtitle found: \"WHY TO COVER UP A\" (SRT range: 14.04-15.25)\n",
      "      Drawing subtitle: 'WHY TO COVER' at X=130.5, Y=1429, W=819, H=64, Color=(255, 255, 0, 255)\n",
      "      Drawing subtitle: 'UP A' at X=412.0, Y=1502, W=256, H=64, Color=(255, 255, 0, 255)\n"
     ]
    },
    {
     "name": "stderr",
     "output_type": "stream",
     "text": []
    },
    {
     "name": "stdout",
     "output_type": "stream",
     "text": [
      "  Frame at t_in_clip: 15.00s (Time for subtitle lookup: 15.00s)\n",
      "    Subtitle found: \"WHY TO COVER UP A\" (SRT range: 14.04-15.25)\n",
      "      Drawing subtitle: 'WHY TO COVER' at X=130.5, Y=1429, W=819, H=64, Color=(255, 255, 0, 255)\n",
      "      Drawing subtitle: 'UP A' at X=412.0, Y=1502, W=256, H=64, Color=(255, 255, 0, 255)\n",
      "  Frame at t_in_clip: 15.03s (Time for subtitle lookup: 15.03s)\n",
      "    Subtitle found: \"WHY TO COVER UP A\" (SRT range: 14.04-15.25)\n",
      "      Drawing subtitle: 'WHY TO COVER' at X=130.5, Y=1429, W=819, H=64, Color=(255, 255, 0, 255)\n",
      "      Drawing subtitle: 'UP A' at X=412.0, Y=1502, W=256, H=64, Color=(255, 255, 0, 255)\n"
     ]
    },
    {
     "name": "stderr",
     "output_type": "stream",
     "text": []
    },
    {
     "name": "stdout",
     "output_type": "stream",
     "text": [
      "  Frame at t_in_clip: 15.07s (Time for subtitle lookup: 15.07s)\n",
      "    Subtitle found: \"WHY TO COVER UP A\" (SRT range: 14.04-15.25)\n",
      "      Drawing subtitle: 'WHY TO COVER' at X=130.5, Y=1429, W=819, H=64, Color=(255, 255, 0, 255)\n",
      "      Drawing subtitle: 'UP A' at X=412.0, Y=1502, W=256, H=64, Color=(255, 255, 0, 255)\n"
     ]
    },
    {
     "name": "stderr",
     "output_type": "stream",
     "text": []
    },
    {
     "name": "stdout",
     "output_type": "stream",
     "text": [
      "  Frame at t_in_clip: 16.00s (Time for subtitle lookup: 16.00s)\n",
      "    Subtitle found: \"SMUGGLING OPERATION INVOLVING VALUABLE TOLTYPE\" (SRT range: 15.33-18.45)\n",
      "      Drawing subtitle: 'SMUGGLING' at X=240.0, Y=1210, W=600, H=64, Color=(255, 255, 0, 255)\n",
      "      Drawing subtitle: 'OPERATION' at X=241.0, Y=1283, W=598, H=64, Color=(255, 255, 0, 255)\n",
      "      Drawing subtitle: 'INVOLVING' at X=268.5, Y=1356, W=543, H=64, Color=(255, 255, 0, 255)\n",
      "      Drawing subtitle: 'VALUABLE' at X=266.0, Y=1429, W=548, H=64, Color=(255, 255, 0, 255)\n",
      "      Drawing subtitle: 'TOLTYPE' at X=304.0, Y=1502, W=472, H=64, Color=(255, 255, 0, 255)\n",
      "  Frame at t_in_clip: 16.03s (Time for subtitle lookup: 16.03s)\n",
      "    Subtitle found: \"SMUGGLING OPERATION INVOLVING VALUABLE TOLTYPE\" (SRT range: 15.33-18.45)\n",
      "      Drawing subtitle: 'SMUGGLING' at X=240.0, Y=1210, W=600, H=64, Color=(255, 255, 0, 255)\n",
      "      Drawing subtitle: 'OPERATION' at X=241.0, Y=1283, W=598, H=64, Color=(255, 255, 0, 255)\n",
      "      Drawing subtitle: 'INVOLVING' at X=268.5, Y=1356, W=543, H=64, Color=(255, 255, 0, 255)\n",
      "      Drawing subtitle: 'VALUABLE' at X=266.0, Y=1429, W=548, H=64, Color=(255, 255, 0, 255)\n",
      "      Drawing subtitle: 'TOLTYPE' at X=304.0, Y=1502, W=472, H=64, Color=(255, 255, 0, 255)\n"
     ]
    },
    {
     "name": "stderr",
     "output_type": "stream",
     "text": []
    },
    {
     "name": "stdout",
     "output_type": "stream",
     "text": [
      "  Frame at t_in_clip: 16.07s (Time for subtitle lookup: 16.07s)\n",
      "    Subtitle found: \"SMUGGLING OPERATION INVOLVING VALUABLE TOLTYPE\" (SRT range: 15.33-18.45)\n",
      "      Drawing subtitle: 'SMUGGLING' at X=240.0, Y=1210, W=600, H=64, Color=(255, 255, 0, 255)\n",
      "      Drawing subtitle: 'OPERATION' at X=241.0, Y=1283, W=598, H=64, Color=(255, 255, 0, 255)\n",
      "      Drawing subtitle: 'INVOLVING' at X=268.5, Y=1356, W=543, H=64, Color=(255, 255, 0, 255)\n",
      "      Drawing subtitle: 'VALUABLE' at X=266.0, Y=1429, W=548, H=64, Color=(255, 255, 0, 255)\n",
      "      Drawing subtitle: 'TOLTYPE' at X=304.0, Y=1502, W=472, H=64, Color=(255, 255, 0, 255)\n"
     ]
    },
    {
     "name": "stderr",
     "output_type": "stream",
     "text": []
    },
    {
     "name": "stdout",
     "output_type": "stream",
     "text": [
      "  Frame at t_in_clip: 17.00s (Time for subtitle lookup: 17.00s)\n",
      "    Subtitle found: \"SMUGGLING OPERATION INVOLVING VALUABLE TOLTYPE\" (SRT range: 15.33-18.45)\n",
      "      Drawing subtitle: 'SMUGGLING' at X=240.0, Y=1210, W=600, H=64, Color=(255, 255, 0, 255)\n",
      "      Drawing subtitle: 'OPERATION' at X=241.0, Y=1283, W=598, H=64, Color=(255, 255, 0, 255)\n",
      "      Drawing subtitle: 'INVOLVING' at X=268.5, Y=1356, W=543, H=64, Color=(255, 255, 0, 255)\n",
      "      Drawing subtitle: 'VALUABLE' at X=266.0, Y=1429, W=548, H=64, Color=(255, 255, 0, 255)\n",
      "      Drawing subtitle: 'TOLTYPE' at X=304.0, Y=1502, W=472, H=64, Color=(255, 255, 0, 255)\n",
      "  Frame at t_in_clip: 17.03s (Time for subtitle lookup: 17.03s)\n",
      "    Subtitle found: \"SMUGGLING OPERATION INVOLVING VALUABLE TOLTYPE\" (SRT range: 15.33-18.45)\n",
      "      Drawing subtitle: 'SMUGGLING' at X=240.0, Y=1210, W=600, H=64, Color=(255, 255, 0, 255)\n",
      "      Drawing subtitle: 'OPERATION' at X=241.0, Y=1283, W=598, H=64, Color=(255, 255, 0, 255)\n",
      "      Drawing subtitle: 'INVOLVING' at X=268.5, Y=1356, W=543, H=64, Color=(255, 255, 0, 255)\n",
      "      Drawing subtitle: 'VALUABLE' at X=266.0, Y=1429, W=548, H=64, Color=(255, 255, 0, 255)\n",
      "      Drawing subtitle: 'TOLTYPE' at X=304.0, Y=1502, W=472, H=64, Color=(255, 255, 0, 255)\n"
     ]
    },
    {
     "name": "stderr",
     "output_type": "stream",
     "text": []
    },
    {
     "name": "stdout",
     "output_type": "stream",
     "text": [
      "  Frame at t_in_clip: 17.07s (Time for subtitle lookup: 17.07s)\n",
      "    Subtitle found: \"SMUGGLING OPERATION INVOLVING VALUABLE TOLTYPE\" (SRT range: 15.33-18.45)\n",
      "      Drawing subtitle: 'SMUGGLING' at X=240.0, Y=1210, W=600, H=64, Color=(255, 255, 0, 255)\n",
      "      Drawing subtitle: 'OPERATION' at X=241.0, Y=1283, W=598, H=64, Color=(255, 255, 0, 255)\n",
      "      Drawing subtitle: 'INVOLVING' at X=268.5, Y=1356, W=543, H=64, Color=(255, 255, 0, 255)\n",
      "      Drawing subtitle: 'VALUABLE' at X=266.0, Y=1429, W=548, H=64, Color=(255, 255, 0, 255)\n",
      "      Drawing subtitle: 'TOLTYPE' at X=304.0, Y=1502, W=472, H=64, Color=(255, 255, 0, 255)\n"
     ]
    },
    {
     "name": "stderr",
     "output_type": "stream",
     "text": []
    },
    {
     "name": "stdout",
     "output_type": "stream",
     "text": [
      "  Frame at t_in_clip: 18.00s (Time for subtitle lookup: 18.00s)\n",
      "    Subtitle found: \"SMUGGLING OPERATION INVOLVING VALUABLE TOLTYPE\" (SRT range: 15.33-18.45)\n",
      "      Drawing subtitle: 'SMUGGLING' at X=240.0, Y=1210, W=600, H=64, Color=(255, 255, 0, 255)\n",
      "      Drawing subtitle: 'OPERATION' at X=241.0, Y=1283, W=598, H=64, Color=(255, 255, 0, 255)\n",
      "      Drawing subtitle: 'INVOLVING' at X=268.5, Y=1356, W=543, H=64, Color=(255, 255, 0, 255)\n",
      "      Drawing subtitle: 'VALUABLE' at X=266.0, Y=1429, W=548, H=64, Color=(255, 255, 0, 255)\n",
      "      Drawing subtitle: 'TOLTYPE' at X=304.0, Y=1502, W=472, H=64, Color=(255, 255, 0, 255)\n",
      "  Frame at t_in_clip: 18.03s (Time for subtitle lookup: 18.03s)\n",
      "    Subtitle found: \"SMUGGLING OPERATION INVOLVING VALUABLE TOLTYPE\" (SRT range: 15.33-18.45)\n",
      "      Drawing subtitle: 'SMUGGLING' at X=240.0, Y=1210, W=600, H=64, Color=(255, 255, 0, 255)\n",
      "      Drawing subtitle: 'OPERATION' at X=241.0, Y=1283, W=598, H=64, Color=(255, 255, 0, 255)\n",
      "      Drawing subtitle: 'INVOLVING' at X=268.5, Y=1356, W=543, H=64, Color=(255, 255, 0, 255)\n",
      "      Drawing subtitle: 'VALUABLE' at X=266.0, Y=1429, W=548, H=64, Color=(255, 255, 0, 255)\n",
      "      Drawing subtitle: 'TOLTYPE' at X=304.0, Y=1502, W=472, H=64, Color=(255, 255, 0, 255)\n"
     ]
    },
    {
     "name": "stderr",
     "output_type": "stream",
     "text": []
    },
    {
     "name": "stdout",
     "output_type": "stream",
     "text": [
      "  Frame at t_in_clip: 18.07s (Time for subtitle lookup: 18.07s)\n",
      "    Subtitle found: \"SMUGGLING OPERATION INVOLVING VALUABLE TOLTYPE\" (SRT range: 15.33-18.45)\n",
      "      Drawing subtitle: 'SMUGGLING' at X=240.0, Y=1210, W=600, H=64, Color=(255, 255, 0, 255)\n",
      "      Drawing subtitle: 'OPERATION' at X=241.0, Y=1283, W=598, H=64, Color=(255, 255, 0, 255)\n",
      "      Drawing subtitle: 'INVOLVING' at X=268.5, Y=1356, W=543, H=64, Color=(255, 255, 0, 255)\n",
      "      Drawing subtitle: 'VALUABLE' at X=266.0, Y=1429, W=548, H=64, Color=(255, 255, 0, 255)\n",
      "      Drawing subtitle: 'TOLTYPE' at X=304.0, Y=1502, W=472, H=64, Color=(255, 255, 0, 255)\n"
     ]
    },
    {
     "name": "stderr",
     "output_type": "stream",
     "text": []
    },
    {
     "name": "stdout",
     "output_type": "stream",
     "text": [
      "  Frame at t_in_clip: 19.00s (Time for subtitle lookup: 19.00s)\n",
      "    Subtitle found: \"ORE AND A BREACHED PROFITSHARING\" (SRT range: 18.59-20.27)\n",
      "      Drawing subtitle: 'ORE AND A' at X=248.0, Y=1356, W=584, H=64, Color=(255, 255, 0, 255)\n",
      "      Drawing subtitle: 'BREACHED' at X=258.5, Y=1429, W=563, H=64, Color=(255, 255, 0, 255)\n",
      "      Drawing subtitle: 'PROFITSHARING' at X=117.5, Y=1502, W=845, H=64, Color=(255, 255, 0, 255)\n",
      "  Frame at t_in_clip: 19.03s (Time for subtitle lookup: 19.03s)\n",
      "    Subtitle found: \"ORE AND A BREACHED PROFITSHARING\" (SRT range: 18.59-20.27)\n",
      "      Drawing subtitle: 'ORE AND A' at X=248.0, Y=1356, W=584, H=64, Color=(255, 255, 0, 255)\n",
      "      Drawing subtitle: 'BREACHED' at X=258.5, Y=1429, W=563, H=64, Color=(255, 255, 0, 255)\n",
      "      Drawing subtitle: 'PROFITSHARING' at X=117.5, Y=1502, W=845, H=64, Color=(255, 255, 0, 255)\n"
     ]
    },
    {
     "name": "stderr",
     "output_type": "stream",
     "text": []
    },
    {
     "name": "stdout",
     "output_type": "stream",
     "text": [
      "  Frame at t_in_clip: 19.07s (Time for subtitle lookup: 19.07s)\n",
      "    Subtitle found: \"ORE AND A BREACHED PROFITSHARING\" (SRT range: 18.59-20.27)\n",
      "      Drawing subtitle: 'ORE AND A' at X=248.0, Y=1356, W=584, H=64, Color=(255, 255, 0, 255)\n",
      "      Drawing subtitle: 'BREACHED' at X=258.5, Y=1429, W=563, H=64, Color=(255, 255, 0, 255)\n",
      "      Drawing subtitle: 'PROFITSHARING' at X=117.5, Y=1502, W=845, H=64, Color=(255, 255, 0, 255)\n"
     ]
    },
    {
     "name": "stderr",
     "output_type": "stream",
     "text": []
    },
    {
     "name": "stdout",
     "output_type": "stream",
     "text": [
      "  Frame at t_in_clip: 20.00s (Time for subtitle lookup: 20.00s)\n",
      "    Subtitle found: \"ORE AND A BREACHED PROFITSHARING\" (SRT range: 18.59-20.27)\n",
      "      Drawing subtitle: 'ORE AND A' at X=248.0, Y=1356, W=584, H=64, Color=(255, 255, 0, 255)\n",
      "      Drawing subtitle: 'BREACHED' at X=258.5, Y=1429, W=563, H=64, Color=(255, 255, 0, 255)\n",
      "      Drawing subtitle: 'PROFITSHARING' at X=117.5, Y=1502, W=845, H=64, Color=(255, 255, 0, 255)\n",
      "  Frame at t_in_clip: 20.03s (Time for subtitle lookup: 20.03s)\n",
      "    Subtitle found: \"ORE AND A BREACHED PROFITSHARING\" (SRT range: 18.59-20.27)\n",
      "      Drawing subtitle: 'ORE AND A' at X=248.0, Y=1356, W=584, H=64, Color=(255, 255, 0, 255)\n",
      "      Drawing subtitle: 'BREACHED' at X=258.5, Y=1429, W=563, H=64, Color=(255, 255, 0, 255)\n",
      "      Drawing subtitle: 'PROFITSHARING' at X=117.5, Y=1502, W=845, H=64, Color=(255, 255, 0, 255)\n"
     ]
    },
    {
     "name": "stderr",
     "output_type": "stream",
     "text": []
    },
    {
     "name": "stdout",
     "output_type": "stream",
     "text": [
      "  Frame at t_in_clip: 20.07s (Time for subtitle lookup: 20.07s)\n",
      "    Subtitle found: \"ORE AND A BREACHED PROFITSHARING\" (SRT range: 18.59-20.27)\n",
      "      Drawing subtitle: 'ORE AND A' at X=248.0, Y=1356, W=584, H=64, Color=(255, 255, 0, 255)\n",
      "      Drawing subtitle: 'BREACHED' at X=258.5, Y=1429, W=563, H=64, Color=(255, 255, 0, 255)\n",
      "      Drawing subtitle: 'PROFITSHARING' at X=117.5, Y=1502, W=845, H=64, Color=(255, 255, 0, 255)\n"
     ]
    },
    {
     "name": "stderr",
     "output_type": "stream",
     "text": []
    },
    {
     "name": "stdout",
     "output_type": "stream",
     "text": [
      "  Frame at t_in_clip: 21.00s (Time for subtitle lookup: 21.00s)\n",
      "    Subtitle found: \"AGREEMENT WITH OTHER COMPANIES\" (SRT range: 20.33-21.65)\n",
      "      Drawing subtitle: 'AGREEMENT WITH' at X=61.0, Y=1356, W=958, H=64, Color=(255, 255, 0, 255)\n",
      "      Drawing subtitle: 'OTHER' at X=361.0, Y=1429, W=358, H=64, Color=(255, 255, 0, 255)\n",
      "      Drawing subtitle: 'COMPANIES' at X=244.5, Y=1502, W=591, H=64, Color=(255, 255, 0, 255)\n",
      "  Frame at t_in_clip: 21.03s (Time for subtitle lookup: 21.03s)\n",
      "    Subtitle found: \"AGREEMENT WITH OTHER COMPANIES\" (SRT range: 20.33-21.65)\n",
      "      Drawing subtitle: 'AGREEMENT WITH' at X=61.0, Y=1356, W=958, H=64, Color=(255, 255, 0, 255)\n",
      "      Drawing subtitle: 'OTHER' at X=361.0, Y=1429, W=358, H=64, Color=(255, 255, 0, 255)\n",
      "      Drawing subtitle: 'COMPANIES' at X=244.5, Y=1502, W=591, H=64, Color=(255, 255, 0, 255)\n"
     ]
    },
    {
     "name": "stderr",
     "output_type": "stream",
     "text": []
    },
    {
     "name": "stdout",
     "output_type": "stream",
     "text": [
      "  Frame at t_in_clip: 21.07s (Time for subtitle lookup: 21.07s)\n",
      "    Subtitle found: \"AGREEMENT WITH OTHER COMPANIES\" (SRT range: 20.33-21.65)\n",
      "      Drawing subtitle: 'AGREEMENT WITH' at X=61.0, Y=1356, W=958, H=64, Color=(255, 255, 0, 255)\n",
      "      Drawing subtitle: 'OTHER' at X=361.0, Y=1429, W=358, H=64, Color=(255, 255, 0, 255)\n",
      "      Drawing subtitle: 'COMPANIES' at X=244.5, Y=1502, W=591, H=64, Color=(255, 255, 0, 255)\n"
     ]
    },
    {
     "name": "stderr",
     "output_type": "stream",
     "text": []
    },
    {
     "name": "stdout",
     "output_type": "stream",
     "text": [
      "  Frame at t_in_clip: 22.00s (Time for subtitle lookup: 22.00s)\n",
      "    No subtitle found for actual transcript time 22.00s.\n",
      "  Frame at t_in_clip: 22.03s (Time for subtitle lookup: 22.03s)\n",
      "    No subtitle found for actual transcript time 22.03s.\n",
      "  Frame at t_in_clip: 22.07s (Time for subtitle lookup: 22.07s)\n",
      "    No subtitle found for actual transcript time 22.07s.\n"
     ]
    },
    {
     "name": "stderr",
     "output_type": "stream",
     "text": []
    },
    {
     "name": "stdout",
     "output_type": "stream",
     "text": [
      "  Frame at t_in_clip: 23.00s (Time for subtitle lookup: 23.00s)\n",
      "    Subtitle found: \"THE DESPERATE ACT WAS REVEALED\" (SRT range: 22.49-23.97)\n",
      "      Drawing subtitle: 'THE DESPERATE' at X=101.0, Y=1356, W=878, H=64, Color=(255, 255, 0, 255)\n",
      "      Drawing subtitle: 'ACT WAS' at X=301.0, Y=1429, W=478, H=64, Color=(255, 255, 0, 255)\n",
      "      Drawing subtitle: 'REVEALED' at X=256.0, Y=1502, W=568, H=64, Color=(255, 255, 0, 255)\n",
      "  Frame at t_in_clip: 23.03s (Time for subtitle lookup: 23.03s)\n",
      "    Subtitle found: \"THE DESPERATE ACT WAS REVEALED\" (SRT range: 22.49-23.97)\n",
      "      Drawing subtitle: 'THE DESPERATE' at X=101.0, Y=1356, W=878, H=64, Color=(255, 255, 0, 255)\n",
      "      Drawing subtitle: 'ACT WAS' at X=301.0, Y=1429, W=478, H=64, Color=(255, 255, 0, 255)\n",
      "      Drawing subtitle: 'REVEALED' at X=256.0, Y=1502, W=568, H=64, Color=(255, 255, 0, 255)\n"
     ]
    },
    {
     "name": "stderr",
     "output_type": "stream",
     "text": []
    },
    {
     "name": "stdout",
     "output_type": "stream",
     "text": [
      "  Frame at t_in_clip: 23.07s (Time for subtitle lookup: 23.07s)\n",
      "    Subtitle found: \"THE DESPERATE ACT WAS REVEALED\" (SRT range: 22.49-23.97)\n",
      "      Drawing subtitle: 'THE DESPERATE' at X=101.0, Y=1356, W=878, H=64, Color=(255, 255, 0, 255)\n",
      "      Drawing subtitle: 'ACT WAS' at X=301.0, Y=1429, W=478, H=64, Color=(255, 255, 0, 255)\n",
      "      Drawing subtitle: 'REVEALED' at X=256.0, Y=1502, W=568, H=64, Color=(255, 255, 0, 255)\n"
     ]
    },
    {
     "name": "stderr",
     "output_type": "stream",
     "text": []
    },
    {
     "name": "stdout",
     "output_type": "stream",
     "text": [
      "  Frame at t_in_clip: 24.00s (Time for subtitle lookup: 24.00s)\n",
      "    No subtitle found for actual transcript time 24.00s.\n",
      "  Frame at t_in_clip: 24.03s (Time for subtitle lookup: 24.03s)\n",
      "    Subtitle found: \"IN THE THRILLING EVENTS OF\" (SRT range: 24.01-25.09)\n",
      "      Drawing subtitle: 'IN THE THRILLING' at X=74.0, Y=1429, W=932, H=64, Color=(255, 255, 0, 255)\n",
      "      Drawing subtitle: 'EVENTS OF' at X=243.5, Y=1502, W=593, H=64, Color=(255, 255, 0, 255)\n"
     ]
    },
    {
     "name": "stderr",
     "output_type": "stream",
     "text": []
    },
    {
     "name": "stdout",
     "output_type": "stream",
     "text": [
      "  Frame at t_in_clip: 24.07s (Time for subtitle lookup: 24.07s)\n",
      "    Subtitle found: \"IN THE THRILLING EVENTS OF\" (SRT range: 24.01-25.09)\n",
      "      Drawing subtitle: 'IN THE THRILLING' at X=74.0, Y=1429, W=932, H=64, Color=(255, 255, 0, 255)\n",
      "      Drawing subtitle: 'EVENTS OF' at X=243.5, Y=1502, W=593, H=64, Color=(255, 255, 0, 255)\n"
     ]
    },
    {
     "name": "stderr",
     "output_type": "stream",
     "text": []
    },
    {
     "name": "stdout",
     "output_type": "stream",
     "text": [
      "  Frame at t_in_clip: 25.00s (Time for subtitle lookup: 25.00s)\n",
      "    Subtitle found: \"IN THE THRILLING EVENTS OF\" (SRT range: 24.01-25.09)\n",
      "      Drawing subtitle: 'IN THE THRILLING' at X=74.0, Y=1429, W=932, H=64, Color=(255, 255, 0, 255)\n",
      "      Drawing subtitle: 'EVENTS OF' at X=243.5, Y=1502, W=593, H=64, Color=(255, 255, 0, 255)\n",
      "  Frame at t_in_clip: 25.03s (Time for subtitle lookup: 25.03s)\n",
      "    Subtitle found: \"IN THE THRILLING EVENTS OF\" (SRT range: 24.01-25.09)\n",
      "      Drawing subtitle: 'IN THE THRILLING' at X=74.0, Y=1429, W=932, H=64, Color=(255, 255, 0, 255)\n",
      "      Drawing subtitle: 'EVENTS OF' at X=243.5, Y=1502, W=593, H=64, Color=(255, 255, 0, 255)\n"
     ]
    },
    {
     "name": "stderr",
     "output_type": "stream",
     "text": []
    },
    {
     "name": "stdout",
     "output_type": "stream",
     "text": [
      "  Frame at t_in_clip: 25.07s (Time for subtitle lookup: 25.07s)\n",
      "    Subtitle found: \"IN THE THRILLING EVENTS OF\" (SRT range: 24.01-25.09)\n",
      "      Drawing subtitle: 'IN THE THRILLING' at X=74.0, Y=1429, W=932, H=64, Color=(255, 255, 0, 255)\n",
      "      Drawing subtitle: 'EVENTS OF' at X=243.5, Y=1502, W=593, H=64, Color=(255, 255, 0, 255)\n"
     ]
    },
    {
     "name": "stderr",
     "output_type": "stream",
     "text": []
    },
    {
     "name": "stdout",
     "output_type": "stream",
     "text": [
      "  Frame at t_in_clip: 26.00s (Time for subtitle lookup: 26.00s)\n",
      "    Subtitle found: \"IMMINENT IMPACT SET IN THE\" (SRT range: 25.33-26.87)\n",
      "      Drawing subtitle: 'IMMINENT IMPACT' at X=83.0, Y=1429, W=914, H=64, Color=(255, 255, 0, 255)\n",
      "      Drawing subtitle: 'SET IN THE' at X=244.0, Y=1502, W=592, H=64, Color=(255, 255, 0, 255)\n",
      "  Frame at t_in_clip: 26.03s (Time for subtitle lookup: 26.03s)\n",
      "    Subtitle found: \"IMMINENT IMPACT SET IN THE\" (SRT range: 25.33-26.87)\n",
      "      Drawing subtitle: 'IMMINENT IMPACT' at X=83.0, Y=1429, W=914, H=64, Color=(255, 255, 0, 255)\n",
      "      Drawing subtitle: 'SET IN THE' at X=244.0, Y=1502, W=592, H=64, Color=(255, 255, 0, 255)\n"
     ]
    },
    {
     "name": "stderr",
     "output_type": "stream",
     "text": []
    },
    {
     "name": "stdout",
     "output_type": "stream",
     "text": [
      "  Frame at t_in_clip: 26.07s (Time for subtitle lookup: 26.07s)\n",
      "    Subtitle found: \"IMMINENT IMPACT SET IN THE\" (SRT range: 25.33-26.87)\n",
      "      Drawing subtitle: 'IMMINENT IMPACT' at X=83.0, Y=1429, W=914, H=64, Color=(255, 255, 0, 255)\n",
      "      Drawing subtitle: 'SET IN THE' at X=244.0, Y=1502, W=592, H=64, Color=(255, 255, 0, 255)\n"
     ]
    },
    {
     "name": "stderr",
     "output_type": "stream",
     "text": []
    },
    {
     "name": "stdout",
     "output_type": "stream",
     "text": [
      "  Frame at t_in_clip: 27.00s (Time for subtitle lookup: 27.00s)\n",
      "    Subtitle found: \"UNKNOWN REGIONS\" (SRT range: 26.95-27.71)\n",
      "      Drawing subtitle: 'UNKNOWN' at X=275.0, Y=1429, W=530, H=64, Color=(255, 255, 0, 255)\n",
      "      Drawing subtitle: 'REGIONS' at X=312.0, Y=1502, W=456, H=64, Color=(255, 255, 0, 255)\n",
      "  Frame at t_in_clip: 27.03s (Time for subtitle lookup: 27.03s)\n",
      "    Subtitle found: \"UNKNOWN REGIONS\" (SRT range: 26.95-27.71)\n",
      "      Drawing subtitle: 'UNKNOWN' at X=275.0, Y=1429, W=530, H=64, Color=(255, 255, 0, 255)\n",
      "      Drawing subtitle: 'REGIONS' at X=312.0, Y=1502, W=456, H=64, Color=(255, 255, 0, 255)\n"
     ]
    },
    {
     "name": "stderr",
     "output_type": "stream",
     "text": []
    },
    {
     "name": "stdout",
     "output_type": "stream",
     "text": [
      "  Frame at t_in_clip: 27.07s (Time for subtitle lookup: 27.07s)\n",
      "    Subtitle found: \"UNKNOWN REGIONS\" (SRT range: 26.95-27.71)\n",
      "      Drawing subtitle: 'UNKNOWN' at X=275.0, Y=1429, W=530, H=64, Color=(255, 255, 0, 255)\n",
      "      Drawing subtitle: 'REGIONS' at X=312.0, Y=1502, W=456, H=64, Color=(255, 255, 0, 255)\n"
     ]
    },
    {
     "name": "stderr",
     "output_type": "stream",
     "text": []
    },
    {
     "name": "stdout",
     "output_type": "stream",
     "text": [
      "  Frame at t_in_clip: 28.00s (Time for subtitle lookup: 28.00s)\n",
      "    No subtitle found for actual transcript time 28.00s.\n",
      "  Frame at t_in_clip: 28.03s (Time for subtitle lookup: 28.03s)\n",
      "    No subtitle found for actual transcript time 28.03s.\n"
     ]
    },
    {
     "name": "stderr",
     "output_type": "stream",
     "text": []
    },
    {
     "name": "stdout",
     "output_type": "stream",
     "text": [
      "  Frame at t_in_clip: 28.07s (Time for subtitle lookup: 28.07s)\n",
      "    No subtitle found for actual transcript time 28.07s.\n"
     ]
    },
    {
     "name": "stderr",
     "output_type": "stream",
     "text": [
      "t:  32%|███▏      | 566/1769 [4:12:14<02:59,  6.70it/s, now=None]"
     ]
    },
    {
     "name": "stdout",
     "output_type": "stream",
     "text": [
      "Moviepy - Done !\n",
      "Moviepy - video ready ../data/generated_shorts\\Codes\\Protocol 514_short.mp4\n",
      "Successfully created short for 'Protocol 514'.\n",
      "Cleaned temporary image directory: ../data/temp_images\n",
      "Short creation and logging complete for 'Protocol 514'.\n",
      "\n",
      "'Thirteenth Imperial Diplomatic Conclave' has already had a short created. Skipping.\n",
      "\n",
      "'Spice withdrawal' has already had a short created. Skipping.\n",
      "\n",
      "'Cificap VIII' has already had a short created. Skipping.\n",
      "\n",
      "Processing audio file: ../data/generated_audio\\Koradin sector locations\\Kovor system_Legends.mp3 for short creation.\n",
      "Loaded article content from: ../data/generated_articles\\Koradin sector locations\\Kovor system_Legends.txt\n",
      "Found 2 image URLs in article.\n",
      "Cleaned temporary image directory: ../data/temp_images\n",
      "Loaded 11 subtitle entries from: ../data/generated_transcripts\\Koradin sector locations\\Kovor system_Legends.srt\n",
      "Loaded audio: Kovor system_Legends.mp3 (Duration: 17.23s)\n",
      "Loaded main video: minecraft01.mp4 (Duration: 1076.82s)\n",
      "Selected video segment: 342.54s to 359.77s (Clip duration: 17.23s)\n",
      "Cropping width from 1920 to 607 to fit 9:16.\n",
      "Resized to final resolution: 1080x1920\n",
      "Attempting to download 2 images for 'Kovor system_Legends'...\n",
      "Downloaded image from https://static.wikia.nocookie.net/starwars/images/0/03/Cularin_system.jpg/revision/latest?cb=20071128013221, to ../data/temp_images\\latest_2490\n"
     ]
    },
    {
     "name": "stderr",
     "output_type": "stream",
     "text": [
      "t:  32%|███▏      | 566/1769 [4:12:21<02:59,  6.70it/s, now=None]"
     ]
    },
    {
     "name": "stdout",
     "output_type": "stream",
     "text": [
      "Downloaded image from https://static.wikia.nocookie.net/starwars/images/6/6e/Kovor_system.png/revision/latest?cb=20150222202036 to ../data/temp_images\\latest_3655\n",
      "Images will switch every 8.62 seconds.\n",
      "  Frame at t_in_clip: 0.00s (Time for subtitle lookup: 0.00s)\n",
      "    Subtitle found: \"DEEP IN THE OUTER RIM\" (SRT range: 0.00-1.24)\n",
      "      Drawing subtitle: 'DEEP IN THE' at X=208.0, Y=1429, W=664, H=64, Color=(255, 255, 0, 255)\n",
      "      Drawing subtitle: 'OUTER RIM' at X=250.0, Y=1502, W=580, H=64, Color=(255, 255, 0, 255)\n",
      "Writing final video to: ../data/generated_shorts\\Koradin sector locations\\Kovor system_Legends_short.mp4\n",
      "Moviepy - Building video ../data/generated_shorts\\Koradin sector locations\\Kovor system_Legends_short.mp4.\n",
      "MoviePy - Writing audio in Kovor system_Legends_shortTEMP_MPY_wvf_snd.mp3\n"
     ]
    },
    {
     "name": "stderr",
     "output_type": "stream",
     "text": [
      "t:  32%|███▏      | 566/1769 [4:12:21<02:59,  6.70it/s, now=None]"
     ]
    },
    {
     "name": "stdout",
     "output_type": "stream",
     "text": [
      "MoviePy - Done.\n",
      "Moviepy - Writing video ../data/generated_shorts\\Koradin sector locations\\Kovor system_Legends_short.mp4\n",
      "\n"
     ]
    },
    {
     "name": "stderr",
     "output_type": "stream",
     "text": []
    },
    {
     "name": "stdout",
     "output_type": "stream",
     "text": [
      "  Frame at t_in_clip: 0.00s (Time for subtitle lookup: 0.00s)\n",
      "    Subtitle found: \"DEEP IN THE OUTER RIM\" (SRT range: 0.00-1.24)\n",
      "      Drawing subtitle: 'DEEP IN THE' at X=208.0, Y=1429, W=664, H=64, Color=(255, 255, 0, 255)\n",
      "      Drawing subtitle: 'OUTER RIM' at X=250.0, Y=1502, W=580, H=64, Color=(255, 255, 0, 255)\n",
      "  Frame at t_in_clip: 0.03s (Time for subtitle lookup: 0.03s)\n"
     ]
    },
    {
     "name": "stderr",
     "output_type": "stream",
     "text": []
    },
    {
     "name": "stdout",
     "output_type": "stream",
     "text": [
      "    Subtitle found: \"DEEP IN THE OUTER RIM\" (SRT range: 0.00-1.24)\n",
      "      Drawing subtitle: 'DEEP IN THE' at X=208.0, Y=1429, W=664, H=64, Color=(255, 255, 0, 255)\n",
      "      Drawing subtitle: 'OUTER RIM' at X=250.0, Y=1502, W=580, H=64, Color=(255, 255, 0, 255)\n",
      "  Frame at t_in_clip: 0.07s (Time for subtitle lookup: 0.07s)\n",
      "    Subtitle found: \"DEEP IN THE OUTER RIM\" (SRT range: 0.00-1.24)\n",
      "      Drawing subtitle: 'DEEP IN THE' at X=208.0, Y=1429, W=664, H=64, Color=(255, 255, 0, 255)\n",
      "      Drawing subtitle: 'OUTER RIM' at X=250.0, Y=1502, W=580, H=64, Color=(255, 255, 0, 255)\n"
     ]
    },
    {
     "name": "stderr",
     "output_type": "stream",
     "text": []
    },
    {
     "name": "stdout",
     "output_type": "stream",
     "text": [
      "  Frame at t_in_clip: 1.00s (Time for subtitle lookup: 1.00s)\n",
      "    Subtitle found: \"DEEP IN THE OUTER RIM\" (SRT range: 0.00-1.24)\n",
      "      Drawing subtitle: 'DEEP IN THE' at X=208.0, Y=1429, W=664, H=64, Color=(255, 255, 0, 255)\n",
      "      Drawing subtitle: 'OUTER RIM' at X=250.0, Y=1502, W=580, H=64, Color=(255, 255, 0, 255)\n",
      "  Frame at t_in_clip: 1.03s (Time for subtitle lookup: 1.03s)\n",
      "    Subtitle found: \"DEEP IN THE OUTER RIM\" (SRT range: 0.00-1.24)\n",
      "      Drawing subtitle: 'DEEP IN THE' at X=208.0, Y=1429, W=664, H=64, Color=(255, 255, 0, 255)\n",
      "      Drawing subtitle: 'OUTER RIM' at X=250.0, Y=1502, W=580, H=64, Color=(255, 255, 0, 255)\n"
     ]
    },
    {
     "name": "stderr",
     "output_type": "stream",
     "text": [
      "\n",
      "t:   7%|▋         | 35/517 [00:03<00:56,  8.57it/s, now=None]"
     ]
    },
    {
     "name": "stdout",
     "output_type": "stream",
     "text": [
      "  Frame at t_in_clip: 1.07s (Time for subtitle lookup: 1.07s)\n",
      "    Subtitle found: \"DEEP IN THE OUTER RIM\" (SRT range: 0.00-1.24)\n",
      "      Drawing subtitle: 'DEEP IN THE' at X=208.0, Y=1429, W=664, H=64, Color=(255, 255, 0, 255)\n",
      "      Drawing subtitle: 'OUTER RIM' at X=250.0, Y=1502, W=580, H=64, Color=(255, 255, 0, 255)\n"
     ]
    },
    {
     "name": "stderr",
     "output_type": "stream",
     "text": [
      "\u001b[A\n"
     ]
    },
    {
     "name": "stdout",
     "output_type": "stream",
     "text": [
      "  Frame at t_in_clip: 2.00s (Time for subtitle lookup: 2.00s)\n",
      "    Subtitle found: \"TERRITORIES NESTLED WITHIN THE KORADIN\" (SRT range: 1.28-3.36)\n",
      "      Drawing subtitle: 'TERRITORIES' at X=189.5, Y=1356, W=701, H=64, Color=(255, 255, 0, 255)\n",
      "      Drawing subtitle: 'NESTLED WITHIN' at X=100.5, Y=1429, W=879, H=64, Color=(255, 255, 0, 255)\n",
      "      Drawing subtitle: 'THE KORADIN' at X=182.0, Y=1502, W=716, H=64, Color=(255, 255, 0, 255)\n",
      "  Frame at t_in_clip: 2.03s (Time for subtitle lookup: 2.03s)\n",
      "    Subtitle found: \"TERRITORIES NESTLED WITHIN THE KORADIN\" (SRT range: 1.28-3.36)\n",
      "      Drawing subtitle: 'TERRITORIES' at X=189.5, Y=1356, W=701, H=64, Color=(255, 255, 0, 255)\n",
      "      Drawing subtitle: 'NESTLED WITHIN' at X=100.5, Y=1429, W=879, H=64, Color=(255, 255, 0, 255)\n",
      "      Drawing subtitle: 'THE KORADIN' at X=182.0, Y=1502, W=716, H=64, Color=(255, 255, 0, 255)\n"
     ]
    },
    {
     "name": "stderr",
     "output_type": "stream",
     "text": [
      "t:  12%|█▏        | 63/517 [00:07<01:00,  7.44it/s, now=None]\u001b[A\n"
     ]
    },
    {
     "name": "stdout",
     "output_type": "stream",
     "text": [
      "  Frame at t_in_clip: 2.07s (Time for subtitle lookup: 2.07s)\n",
      "    Subtitle found: \"TERRITORIES NESTLED WITHIN THE KORADIN\" (SRT range: 1.28-3.36)\n",
      "      Drawing subtitle: 'TERRITORIES' at X=189.5, Y=1356, W=701, H=64, Color=(255, 255, 0, 255)\n",
      "      Drawing subtitle: 'NESTLED WITHIN' at X=100.5, Y=1429, W=879, H=64, Color=(255, 255, 0, 255)\n",
      "      Drawing subtitle: 'THE KORADIN' at X=182.0, Y=1502, W=716, H=64, Color=(255, 255, 0, 255)\n"
     ]
    },
    {
     "name": "stderr",
     "output_type": "stream",
     "text": [
      "t:  13%|█▎        | 65/517 [00:07<01:02,  7.28it/s, now=None]\u001b[A"
     ]
    },
    {
     "name": "stdout",
     "output_type": "stream",
     "text": [
      "  Frame at t_in_clip: 3.00s (Time for subtitle lookup: 3.00s)\n",
      "    Subtitle found: \"TERRITORIES NESTLED WITHIN THE KORADIN\" (SRT range: 1.28-3.36)\n",
      "      Drawing subtitle: 'TERRITORIES' at X=189.5, Y=1356, W=701, H=64, Color=(255, 255, 0, 255)\n",
      "      Drawing subtitle: 'NESTLED WITHIN' at X=100.5, Y=1429, W=879, H=64, Color=(255, 255, 0, 255)\n",
      "      Drawing subtitle: 'THE KORADIN' at X=182.0, Y=1502, W=716, H=64, Color=(255, 255, 0, 255)\n",
      "  Frame at t_in_clip: 3.03s (Time for subtitle lookup: 3.03s)\n",
      "    Subtitle found: \"TERRITORIES NESTLED WITHIN THE KORADIN\" (SRT range: 1.28-3.36)\n",
      "      Drawing subtitle: 'TERRITORIES' at X=189.5, Y=1356, W=701, H=64, Color=(255, 255, 0, 255)\n",
      "      Drawing subtitle: 'NESTLED WITHIN' at X=100.5, Y=1429, W=879, H=64, Color=(255, 255, 0, 255)\n",
      "      Drawing subtitle: 'THE KORADIN' at X=182.0, Y=1502, W=716, H=64, Color=(255, 255, 0, 255)\n"
     ]
    },
    {
     "name": "stderr",
     "output_type": "stream",
     "text": []
    },
    {
     "name": "stdout",
     "output_type": "stream",
     "text": [
      "  Frame at t_in_clip: 3.07s (Time for subtitle lookup: 3.07s)\n",
      "    Subtitle found: \"TERRITORIES NESTLED WITHIN THE KORADIN\" (SRT range: 1.28-3.36)\n",
      "      Drawing subtitle: 'TERRITORIES' at X=189.5, Y=1356, W=701, H=64, Color=(255, 255, 0, 255)\n",
      "      Drawing subtitle: 'NESTLED WITHIN' at X=100.5, Y=1429, W=879, H=64, Color=(255, 255, 0, 255)\n",
      "      Drawing subtitle: 'THE KORADIN' at X=182.0, Y=1502, W=716, H=64, Color=(255, 255, 0, 255)\n"
     ]
    },
    {
     "name": "stderr",
     "output_type": "stream",
     "text": []
    },
    {
     "name": "stdout",
     "output_type": "stream",
     "text": [
      "  Frame at t_in_clip: 4.00s (Time for subtitle lookup: 4.00s)\n",
      "    Subtitle found: \"SECTOR LIES THE KOVOR SYSTEM\" (SRT range: 3.40-5.06)\n",
      "      Drawing subtitle: 'SECTOR LIES THE' at X=75.0, Y=1429, W=930, H=64, Color=(255, 255, 0, 255)\n",
      "      Drawing subtitle: 'KOVOR SYSTEM' at X=140.0, Y=1502, W=800, H=64, Color=(255, 255, 0, 255)\n",
      "  Frame at t_in_clip: 4.03s (Time for subtitle lookup: 4.03s)\n",
      "    Subtitle found: \"SECTOR LIES THE KOVOR SYSTEM\" (SRT range: 3.40-5.06)\n",
      "      Drawing subtitle: 'SECTOR LIES THE' at X=75.0, Y=1429, W=930, H=64, Color=(255, 255, 0, 255)\n",
      "      Drawing subtitle: 'KOVOR SYSTEM' at X=140.0, Y=1502, W=800, H=64, Color=(255, 255, 0, 255)\n"
     ]
    },
    {
     "name": "stderr",
     "output_type": "stream",
     "text": [
      "\n",
      "t:  24%|██▍       | 125/517 [00:15<00:50,  7.84it/s, now=None]"
     ]
    },
    {
     "name": "stdout",
     "output_type": "stream",
     "text": [
      "  Frame at t_in_clip: 4.07s (Time for subtitle lookup: 4.07s)\n",
      "    Subtitle found: \"SECTOR LIES THE KOVOR SYSTEM\" (SRT range: 3.40-5.06)\n",
      "      Drawing subtitle: 'SECTOR LIES THE' at X=75.0, Y=1429, W=930, H=64, Color=(255, 255, 0, 255)\n",
      "      Drawing subtitle: 'KOVOR SYSTEM' at X=140.0, Y=1502, W=800, H=64, Color=(255, 255, 0, 255)\n"
     ]
    },
    {
     "name": "stderr",
     "output_type": "stream",
     "text": [
      "\u001b[A"
     ]
    },
    {
     "name": "stdout",
     "output_type": "stream",
     "text": [
      "  Frame at t_in_clip: 5.00s (Time for subtitle lookup: 5.00s)\n",
      "    Subtitle found: \"SECTOR LIES THE KOVOR SYSTEM\" (SRT range: 3.40-5.06)\n",
      "      Drawing subtitle: 'SECTOR LIES THE' at X=75.0, Y=1429, W=930, H=64, Color=(255, 255, 0, 255)\n",
      "      Drawing subtitle: 'KOVOR SYSTEM' at X=140.0, Y=1502, W=800, H=64, Color=(255, 255, 0, 255)\n",
      "  Frame at t_in_clip: 5.03s (Time for subtitle lookup: 5.03s)\n",
      "    Subtitle found: \"SECTOR LIES THE KOVOR SYSTEM\" (SRT range: 3.40-5.06)\n",
      "      Drawing subtitle: 'SECTOR LIES THE' at X=75.0, Y=1429, W=930, H=64, Color=(255, 255, 0, 255)\n",
      "      Drawing subtitle: 'KOVOR SYSTEM' at X=140.0, Y=1502, W=800, H=64, Color=(255, 255, 0, 255)\n"
     ]
    },
    {
     "name": "stderr",
     "output_type": "stream",
     "text": []
    },
    {
     "name": "stdout",
     "output_type": "stream",
     "text": [
      "  Frame at t_in_clip: 5.07s (Time for subtitle lookup: 5.07s)\n",
      "    No subtitle found for actual transcript time 5.07s.\n"
     ]
    },
    {
     "name": "stderr",
     "output_type": "stream",
     "text": [
      "\n"
     ]
    },
    {
     "name": "stdout",
     "output_type": "stream",
     "text": [
      "  Frame at t_in_clip: 6.00s (Time for subtitle lookup: 6.00s)\n",
      "    Subtitle found: \"THIS REMOTE SYSTEM BOASTS A\" (SRT range: 5.82-7.33)\n",
      "      Drawing subtitle: 'THIS REMOTE' at X=185.0, Y=1429, W=710, H=64, Color=(255, 255, 0, 255)\n",
      "      Drawing subtitle: 'SYSTEM BOASTS A' at X=63.5, Y=1502, W=953, H=64, Color=(255, 255, 0, 255)\n",
      "  Frame at t_in_clip: 6.03s (Time for subtitle lookup: 6.03s)\n",
      "    Subtitle found: \"THIS REMOTE SYSTEM BOASTS A\" (SRT range: 5.82-7.33)\n",
      "      Drawing subtitle: 'THIS REMOTE' at X=185.0, Y=1429, W=710, H=64, Color=(255, 255, 0, 255)\n",
      "      Drawing subtitle: 'SYSTEM BOASTS A' at X=63.5, Y=1502, W=953, H=64, Color=(255, 255, 0, 255)\n"
     ]
    },
    {
     "name": "stderr",
     "output_type": "stream",
     "text": [
      "t:  35%|███▌      | 183/517 [00:22<00:45,  7.38it/s, now=None]\u001b[A\n"
     ]
    },
    {
     "name": "stdout",
     "output_type": "stream",
     "text": [
      "  Frame at t_in_clip: 6.07s (Time for subtitle lookup: 6.07s)\n",
      "    Subtitle found: \"THIS REMOTE SYSTEM BOASTS A\" (SRT range: 5.82-7.33)\n",
      "      Drawing subtitle: 'THIS REMOTE' at X=185.0, Y=1429, W=710, H=64, Color=(255, 255, 0, 255)\n",
      "      Drawing subtitle: 'SYSTEM BOASTS A' at X=63.5, Y=1502, W=953, H=64, Color=(255, 255, 0, 255)\n"
     ]
    },
    {
     "name": "stderr",
     "output_type": "stream",
     "text": [
      "t:  36%|███▌      | 185/517 [00:23<00:45,  7.27it/s, now=None]\u001b[A"
     ]
    },
    {
     "name": "stdout",
     "output_type": "stream",
     "text": [
      "  Frame at t_in_clip: 7.00s (Time for subtitle lookup: 7.00s)\n",
      "    Subtitle found: \"THIS REMOTE SYSTEM BOASTS A\" (SRT range: 5.82-7.33)\n",
      "      Drawing subtitle: 'THIS REMOTE' at X=185.0, Y=1429, W=710, H=64, Color=(255, 255, 0, 255)\n",
      "      Drawing subtitle: 'SYSTEM BOASTS A' at X=63.5, Y=1502, W=953, H=64, Color=(255, 255, 0, 255)\n",
      "  Frame at t_in_clip: 7.03s (Time for subtitle lookup: 7.03s)\n",
      "    Subtitle found: \"THIS REMOTE SYSTEM BOASTS A\" (SRT range: 5.82-7.33)\n",
      "      Drawing subtitle: 'THIS REMOTE' at X=185.0, Y=1429, W=710, H=64, Color=(255, 255, 0, 255)\n",
      "      Drawing subtitle: 'SYSTEM BOASTS A' at X=63.5, Y=1502, W=953, H=64, Color=(255, 255, 0, 255)\n"
     ]
    },
    {
     "name": "stderr",
     "output_type": "stream",
     "text": [
      "\n"
     ]
    },
    {
     "name": "stdout",
     "output_type": "stream",
     "text": [
      "  Frame at t_in_clip: 7.07s (Time for subtitle lookup: 7.07s)\n",
      "    Subtitle found: \"THIS REMOTE SYSTEM BOASTS A\" (SRT range: 5.82-7.33)\n",
      "      Drawing subtitle: 'THIS REMOTE' at X=185.0, Y=1429, W=710, H=64, Color=(255, 255, 0, 255)\n",
      "      Drawing subtitle: 'SYSTEM BOASTS A' at X=63.5, Y=1502, W=953, H=64, Color=(255, 255, 0, 255)\n"
     ]
    },
    {
     "name": "stderr",
     "output_type": "stream",
     "text": [
      "t:  42%|████▏     | 215/517 [00:27<00:41,  7.25it/s, now=None]\u001b[A\n"
     ]
    },
    {
     "name": "stdout",
     "output_type": "stream",
     "text": [
      "  Frame at t_in_clip: 8.00s (Time for subtitle lookup: 8.00s)\n",
      "    Subtitle found: \"SINGLE KNOWN PLANET KOVOR ITSELF\" (SRT range: 7.41-9.43)\n",
      "      Drawing subtitle: 'SINGLE KNOWN' at X=143.0, Y=1356, W=794, H=64, Color=(255, 255, 0, 255)\n",
      "      Drawing subtitle: 'PLANET KOVOR' at X=132.5, Y=1429, W=815, H=64, Color=(255, 255, 0, 255)\n",
      "      Drawing subtitle: 'ITSELF' at X=359.5, Y=1502, W=361, H=64, Color=(255, 255, 0, 255)\n",
      "  Frame at t_in_clip: 8.03s (Time for subtitle lookup: 8.03s)\n",
      "    Subtitle found: \"SINGLE KNOWN PLANET KOVOR ITSELF\" (SRT range: 7.41-9.43)\n",
      "      Drawing subtitle: 'SINGLE KNOWN' at X=143.0, Y=1356, W=794, H=64, Color=(255, 255, 0, 255)\n",
      "      Drawing subtitle: 'PLANET KOVOR' at X=132.5, Y=1429, W=815, H=64, Color=(255, 255, 0, 255)\n",
      "      Drawing subtitle: 'ITSELF' at X=359.5, Y=1502, W=361, H=64, Color=(255, 255, 0, 255)\n"
     ]
    },
    {
     "name": "stderr",
     "output_type": "stream",
     "text": [
      "t:  47%|████▋     | 243/517 [00:31<00:36,  7.45it/s, now=None]\u001b[A\n"
     ]
    },
    {
     "name": "stdout",
     "output_type": "stream",
     "text": [
      "  Frame at t_in_clip: 8.07s (Time for subtitle lookup: 8.07s)\n",
      "    Subtitle found: \"SINGLE KNOWN PLANET KOVOR ITSELF\" (SRT range: 7.41-9.43)\n",
      "      Drawing subtitle: 'SINGLE KNOWN' at X=143.0, Y=1356, W=794, H=64, Color=(255, 255, 0, 255)\n",
      "      Drawing subtitle: 'PLANET KOVOR' at X=132.5, Y=1429, W=815, H=64, Color=(255, 255, 0, 255)\n",
      "      Drawing subtitle: 'ITSELF' at X=359.5, Y=1502, W=361, H=64, Color=(255, 255, 0, 255)\n"
     ]
    },
    {
     "name": "stderr",
     "output_type": "stream",
     "text": [
      "t:  47%|████▋     | 245/517 [00:31<00:38,  7.08it/s, now=None]\u001b[A"
     ]
    },
    {
     "name": "stdout",
     "output_type": "stream",
     "text": [
      "  Frame at t_in_clip: 9.00s (Time for subtitle lookup: 9.00s)\n",
      "    Subtitle found: \"SINGLE KNOWN PLANET KOVOR ITSELF\" (SRT range: 7.41-9.43)\n",
      "      Drawing subtitle: 'SINGLE KNOWN' at X=143.0, Y=1356, W=794, H=64, Color=(255, 255, 0, 255)\n",
      "      Drawing subtitle: 'PLANET KOVOR' at X=132.5, Y=1429, W=815, H=64, Color=(255, 255, 0, 255)\n",
      "      Drawing subtitle: 'ITSELF' at X=359.5, Y=1502, W=361, H=64, Color=(255, 255, 0, 255)\n",
      "  Frame at t_in_clip: 9.03s (Time for subtitle lookup: 9.03s)\n"
     ]
    },
    {
     "name": "stderr",
     "output_type": "stream",
     "text": []
    },
    {
     "name": "stdout",
     "output_type": "stream",
     "text": [
      "    Subtitle found: \"SINGLE KNOWN PLANET KOVOR ITSELF\" (SRT range: 7.41-9.43)\n",
      "      Drawing subtitle: 'SINGLE KNOWN' at X=143.0, Y=1356, W=794, H=64, Color=(255, 255, 0, 255)\n",
      "      Drawing subtitle: 'PLANET KOVOR' at X=132.5, Y=1429, W=815, H=64, Color=(255, 255, 0, 255)\n",
      "      Drawing subtitle: 'ITSELF' at X=359.5, Y=1502, W=361, H=64, Color=(255, 255, 0, 255)\n",
      "  Frame at t_in_clip: 9.07s (Time for subtitle lookup: 9.07s)\n",
      "    Subtitle found: \"SINGLE KNOWN PLANET KOVOR ITSELF\" (SRT range: 7.41-9.43)\n",
      "      Drawing subtitle: 'SINGLE KNOWN' at X=143.0, Y=1356, W=794, H=64, Color=(255, 255, 0, 255)\n",
      "      Drawing subtitle: 'PLANET KOVOR' at X=132.5, Y=1429, W=815, H=64, Color=(255, 255, 0, 255)\n"
     ]
    },
    {
     "name": "stderr",
     "output_type": "stream",
     "text": [
      "\n"
     ]
    },
    {
     "name": "stdout",
     "output_type": "stream",
     "text": [
      "      Drawing subtitle: 'ITSELF' at X=359.5, Y=1502, W=361, H=64, Color=(255, 255, 0, 255)\n"
     ]
    },
    {
     "name": "stderr",
     "output_type": "stream",
     "text": [
      "t:  53%|█████▎    | 275/517 [00:36<00:43,  5.59it/s, now=None]\u001b[A"
     ]
    },
    {
     "name": "stdout",
     "output_type": "stream",
     "text": [
      "  Frame at t_in_clip: 10.00s (Time for subtitle lookup: 10.00s)\n",
      "    Subtitle found: \"A WORLD THAT FEATURES IN\" (SRT range: 9.71-10.79)\n",
      "      Drawing subtitle: 'A WORLD THAT' at X=134.0, Y=1429, W=812, H=64, Color=(255, 255, 0, 255)\n",
      "      Drawing subtitle: 'FEATURES IN' at X=193.0, Y=1502, W=694, H=64, Color=(255, 255, 0, 255)\n",
      "  Frame at t_in_clip: 10.03s (Time for subtitle lookup: 10.03s)\n"
     ]
    },
    {
     "name": "stderr",
     "output_type": "stream",
     "text": [
      "\n"
     ]
    },
    {
     "name": "stdout",
     "output_type": "stream",
     "text": [
      "    Subtitle found: \"A WORLD THAT FEATURES IN\" (SRT range: 9.71-10.79)\n",
      "      Drawing subtitle: 'A WORLD THAT' at X=134.0, Y=1429, W=812, H=64, Color=(255, 255, 0, 255)\n",
      "      Drawing subtitle: 'FEATURES IN' at X=193.0, Y=1502, W=694, H=64, Color=(255, 255, 0, 255)\n",
      "  Frame at t_in_clip: 10.07s (Time for subtitle lookup: 10.07s)\n",
      "    Subtitle found: \"A WORLD THAT FEATURES IN\" (SRT range: 9.71-10.79)\n",
      "      Drawing subtitle: 'A WORLD THAT' at X=134.0, Y=1429, W=812, H=64, Color=(255, 255, 0, 255)\n",
      "      Drawing subtitle: 'FEATURES IN' at X=193.0, Y=1502, W=694, H=64, Color=(255, 255, 0, 255)\n"
     ]
    },
    {
     "name": "stderr",
     "output_type": "stream",
     "text": [
      "t:  59%|█████▉    | 304/517 [00:41<00:36,  5.81it/s, now=None]\u001b[A"
     ]
    },
    {
     "name": "stdout",
     "output_type": "stream",
     "text": [
      "  Frame at t_in_clip: 11.00s (Time for subtitle lookup: 11.00s)\n",
      "    Subtitle found: \"THE STAR WARS\" (SRT range: 10.83-11.55)\n",
      "      Drawing subtitle: 'THE STAR WARS' at X=113.0, Y=1502, W=854, H=64, Color=(255, 255, 0, 255)\n",
      "  Frame at t_in_clip: 11.03s (Time for subtitle lookup: 11.03s)\n"
     ]
    },
    {
     "name": "stderr",
     "output_type": "stream",
     "text": [
      "\n"
     ]
    },
    {
     "name": "stdout",
     "output_type": "stream",
     "text": [
      "    Subtitle found: \"THE STAR WARS\" (SRT range: 10.83-11.55)\n",
      "      Drawing subtitle: 'THE STAR WARS' at X=113.0, Y=1502, W=854, H=64, Color=(255, 255, 0, 255)\n",
      "  Frame at t_in_clip: 11.07s (Time for subtitle lookup: 11.07s)\n",
      "    Subtitle found: \"THE STAR WARS\" (SRT range: 10.83-11.55)\n",
      "      Drawing subtitle: 'THE STAR WARS' at X=113.0, Y=1502, W=854, H=64, Color=(255, 255, 0, 255)\n"
     ]
    },
    {
     "name": "stderr",
     "output_type": "stream",
     "text": [
      "t:  65%|██████▍   | 334/517 [00:46<00:31,  5.74it/s, now=None]\u001b[A"
     ]
    },
    {
     "name": "stdout",
     "output_type": "stream",
     "text": [
      "  Frame at t_in_clip: 12.00s (Time for subtitle lookup: 12.00s)\n",
      "    Subtitle found: \"THE OLD REPUBLIC GAME\" (SRT range: 11.85-12.99)\n",
      "      Drawing subtitle: 'THE OLD' at X=312.0, Y=1429, W=456, H=64, Color=(255, 255, 0, 255)\n",
      "      Drawing subtitle: 'REPUBLIC GAME' at X=116.0, Y=1502, W=848, H=64, Color=(255, 255, 0, 255)\n",
      "  Frame at t_in_clip: 12.03s (Time for subtitle lookup: 12.03s)\n"
     ]
    },
    {
     "name": "stderr",
     "output_type": "stream",
     "text": []
    },
    {
     "name": "stdout",
     "output_type": "stream",
     "text": [
      "    Subtitle found: \"THE OLD REPUBLIC GAME\" (SRT range: 11.85-12.99)\n",
      "      Drawing subtitle: 'THE OLD' at X=312.0, Y=1429, W=456, H=64, Color=(255, 255, 0, 255)\n",
      "      Drawing subtitle: 'REPUBLIC GAME' at X=116.0, Y=1502, W=848, H=64, Color=(255, 255, 0, 255)\n",
      "  Frame at t_in_clip: 12.07s (Time for subtitle lookup: 12.07s)\n",
      "    Subtitle found: \"THE OLD REPUBLIC GAME\" (SRT range: 11.85-12.99)\n",
      "      Drawing subtitle: 'THE OLD' at X=312.0, Y=1429, W=456, H=64, Color=(255, 255, 0, 255)\n",
      "      Drawing subtitle: 'REPUBLIC GAME' at X=116.0, Y=1502, W=848, H=64, Color=(255, 255, 0, 255)\n"
     ]
    },
    {
     "name": "stderr",
     "output_type": "stream",
     "text": []
    },
    {
     "name": "stdout",
     "output_type": "stream",
     "text": [
      "  Frame at t_in_clip: 13.00s (Time for subtitle lookup: 13.00s)\n",
      "    No subtitle found for actual transcript time 13.00s.\n",
      "  Frame at t_in_clip: 13.03s (Time for subtitle lookup: 13.03s)\n"
     ]
    },
    {
     "name": "stderr",
     "output_type": "stream",
     "text": [
      "\n"
     ]
    },
    {
     "name": "stdout",
     "output_type": "stream",
     "text": [
      "    No subtitle found for actual transcript time 13.03s.\n",
      "  Frame at t_in_clip: 13.07s (Time for subtitle lookup: 13.07s)\n",
      "    No subtitle found for actual transcript time 13.07s.\n"
     ]
    },
    {
     "name": "stderr",
     "output_type": "stream",
     "text": [
      "t:  76%|███████▌  | 394/517 [00:56<00:19,  6.23it/s, now=None]\u001b[A"
     ]
    },
    {
     "name": "stdout",
     "output_type": "stream",
     "text": [
      "  Frame at t_in_clip: 14.00s (Time for subtitle lookup: 14.00s)\n",
      "    Subtitle found: \"ITS LOCATION IS PINPOINTED AT\" (SRT range: 13.79-15.41)\n",
      "      Drawing subtitle: 'ITS LOCATION IS' at X=123.0, Y=1429, W=834, H=64, Color=(255, 255, 0, 255)\n",
      "      Drawing subtitle: 'PINPOINTED AT' at X=139.0, Y=1502, W=802, H=64, Color=(255, 255, 0, 255)\n",
      "  Frame at t_in_clip: 14.03s (Time for subtitle lookup: 14.03s)\n"
     ]
    },
    {
     "name": "stderr",
     "output_type": "stream",
     "text": [
      "\n"
     ]
    },
    {
     "name": "stdout",
     "output_type": "stream",
     "text": [
      "    Subtitle found: \"ITS LOCATION IS PINPOINTED AT\" (SRT range: 13.79-15.41)\n",
      "      Drawing subtitle: 'ITS LOCATION IS' at X=123.0, Y=1429, W=834, H=64, Color=(255, 255, 0, 255)\n",
      "      Drawing subtitle: 'PINPOINTED AT' at X=139.0, Y=1502, W=802, H=64, Color=(255, 255, 0, 255)\n",
      "  Frame at t_in_clip: 14.07s (Time for subtitle lookup: 14.07s)\n",
      "    Subtitle found: \"ITS LOCATION IS PINPOINTED AT\" (SRT range: 13.79-15.41)\n",
      "      Drawing subtitle: 'ITS LOCATION IS' at X=123.0, Y=1429, W=834, H=64, Color=(255, 255, 0, 255)\n",
      "      Drawing subtitle: 'PINPOINTED AT' at X=139.0, Y=1502, W=802, H=64, Color=(255, 255, 0, 255)\n"
     ]
    },
    {
     "name": "stderr",
     "output_type": "stream",
     "text": [
      "t:  82%|████████▏ | 424/517 [01:00<00:15,  6.11it/s, now=None]\u001b[A"
     ]
    },
    {
     "name": "stdout",
     "output_type": "stream",
     "text": [
      "  Frame at t_in_clip: 15.00s (Time for subtitle lookup: 15.00s)\n",
      "    Subtitle found: \"ITS LOCATION IS PINPOINTED AT\" (SRT range: 13.79-15.41)\n",
      "      Drawing subtitle: 'ITS LOCATION IS' at X=123.0, Y=1429, W=834, H=64, Color=(255, 255, 0, 255)\n",
      "      Drawing subtitle: 'PINPOINTED AT' at X=139.0, Y=1502, W=802, H=64, Color=(255, 255, 0, 255)\n",
      "  Frame at t_in_clip: 15.03s (Time for subtitle lookup: 15.03s)\n"
     ]
    },
    {
     "name": "stderr",
     "output_type": "stream",
     "text": []
    },
    {
     "name": "stdout",
     "output_type": "stream",
     "text": [
      "    Subtitle found: \"ITS LOCATION IS PINPOINTED AT\" (SRT range: 13.79-15.41)\n",
      "      Drawing subtitle: 'ITS LOCATION IS' at X=123.0, Y=1429, W=834, H=64, Color=(255, 255, 0, 255)\n",
      "      Drawing subtitle: 'PINPOINTED AT' at X=139.0, Y=1502, W=802, H=64, Color=(255, 255, 0, 255)\n",
      "  Frame at t_in_clip: 15.07s (Time for subtitle lookup: 15.07s)\n",
      "    Subtitle found: \"ITS LOCATION IS PINPOINTED AT\" (SRT range: 13.79-15.41)\n",
      "      Drawing subtitle: 'ITS LOCATION IS' at X=123.0, Y=1429, W=834, H=64, Color=(255, 255, 0, 255)\n",
      "      Drawing subtitle: 'PINPOINTED AT' at X=139.0, Y=1502, W=802, H=64, Color=(255, 255, 0, 255)\n"
     ]
    },
    {
     "name": "stderr",
     "output_type": "stream",
     "text": []
    },
    {
     "name": "stdout",
     "output_type": "stream",
     "text": [
      "  Frame at t_in_clip: 16.00s (Time for subtitle lookup: 16.00s)\n",
      "    Subtitle found: \"GRID SQUARE\" (SRT range: 15.47-16.09)\n",
      "      Drawing subtitle: 'GRID SQUARE' at X=182.0, Y=1502, W=716, H=64, Color=(255, 255, 0, 255)\n",
      "  Frame at t_in_clip: 16.03s (Time for subtitle lookup: 16.03s)\n"
     ]
    },
    {
     "name": "stderr",
     "output_type": "stream",
     "text": []
    },
    {
     "name": "stdout",
     "output_type": "stream",
     "text": [
      "    Subtitle found: \"GRID SQUARE\" (SRT range: 15.47-16.09)\n",
      "      Drawing subtitle: 'GRID SQUARE' at X=182.0, Y=1502, W=716, H=64, Color=(255, 255, 0, 255)\n",
      "  Frame at t_in_clip: 16.07s (Time for subtitle lookup: 16.07s)\n",
      "    Subtitle found: \"GRID SQUARE\" (SRT range: 15.47-16.09)\n",
      "      Drawing subtitle: 'GRID SQUARE' at X=182.0, Y=1502, W=716, H=64, Color=(255, 255, 0, 255)\n"
     ]
    },
    {
     "name": "stderr",
     "output_type": "stream",
     "text": []
    },
    {
     "name": "stdout",
     "output_type": "stream",
     "text": [
      "  Frame at t_in_clip: 17.00s (Time for subtitle lookup: 17.00s)\n",
      "    No subtitle found for actual transcript time 17.00s.\n",
      "  Frame at t_in_clip: 17.03s (Time for subtitle lookup: 17.03s)\n"
     ]
    },
    {
     "name": "stderr",
     "output_type": "stream",
     "text": [
      "\n"
     ]
    },
    {
     "name": "stdout",
     "output_type": "stream",
     "text": [
      "    No subtitle found for actual transcript time 17.03s.\n",
      "  Frame at t_in_clip: 17.07s (Time for subtitle lookup: 17.07s)\n",
      "    No subtitle found for actual transcript time 17.07s.\n"
     ]
    },
    {
     "name": "stderr",
     "output_type": "stream",
     "text": [
      "t:  32%|███▏      | 566/1769 [4:13:38<02:59,  6.70it/s, now=None]"
     ]
    },
    {
     "name": "stdout",
     "output_type": "stream",
     "text": [
      "Moviepy - Done !\n",
      "Moviepy - video ready ../data/generated_shorts\\Koradin sector locations\\Kovor system_Legends_short.mp4\n",
      "Successfully created short for 'Kovor system_Legends'.\n",
      "Cleaned temporary image directory: ../data/temp_images\n",
      "Short creation and logging complete for 'Kovor system_Legends'.\n",
      "\n",
      "'Iguana (speeder bike)' has already had a short created. Skipping.\n",
      "\n",
      "'Sandstone' has already had a short created. Skipping.\n",
      "\n",
      "Processing audio file: ../data/generated_audio\\Science stubs\\Kilogram.mp3 for short creation.\n",
      "Loaded article content from: ../data/generated_articles\\Science stubs\\Kilogram.txt\n",
      "Found 2 image URLs in article.\n",
      "Cleaned temporary image directory: ../data/temp_images\n",
      "Loaded 14 subtitle entries from: ../data/generated_transcripts\\Science stubs\\Kilogram.srt\n",
      "Loaded audio: Kilogram.mp3 (Duration: 22.68s)\n",
      "Loaded main video: minecraft01.mp4 (Duration: 1076.82s)\n",
      "Selected video segment: 527.74s to 550.42s (Clip duration: 22.68s)\n",
      "Cropping width from 1920 to 607 to fit 9:16.\n",
      "Resized to final resolution: 1080x1920\n",
      "Attempting to download 2 images for 'Kilogram'...\n",
      "Downloaded image from https://static.wikia.nocookie.net/starwars/images/c/c5/Supernova-TSW.jpg/revision/latest?cb=20070830143817, to ../data/temp_images\\latest_5386\n"
     ]
    },
    {
     "name": "stderr",
     "output_type": "stream",
     "text": [
      "t:  32%|███▏      | 566/1769 [4:13:41<02:59,  6.70it/s, now=None]"
     ]
    },
    {
     "name": "stdout",
     "output_type": "stream",
     "text": [
      "Downloaded image from https://static.wikia.nocookie.net/starwars/images/9/94/TBBtemplate.png/revision/latest?cb=20220102194547 to ../data/temp_images\\latest_9007\n",
      "Images will switch every 11.34 seconds.\n",
      "  Frame at t_in_clip: 0.00s (Time for subtitle lookup: 0.00s)\n",
      "    Subtitle found: \"IN THE STAR WARS GALAXY\" (SRT range: 0.00-1.60)\n",
      "      Drawing subtitle: 'IN THE STAR' at X=215.0, Y=1429, W=650, H=64, Color=(255, 255, 0, 255)\n",
      "      Drawing subtitle: 'WARS GALAXY' at X=145.5, Y=1502, W=789, H=64, Color=(255, 255, 0, 255)\n",
      "Writing final video to: ../data/generated_shorts\\Science stubs\\Kilogram_short.mp4\n",
      "Moviepy - Building video ../data/generated_shorts\\Science stubs\\Kilogram_short.mp4.\n",
      "MoviePy - Writing audio in Kilogram_shortTEMP_MPY_wvf_snd.mp3\n"
     ]
    },
    {
     "name": "stderr",
     "output_type": "stream",
     "text": [
      "t:  32%|███▏      | 566/1769 [4:13:41<02:59,  6.70it/s, now=None]"
     ]
    },
    {
     "name": "stdout",
     "output_type": "stream",
     "text": [
      "MoviePy - Done.\n",
      "Moviepy - Writing video ../data/generated_shorts\\Science stubs\\Kilogram_short.mp4\n",
      "\n"
     ]
    },
    {
     "name": "stderr",
     "output_type": "stream",
     "text": []
    },
    {
     "name": "stdout",
     "output_type": "stream",
     "text": [
      "  Frame at t_in_clip: 0.00s (Time for subtitle lookup: 0.00s)\n",
      "    Subtitle found: \"IN THE STAR WARS GALAXY\" (SRT range: 0.00-1.60)\n",
      "      Drawing subtitle: 'IN THE STAR' at X=215.0, Y=1429, W=650, H=64, Color=(255, 255, 0, 255)\n",
      "      Drawing subtitle: 'WARS GALAXY' at X=145.5, Y=1502, W=789, H=64, Color=(255, 255, 0, 255)\n",
      "  Frame at t_in_clip: 0.03s (Time for subtitle lookup: 0.03s)\n",
      "    Subtitle found: \"IN THE STAR WARS GALAXY\" (SRT range: 0.00-1.60)\n",
      "      Drawing subtitle: 'IN THE STAR' at X=215.0, Y=1429, W=650, H=64, Color=(255, 255, 0, 255)\n",
      "      Drawing subtitle: 'WARS GALAXY' at X=145.5, Y=1502, W=789, H=64, Color=(255, 255, 0, 255)\n"
     ]
    },
    {
     "name": "stderr",
     "output_type": "stream",
     "text": []
    },
    {
     "name": "stdout",
     "output_type": "stream",
     "text": [
      "  Frame at t_in_clip: 0.07s (Time for subtitle lookup: 0.07s)\n",
      "    Subtitle found: \"IN THE STAR WARS GALAXY\" (SRT range: 0.00-1.60)\n",
      "      Drawing subtitle: 'IN THE STAR' at X=215.0, Y=1429, W=650, H=64, Color=(255, 255, 0, 255)\n",
      "      Drawing subtitle: 'WARS GALAXY' at X=145.5, Y=1502, W=789, H=64, Color=(255, 255, 0, 255)\n"
     ]
    },
    {
     "name": "stderr",
     "output_type": "stream",
     "text": []
    },
    {
     "name": "stdout",
     "output_type": "stream",
     "text": [
      "  Frame at t_in_clip: 1.00s (Time for subtitle lookup: 1.00s)\n",
      "    Subtitle found: \"IN THE STAR WARS GALAXY\" (SRT range: 0.00-1.60)\n",
      "      Drawing subtitle: 'IN THE STAR' at X=215.0, Y=1429, W=650, H=64, Color=(255, 255, 0, 255)\n",
      "      Drawing subtitle: 'WARS GALAXY' at X=145.5, Y=1502, W=789, H=64, Color=(255, 255, 0, 255)\n",
      "  Frame at t_in_clip: 1.03s (Time for subtitle lookup: 1.03s)\n",
      "    Subtitle found: \"IN THE STAR WARS GALAXY\" (SRT range: 0.00-1.60)\n",
      "      Drawing subtitle: 'IN THE STAR' at X=215.0, Y=1429, W=650, H=64, Color=(255, 255, 0, 255)\n",
      "      Drawing subtitle: 'WARS GALAXY' at X=145.5, Y=1502, W=789, H=64, Color=(255, 255, 0, 255)\n"
     ]
    },
    {
     "name": "stderr",
     "output_type": "stream",
     "text": []
    },
    {
     "name": "stdout",
     "output_type": "stream",
     "text": [
      "  Frame at t_in_clip: 1.07s (Time for subtitle lookup: 1.07s)\n",
      "    Subtitle found: \"IN THE STAR WARS GALAXY\" (SRT range: 0.00-1.60)\n",
      "      Drawing subtitle: 'IN THE STAR' at X=215.0, Y=1429, W=650, H=64, Color=(255, 255, 0, 255)\n",
      "      Drawing subtitle: 'WARS GALAXY' at X=145.5, Y=1502, W=789, H=64, Color=(255, 255, 0, 255)\n"
     ]
    },
    {
     "name": "stderr",
     "output_type": "stream",
     "text": [
      "\n"
     ]
    },
    {
     "name": "stdout",
     "output_type": "stream",
     "text": [
      "  Frame at t_in_clip: 2.00s (Time for subtitle lookup: 2.00s)\n",
      "    Subtitle found: \"THE KILOGRAM OR KG MEASURES\" (SRT range: 1.78-3.88)\n",
      "      Drawing subtitle: 'THE KILOGRAM OR' at X=56.0, Y=1429, W=968, H=64, Color=(255, 255, 0, 255)\n",
      "      Drawing subtitle: 'KG MEASURES' at X=162.0, Y=1502, W=756, H=64, Color=(255, 255, 0, 255)\n",
      "  Frame at t_in_clip: 2.03s (Time for subtitle lookup: 2.03s)\n",
      "    Subtitle found: \"THE KILOGRAM OR KG MEASURES\" (SRT range: 1.78-3.88)\n",
      "      Drawing subtitle: 'THE KILOGRAM OR' at X=56.0, Y=1429, W=968, H=64, Color=(255, 255, 0, 255)\n",
      "      Drawing subtitle: 'KG MEASURES' at X=162.0, Y=1502, W=756, H=64, Color=(255, 255, 0, 255)\n"
     ]
    },
    {
     "name": "stderr",
     "output_type": "stream",
     "text": [
      "t:   9%|▉         | 63/681 [00:07<01:28,  6.96it/s, now=None]\u001b[A"
     ]
    },
    {
     "name": "stdout",
     "output_type": "stream",
     "text": [
      "  Frame at t_in_clip: 2.07s (Time for subtitle lookup: 2.07s)\n",
      "    Subtitle found: \"THE KILOGRAM OR KG MEASURES\" (SRT range: 1.78-3.88)\n",
      "      Drawing subtitle: 'THE KILOGRAM OR' at X=56.0, Y=1429, W=968, H=64, Color=(255, 255, 0, 255)\n",
      "      Drawing subtitle: 'KG MEASURES' at X=162.0, Y=1502, W=756, H=64, Color=(255, 255, 0, 255)\n"
     ]
    },
    {
     "name": "stderr",
     "output_type": "stream",
     "text": [
      "\n"
     ]
    },
    {
     "name": "stdout",
     "output_type": "stream",
     "text": [
      "  Frame at t_in_clip: 3.00s (Time for subtitle lookup: 3.00s)\n",
      "    Subtitle found: \"THE KILOGRAM OR KG MEASURES\" (SRT range: 1.78-3.88)\n",
      "      Drawing subtitle: 'THE KILOGRAM OR' at X=56.0, Y=1429, W=968, H=64, Color=(255, 255, 0, 255)\n",
      "      Drawing subtitle: 'KG MEASURES' at X=162.0, Y=1502, W=756, H=64, Color=(255, 255, 0, 255)\n",
      "  Frame at t_in_clip: 3.03s (Time for subtitle lookup: 3.03s)\n",
      "    Subtitle found: \"THE KILOGRAM OR KG MEASURES\" (SRT range: 1.78-3.88)\n",
      "      Drawing subtitle: 'THE KILOGRAM OR' at X=56.0, Y=1429, W=968, H=64, Color=(255, 255, 0, 255)\n",
      "      Drawing subtitle: 'KG MEASURES' at X=162.0, Y=1502, W=756, H=64, Color=(255, 255, 0, 255)\n"
     ]
    },
    {
     "name": "stderr",
     "output_type": "stream",
     "text": [
      "t:  14%|█▎        | 93/681 [00:12<01:24,  6.96it/s, now=None]\u001b[A"
     ]
    },
    {
     "name": "stdout",
     "output_type": "stream",
     "text": [
      "  Frame at t_in_clip: 3.07s (Time for subtitle lookup: 3.07s)\n",
      "    Subtitle found: \"THE KILOGRAM OR KG MEASURES\" (SRT range: 1.78-3.88)\n",
      "      Drawing subtitle: 'THE KILOGRAM OR' at X=56.0, Y=1429, W=968, H=64, Color=(255, 255, 0, 255)\n",
      "      Drawing subtitle: 'KG MEASURES' at X=162.0, Y=1502, W=756, H=64, Color=(255, 255, 0, 255)\n"
     ]
    },
    {
     "name": "stderr",
     "output_type": "stream",
     "text": []
    },
    {
     "name": "stdout",
     "output_type": "stream",
     "text": [
      "  Frame at t_in_clip: 4.00s (Time for subtitle lookup: 4.00s)\n",
      "    Subtitle found: \"MASS\" (SRT range: 3.96-4.32)\n",
      "      Drawing subtitle: 'MASS' at X=397.0, Y=1502, W=286, H=64, Color=(255, 255, 0, 255)\n",
      "  Frame at t_in_clip: 4.03s (Time for subtitle lookup: 4.03s)\n",
      "    Subtitle found: \"MASS\" (SRT range: 3.96-4.32)\n",
      "      Drawing subtitle: 'MASS' at X=397.0, Y=1502, W=286, H=64, Color=(255, 255, 0, 255)\n"
     ]
    },
    {
     "name": "stderr",
     "output_type": "stream",
     "text": []
    },
    {
     "name": "stdout",
     "output_type": "stream",
     "text": [
      "  Frame at t_in_clip: 4.07s (Time for subtitle lookup: 4.07s)\n",
      "    Subtitle found: \"MASS\" (SRT range: 3.96-4.32)\n",
      "      Drawing subtitle: 'MASS' at X=397.0, Y=1502, W=286, H=64, Color=(255, 255, 0, 255)\n"
     ]
    },
    {
     "name": "stderr",
     "output_type": "stream",
     "text": []
    },
    {
     "name": "stdout",
     "output_type": "stream",
     "text": [
      "  Frame at t_in_clip: 5.00s (Time for subtitle lookup: 5.00s)\n",
      "    No subtitle found for actual transcript time 5.00s.\n",
      "  Frame at t_in_clip: 5.03s (Time for subtitle lookup: 5.03s)\n",
      "    No subtitle found for actual transcript time 5.03s.\n"
     ]
    },
    {
     "name": "stderr",
     "output_type": "stream",
     "text": []
    },
    {
     "name": "stdout",
     "output_type": "stream",
     "text": [
      "  Frame at t_in_clip: 5.07s (Time for subtitle lookup: 5.07s)\n",
      "    No subtitle found for actual transcript time 5.07s.\n"
     ]
    },
    {
     "name": "stderr",
     "output_type": "stream",
     "text": []
    },
    {
     "name": "stdout",
     "output_type": "stream",
     "text": [
      "  Frame at t_in_clip: 6.00s (Time for subtitle lookup: 6.00s)\n",
      "    Subtitle found: \"WE KNOW FOR INSTANCE THAT\" (SRT range: 5.14-6.61)\n",
      "      Drawing subtitle: 'WE KNOW FOR' at X=155.0, Y=1429, W=770, H=64, Color=(255, 255, 0, 255)\n",
      "      Drawing subtitle: 'INSTANCE THAT' at X=134.0, Y=1502, W=812, H=64, Color=(255, 255, 0, 255)\n",
      "  Frame at t_in_clip: 6.03s (Time for subtitle lookup: 6.03s)\n",
      "    Subtitle found: \"WE KNOW FOR INSTANCE THAT\" (SRT range: 5.14-6.61)\n",
      "      Drawing subtitle: 'WE KNOW FOR' at X=155.0, Y=1429, W=770, H=64, Color=(255, 255, 0, 255)\n",
      "      Drawing subtitle: 'INSTANCE THAT' at X=134.0, Y=1502, W=812, H=64, Color=(255, 255, 0, 255)\n"
     ]
    },
    {
     "name": "stderr",
     "output_type": "stream",
     "text": []
    },
    {
     "name": "stdout",
     "output_type": "stream",
     "text": [
      "  Frame at t_in_clip: 6.07s (Time for subtitle lookup: 6.07s)\n",
      "    Subtitle found: \"WE KNOW FOR INSTANCE THAT\" (SRT range: 5.14-6.61)\n",
      "      Drawing subtitle: 'WE KNOW FOR' at X=155.0, Y=1429, W=770, H=64, Color=(255, 255, 0, 255)\n",
      "      Drawing subtitle: 'INSTANCE THAT' at X=134.0, Y=1502, W=812, H=64, Color=(255, 255, 0, 255)\n"
     ]
    },
    {
     "name": "stderr",
     "output_type": "stream",
     "text": []
    },
    {
     "name": "stdout",
     "output_type": "stream",
     "text": [
      "  Frame at t_in_clip: 7.00s (Time for subtitle lookup: 7.00s)\n",
      "    Subtitle found: \"A B BATTLE DROID TIPS\" (SRT range: 6.64-8.19)\n",
      "      Drawing subtitle: 'A B BATTLE' at X=225.5, Y=1429, W=629, H=64, Color=(255, 255, 0, 255)\n",
      "      Drawing subtitle: 'DROID TIPS' at X=246.0, Y=1502, W=588, H=64, Color=(255, 255, 0, 255)\n",
      "  Frame at t_in_clip: 7.03s (Time for subtitle lookup: 7.03s)\n",
      "    Subtitle found: \"A B BATTLE DROID TIPS\" (SRT range: 6.64-8.19)\n",
      "      Drawing subtitle: 'A B BATTLE' at X=225.5, Y=1429, W=629, H=64, Color=(255, 255, 0, 255)\n",
      "      Drawing subtitle: 'DROID TIPS' at X=246.0, Y=1502, W=588, H=64, Color=(255, 255, 0, 255)\n"
     ]
    },
    {
     "name": "stderr",
     "output_type": "stream",
     "text": [
      "\n"
     ]
    },
    {
     "name": "stdout",
     "output_type": "stream",
     "text": [
      "  Frame at t_in_clip: 7.07s (Time for subtitle lookup: 7.07s)\n",
      "    Subtitle found: \"A B BATTLE DROID TIPS\" (SRT range: 6.64-8.19)\n",
      "      Drawing subtitle: 'A B BATTLE' at X=225.5, Y=1429, W=629, H=64, Color=(255, 255, 0, 255)\n",
      "      Drawing subtitle: 'DROID TIPS' at X=246.0, Y=1502, W=588, H=64, Color=(255, 255, 0, 255)\n"
     ]
    },
    {
     "name": "stderr",
     "output_type": "stream",
     "text": [
      "t:  32%|███▏      | 215/681 [00:27<01:00,  7.73it/s, now=None]\u001b[A"
     ]
    },
    {
     "name": "stdout",
     "output_type": "stream",
     "text": [
      "  Frame at t_in_clip: 8.00s (Time for subtitle lookup: 8.00s)\n",
      "    Subtitle found: \"A B BATTLE DROID TIPS\" (SRT range: 6.64-8.19)\n",
      "      Drawing subtitle: 'A B BATTLE' at X=225.5, Y=1429, W=629, H=64, Color=(255, 255, 0, 255)\n",
      "      Drawing subtitle: 'DROID TIPS' at X=246.0, Y=1502, W=588, H=64, Color=(255, 255, 0, 255)\n",
      "  Frame at t_in_clip: 8.03s (Time for subtitle lookup: 8.03s)\n",
      "    Subtitle found: \"A B BATTLE DROID TIPS\" (SRT range: 6.64-8.19)\n",
      "      Drawing subtitle: 'A B BATTLE' at X=225.5, Y=1429, W=629, H=64, Color=(255, 255, 0, 255)\n",
      "      Drawing subtitle: 'DROID TIPS' at X=246.0, Y=1502, W=588, H=64, Color=(255, 255, 0, 255)\n"
     ]
    },
    {
     "name": "stderr",
     "output_type": "stream",
     "text": [
      "\n"
     ]
    },
    {
     "name": "stdout",
     "output_type": "stream",
     "text": [
      "  Frame at t_in_clip: 8.07s (Time for subtitle lookup: 8.07s)\n",
      "    Subtitle found: \"A B BATTLE DROID TIPS\" (SRT range: 6.64-8.19)\n",
      "      Drawing subtitle: 'A B BATTLE' at X=225.5, Y=1429, W=629, H=64, Color=(255, 255, 0, 255)\n",
      "      Drawing subtitle: 'DROID TIPS' at X=246.0, Y=1502, W=588, H=64, Color=(255, 255, 0, 255)\n"
     ]
    },
    {
     "name": "stderr",
     "output_type": "stream",
     "text": [
      "t:  36%|███▌      | 245/681 [00:31<00:57,  7.63it/s, now=None]\u001b[A"
     ]
    },
    {
     "name": "stdout",
     "output_type": "stream",
     "text": [
      "  Frame at t_in_clip: 9.00s (Time for subtitle lookup: 9.00s)\n",
      "    Subtitle found: \"THE SCALES AT KILOGRAMS\" (SRT range: 8.25-10.23)\n",
      "      Drawing subtitle: 'THE SCALES AT' at X=125.0, Y=1429, W=830, H=64, Color=(255, 255, 0, 255)\n",
      "      Drawing subtitle: 'KILOGRAMS' at X=238.0, Y=1502, W=604, H=64, Color=(255, 255, 0, 255)\n",
      "  Frame at t_in_clip: 9.03s (Time for subtitle lookup: 9.03s)\n",
      "    Subtitle found: \"THE SCALES AT KILOGRAMS\" (SRT range: 8.25-10.23)\n",
      "      Drawing subtitle: 'THE SCALES AT' at X=125.0, Y=1429, W=830, H=64, Color=(255, 255, 0, 255)\n",
      "      Drawing subtitle: 'KILOGRAMS' at X=238.0, Y=1502, W=604, H=64, Color=(255, 255, 0, 255)\n"
     ]
    },
    {
     "name": "stderr",
     "output_type": "stream",
     "text": [
      "\n"
     ]
    },
    {
     "name": "stdout",
     "output_type": "stream",
     "text": [
      "  Frame at t_in_clip: 9.07s (Time for subtitle lookup: 9.07s)\n",
      "    Subtitle found: \"THE SCALES AT KILOGRAMS\" (SRT range: 8.25-10.23)\n",
      "      Drawing subtitle: 'THE SCALES AT' at X=125.0, Y=1429, W=830, H=64, Color=(255, 255, 0, 255)\n",
      "      Drawing subtitle: 'KILOGRAMS' at X=238.0, Y=1502, W=604, H=64, Color=(255, 255, 0, 255)\n"
     ]
    },
    {
     "name": "stderr",
     "output_type": "stream",
     "text": [
      "t:  40%|████      | 275/681 [00:35<00:54,  7.41it/s, now=None]\u001b[A"
     ]
    },
    {
     "name": "stdout",
     "output_type": "stream",
     "text": [
      "  Frame at t_in_clip: 10.00s (Time for subtitle lookup: 10.00s)\n",
      "    Subtitle found: \"THE SCALES AT KILOGRAMS\" (SRT range: 8.25-10.23)\n",
      "      Drawing subtitle: 'THE SCALES AT' at X=125.0, Y=1429, W=830, H=64, Color=(255, 255, 0, 255)\n",
      "      Drawing subtitle: 'KILOGRAMS' at X=238.0, Y=1502, W=604, H=64, Color=(255, 255, 0, 255)\n",
      "  Frame at t_in_clip: 10.03s (Time for subtitle lookup: 10.03s)\n",
      "    Subtitle found: \"THE SCALES AT KILOGRAMS\" (SRT range: 8.25-10.23)\n",
      "      Drawing subtitle: 'THE SCALES AT' at X=125.0, Y=1429, W=830, H=64, Color=(255, 255, 0, 255)\n",
      "      Drawing subtitle: 'KILOGRAMS' at X=238.0, Y=1502, W=604, H=64, Color=(255, 255, 0, 255)\n"
     ]
    },
    {
     "name": "stderr",
     "output_type": "stream",
     "text": [
      "\n"
     ]
    },
    {
     "name": "stdout",
     "output_type": "stream",
     "text": [
      "  Frame at t_in_clip: 10.07s (Time for subtitle lookup: 10.07s)\n",
      "    Subtitle found: \"THE SCALES AT KILOGRAMS\" (SRT range: 8.25-10.23)\n",
      "      Drawing subtitle: 'THE SCALES AT' at X=125.0, Y=1429, W=830, H=64, Color=(255, 255, 0, 255)\n",
      "      Drawing subtitle: 'KILOGRAMS' at X=238.0, Y=1502, W=604, H=64, Color=(255, 255, 0, 255)\n"
     ]
    },
    {
     "name": "stderr",
     "output_type": "stream",
     "text": [
      "t:  45%|████▍     | 305/681 [00:39<00:47,  7.93it/s, now=None]\u001b[A"
     ]
    },
    {
     "name": "stdout",
     "output_type": "stream",
     "text": [
      "  Frame at t_in_clip: 11.00s (Time for subtitle lookup: 11.00s)\n",
      "    No subtitle found for actual transcript time 11.00s.\n",
      "  Frame at t_in_clip: 11.03s (Time for subtitle lookup: 11.03s)\n",
      "    No subtitle found for actual transcript time 11.03s.\n"
     ]
    },
    {
     "name": "stderr",
     "output_type": "stream",
     "text": [
      "\n"
     ]
    },
    {
     "name": "stdout",
     "output_type": "stream",
     "text": [
      "  Frame at t_in_clip: 11.07s (Time for subtitle lookup: 11.07s)\n",
      "    No subtitle found for actual transcript time 11.07s.\n"
     ]
    },
    {
     "name": "stderr",
     "output_type": "stream",
     "text": [
      "t:  49%|████▉     | 335/681 [00:43<00:45,  7.65it/s, now=None]\u001b[A"
     ]
    },
    {
     "name": "stdout",
     "output_type": "stream",
     "text": [
      "  Frame at t_in_clip: 12.00s (Time for subtitle lookup: 12.00s)\n",
      "    Subtitle found: \"THIS UNIT OF MEASUREMENT APPEARS\" (SRT range: 11.07-12.63)\n",
      "      Drawing subtitle: 'THIS UNIT OF' at X=192.0, Y=1356, W=696, H=64, Color=(255, 255, 0, 255)\n",
      "      Drawing subtitle: 'MEASUREMENT' at X=140.0, Y=1429, W=800, H=64, Color=(255, 255, 0, 255)\n",
      "      Drawing subtitle: 'APPEARS' at X=289.0, Y=1502, W=502, H=64, Color=(255, 255, 0, 255)\n",
      "  Frame at t_in_clip: 12.03s (Time for subtitle lookup: 12.03s)\n",
      "    Subtitle found: \"THIS UNIT OF MEASUREMENT APPEARS\" (SRT range: 11.07-12.63)\n",
      "      Drawing subtitle: 'THIS UNIT OF' at X=192.0, Y=1356, W=696, H=64, Color=(255, 255, 0, 255)\n",
      "      Drawing subtitle: 'MEASUREMENT' at X=140.0, Y=1429, W=800, H=64, Color=(255, 255, 0, 255)\n",
      "      Drawing subtitle: 'APPEARS' at X=289.0, Y=1502, W=502, H=64, Color=(255, 255, 0, 255)\n"
     ]
    },
    {
     "name": "stderr",
     "output_type": "stream",
     "text": [
      "\n"
     ]
    },
    {
     "name": "stdout",
     "output_type": "stream",
     "text": [
      "  Frame at t_in_clip: 12.07s (Time for subtitle lookup: 12.07s)\n",
      "    Subtitle found: \"THIS UNIT OF MEASUREMENT APPEARS\" (SRT range: 11.07-12.63)\n",
      "      Drawing subtitle: 'THIS UNIT OF' at X=192.0, Y=1356, W=696, H=64, Color=(255, 255, 0, 255)\n",
      "      Drawing subtitle: 'MEASUREMENT' at X=140.0, Y=1429, W=800, H=64, Color=(255, 255, 0, 255)\n",
      "      Drawing subtitle: 'APPEARS' at X=289.0, Y=1502, W=502, H=64, Color=(255, 255, 0, 255)\n"
     ]
    },
    {
     "name": "stderr",
     "output_type": "stream",
     "text": [
      "t:  54%|█████▎    | 365/681 [00:47<00:41,  7.64it/s, now=None]\u001b[A"
     ]
    },
    {
     "name": "stdout",
     "output_type": "stream",
     "text": [
      "  Frame at t_in_clip: 13.00s (Time for subtitle lookup: 13.00s)\n",
      "    Subtitle found: \"THROUGHOUT THE SAGA FROM THE\" (SRT range: 12.67-14.03)\n",
      "      Drawing subtitle: 'THROUGHOUT THE' at X=54.0, Y=1429, W=972, H=64, Color=(255, 255, 0, 255)\n",
      "      Drawing subtitle: 'SAGA FROM THE' at X=111.0, Y=1502, W=858, H=64, Color=(255, 255, 0, 255)\n",
      "  Frame at t_in_clip: 13.03s (Time for subtitle lookup: 13.03s)\n",
      "    Subtitle found: \"THROUGHOUT THE SAGA FROM THE\" (SRT range: 12.67-14.03)\n",
      "      Drawing subtitle: 'THROUGHOUT THE' at X=54.0, Y=1429, W=972, H=64, Color=(255, 255, 0, 255)\n",
      "      Drawing subtitle: 'SAGA FROM THE' at X=111.0, Y=1502, W=858, H=64, Color=(255, 255, 0, 255)\n"
     ]
    },
    {
     "name": "stderr",
     "output_type": "stream",
     "text": []
    },
    {
     "name": "stdout",
     "output_type": "stream",
     "text": [
      "  Frame at t_in_clip: 13.07s (Time for subtitle lookup: 13.07s)\n",
      "    Subtitle found: \"THROUGHOUT THE SAGA FROM THE\" (SRT range: 12.67-14.03)\n",
      "      Drawing subtitle: 'THROUGHOUT THE' at X=54.0, Y=1429, W=972, H=64, Color=(255, 255, 0, 255)\n",
      "      Drawing subtitle: 'SAGA FROM THE' at X=111.0, Y=1502, W=858, H=64, Color=(255, 255, 0, 255)\n"
     ]
    },
    {
     "name": "stderr",
     "output_type": "stream",
     "text": [
      "\n"
     ]
    },
    {
     "name": "stdout",
     "output_type": "stream",
     "text": [
      "  Frame at t_in_clip: 14.00s (Time for subtitle lookup: 14.00s)\n",
      "    Subtitle found: \"THROUGHOUT THE SAGA FROM THE\" (SRT range: 12.67-14.03)\n",
      "      Drawing subtitle: 'THROUGHOUT THE' at X=54.0, Y=1429, W=972, H=64, Color=(255, 255, 0, 255)\n",
      "      Drawing subtitle: 'SAGA FROM THE' at X=111.0, Y=1502, W=858, H=64, Color=(255, 255, 0, 255)\n",
      "  Frame at t_in_clip: 14.03s (Time for subtitle lookup: 14.03s)\n",
      "    No subtitle found for actual transcript time 14.03s.\n"
     ]
    },
    {
     "name": "stderr",
     "output_type": "stream",
     "text": [
      "t:  62%|██████▏   | 423/681 [00:55<00:35,  7.36it/s, now=None]\u001b[A"
     ]
    },
    {
     "name": "stdout",
     "output_type": "stream",
     "text": [
      "  Frame at t_in_clip: 14.07s (Time for subtitle lookup: 14.07s)\n",
      "    No subtitle found for actual transcript time 14.07s.\n"
     ]
    },
    {
     "name": "stderr",
     "output_type": "stream",
     "text": [
      "\n",
      "t:  67%|██████▋   | 453/681 [00:59<00:30,  7.53it/s, now=None]"
     ]
    },
    {
     "name": "stdout",
     "output_type": "stream",
     "text": [
      "  Frame at t_in_clip: 15.00s (Time for subtitle lookup: 15.00s)\n",
      "    Subtitle found: \"HIGH REPUBLIC ERA TO THE\" (SRT range: 14.07-15.29)\n",
      "      Drawing subtitle: 'HIGH REPUBLIC' at X=142.0, Y=1429, W=796, H=64, Color=(255, 255, 0, 255)\n",
      "      Drawing subtitle: 'ERA TO THE' at X=217.0, Y=1502, W=646, H=64, Color=(255, 255, 0, 255)\n",
      "  Frame at t_in_clip: 15.03s (Time for subtitle lookup: 15.03s)\n",
      "    Subtitle found: \"HIGH REPUBLIC ERA TO THE\" (SRT range: 14.07-15.29)\n",
      "      Drawing subtitle: 'HIGH REPUBLIC' at X=142.0, Y=1429, W=796, H=64, Color=(255, 255, 0, 255)\n",
      "      Drawing subtitle: 'ERA TO THE' at X=217.0, Y=1502, W=646, H=64, Color=(255, 255, 0, 255)\n"
     ]
    },
    {
     "name": "stderr",
     "output_type": "stream",
     "text": [
      "\u001b[A"
     ]
    },
    {
     "name": "stdout",
     "output_type": "stream",
     "text": [
      "  Frame at t_in_clip: 15.07s (Time for subtitle lookup: 15.07s)\n",
      "    Subtitle found: \"HIGH REPUBLIC ERA TO THE\" (SRT range: 14.07-15.29)\n",
      "      Drawing subtitle: 'HIGH REPUBLIC' at X=142.0, Y=1429, W=796, H=64, Color=(255, 255, 0, 255)\n",
      "      Drawing subtitle: 'ERA TO THE' at X=217.0, Y=1502, W=646, H=64, Color=(255, 255, 0, 255)\n"
     ]
    },
    {
     "name": "stderr",
     "output_type": "stream",
     "text": []
    },
    {
     "name": "stdout",
     "output_type": "stream",
     "text": [
      "  Frame at t_in_clip: 16.00s (Time for subtitle lookup: 16.00s)\n",
      "    Subtitle found: \"SEQUEL TRILOGY AND BEYOND\" (SRT range: 15.35-16.91)\n",
      "      Drawing subtitle: 'SEQUEL TRILOGY' at X=91.5, Y=1429, W=897, H=64, Color=(255, 255, 0, 255)\n",
      "      Drawing subtitle: 'AND BEYOND' at X=200.0, Y=1502, W=680, H=64, Color=(255, 255, 0, 255)\n",
      "  Frame at t_in_clip: 16.03s (Time for subtitle lookup: 16.03s)\n",
      "    Subtitle found: \"SEQUEL TRILOGY AND BEYOND\" (SRT range: 15.35-16.91)\n",
      "      Drawing subtitle: 'SEQUEL TRILOGY' at X=91.5, Y=1429, W=897, H=64, Color=(255, 255, 0, 255)\n",
      "      Drawing subtitle: 'AND BEYOND' at X=200.0, Y=1502, W=680, H=64, Color=(255, 255, 0, 255)\n"
     ]
    },
    {
     "name": "stderr",
     "output_type": "stream",
     "text": [
      "\n"
     ]
    },
    {
     "name": "stdout",
     "output_type": "stream",
     "text": [
      "  Frame at t_in_clip: 16.07s (Time for subtitle lookup: 16.07s)\n",
      "    Subtitle found: \"SEQUEL TRILOGY AND BEYOND\" (SRT range: 15.35-16.91)\n",
      "      Drawing subtitle: 'SEQUEL TRILOGY' at X=91.5, Y=1429, W=897, H=64, Color=(255, 255, 0, 255)\n",
      "      Drawing subtitle: 'AND BEYOND' at X=200.0, Y=1502, W=680, H=64, Color=(255, 255, 0, 255)\n"
     ]
    },
    {
     "name": "stderr",
     "output_type": "stream",
     "text": [
      "t:  71%|███████   | 485/681 [01:03<00:28,  6.98it/s, now=None]\u001b[A"
     ]
    },
    {
     "name": "stdout",
     "output_type": "stream",
     "text": [
      "  Frame at t_in_clip: 17.00s (Time for subtitle lookup: 17.00s)\n",
      "    No subtitle found for actual transcript time 17.00s.\n",
      "  Frame at t_in_clip: 17.03s (Time for subtitle lookup: 17.03s)\n",
      "    No subtitle found for actual transcript time 17.03s.\n"
     ]
    },
    {
     "name": "stderr",
     "output_type": "stream",
     "text": [
      "\n"
     ]
    },
    {
     "name": "stdout",
     "output_type": "stream",
     "text": [
      "  Frame at t_in_clip: 17.07s (Time for subtitle lookup: 17.07s)\n",
      "    No subtitle found for actual transcript time 17.07s.\n"
     ]
    },
    {
     "name": "stderr",
     "output_type": "stream",
     "text": [
      "t:  76%|███████▌  | 515/681 [01:07<00:22,  7.40it/s, now=None]\u001b[A"
     ]
    },
    {
     "name": "stdout",
     "output_type": "stream",
     "text": [
      "  Frame at t_in_clip: 18.00s (Time for subtitle lookup: 18.00s)\n",
      "    Subtitle found: \"SHOWING UP IN VARIOUS BOOKS\" (SRT range: 17.30-18.56)\n",
      "      Drawing subtitle: 'SHOWING UP IN' at X=141.0, Y=1429, W=798, H=64, Color=(255, 255, 0, 255)\n",
      "      Drawing subtitle: 'VARIOUS BOOKS' at X=116.5, Y=1502, W=847, H=64, Color=(255, 255, 0, 255)\n",
      "  Frame at t_in_clip: 18.03s (Time for subtitle lookup: 18.03s)\n"
     ]
    },
    {
     "name": "stderr",
     "output_type": "stream",
     "text": []
    },
    {
     "name": "stdout",
     "output_type": "stream",
     "text": [
      "    Subtitle found: \"SHOWING UP IN VARIOUS BOOKS\" (SRT range: 17.30-18.56)\n",
      "      Drawing subtitle: 'SHOWING UP IN' at X=141.0, Y=1429, W=798, H=64, Color=(255, 255, 0, 255)\n",
      "      Drawing subtitle: 'VARIOUS BOOKS' at X=116.5, Y=1502, W=847, H=64, Color=(255, 255, 0, 255)\n",
      "  Frame at t_in_clip: 18.07s (Time for subtitle lookup: 18.07s)\n",
      "    Subtitle found: \"SHOWING UP IN VARIOUS BOOKS\" (SRT range: 17.30-18.56)\n",
      "      Drawing subtitle: 'SHOWING UP IN' at X=141.0, Y=1429, W=798, H=64, Color=(255, 255, 0, 255)\n"
     ]
    },
    {
     "name": "stderr",
     "output_type": "stream",
     "text": []
    },
    {
     "name": "stdout",
     "output_type": "stream",
     "text": [
      "      Drawing subtitle: 'VARIOUS BOOKS' at X=116.5, Y=1502, W=847, H=64, Color=(255, 255, 0, 255)\n"
     ]
    },
    {
     "name": "stderr",
     "output_type": "stream",
     "text": []
    },
    {
     "name": "stdout",
     "output_type": "stream",
     "text": [
      "  Frame at t_in_clip: 19.00s (Time for subtitle lookup: 19.00s)\n",
      "    Subtitle found: \"COMICS\" (SRT range: 18.88-19.30)\n",
      "      Drawing subtitle: 'COMICS' at X=352.0, Y=1502, W=376, H=64, Color=(255, 255, 0, 255)\n",
      "  Frame at t_in_clip: 19.03s (Time for subtitle lookup: 19.03s)\n",
      "    Subtitle found: \"COMICS\" (SRT range: 18.88-19.30)\n",
      "      Drawing subtitle: 'COMICS' at X=352.0, Y=1502, W=376, H=64, Color=(255, 255, 0, 255)\n"
     ]
    },
    {
     "name": "stderr",
     "output_type": "stream",
     "text": [
      "\n"
     ]
    },
    {
     "name": "stdout",
     "output_type": "stream",
     "text": [
      "  Frame at t_in_clip: 19.07s (Time for subtitle lookup: 19.07s)\n",
      "    Subtitle found: \"COMICS\" (SRT range: 18.88-19.30)\n",
      "      Drawing subtitle: 'COMICS' at X=352.0, Y=1502, W=376, H=64, Color=(255, 255, 0, 255)\n"
     ]
    },
    {
     "name": "stderr",
     "output_type": "stream",
     "text": [
      "t:  84%|████████▍ | 575/681 [01:16<00:13,  7.60it/s, now=None]\u001b[A\n"
     ]
    },
    {
     "name": "stdout",
     "output_type": "stream",
     "text": [
      "  Frame at t_in_clip: 20.00s (Time for subtitle lookup: 20.00s)\n",
      "    Subtitle found: \"AND EVEN EPISODES OF\" (SRT range: 19.60-20.58)\n",
      "      Drawing subtitle: 'AND EVEN' at X=270.0, Y=1429, W=540, H=64, Color=(255, 255, 0, 255)\n",
      "      Drawing subtitle: 'EPISODES OF' at X=194.0, Y=1502, W=692, H=64, Color=(255, 255, 0, 255)\n",
      "  Frame at t_in_clip: 20.03s (Time for subtitle lookup: 20.03s)\n",
      "    Subtitle found: \"AND EVEN EPISODES OF\" (SRT range: 19.60-20.58)\n",
      "      Drawing subtitle: 'AND EVEN' at X=270.0, Y=1429, W=540, H=64, Color=(255, 255, 0, 255)\n",
      "      Drawing subtitle: 'EPISODES OF' at X=194.0, Y=1502, W=692, H=64, Color=(255, 255, 0, 255)\n"
     ]
    },
    {
     "name": "stderr",
     "output_type": "stream",
     "text": [
      "t:  89%|████████▊ | 603/681 [01:20<00:10,  7.44it/s, now=None]\u001b[A"
     ]
    },
    {
     "name": "stdout",
     "output_type": "stream",
     "text": [
      "  Frame at t_in_clip: 20.07s (Time for subtitle lookup: 20.07s)\n",
      "    Subtitle found: \"AND EVEN EPISODES OF\" (SRT range: 19.60-20.58)\n",
      "      Drawing subtitle: 'AND EVEN' at X=270.0, Y=1429, W=540, H=64, Color=(255, 255, 0, 255)\n",
      "      Drawing subtitle: 'EPISODES OF' at X=194.0, Y=1502, W=692, H=64, Color=(255, 255, 0, 255)\n"
     ]
    },
    {
     "name": "stderr",
     "output_type": "stream",
     "text": [
      "\n"
     ]
    },
    {
     "name": "stdout",
     "output_type": "stream",
     "text": [
      "  Frame at t_in_clip: 21.00s (Time for subtitle lookup: 21.00s)\n",
      "    No subtitle found for actual transcript time 21.00s.\n",
      "  Frame at t_in_clip: 21.03s (Time for subtitle lookup: 21.03s)\n",
      "    No subtitle found for actual transcript time 21.03s.\n"
     ]
    },
    {
     "name": "stderr",
     "output_type": "stream",
     "text": [
      "t:  93%|█████████▎| 633/681 [01:24<00:06,  7.56it/s, now=None]\u001b[A"
     ]
    },
    {
     "name": "stdout",
     "output_type": "stream",
     "text": [
      "  Frame at t_in_clip: 21.07s (Time for subtitle lookup: 21.07s)\n",
      "    No subtitle found for actual transcript time 21.07s.\n"
     ]
    },
    {
     "name": "stderr",
     "output_type": "stream",
     "text": [
      "\n"
     ]
    },
    {
     "name": "stdout",
     "output_type": "stream",
     "text": [
      "  Frame at t_in_clip: 22.00s (Time for subtitle lookup: 22.00s)\n",
      "    No subtitle found for actual transcript time 22.00s.\n",
      "  Frame at t_in_clip: 22.03s (Time for subtitle lookup: 22.03s)\n",
      "    No subtitle found for actual transcript time 22.03s.\n"
     ]
    },
    {
     "name": "stderr",
     "output_type": "stream",
     "text": [
      "t:  97%|█████████▋| 663/681 [01:28<00:02,  7.22it/s, now=None]\u001b[A"
     ]
    },
    {
     "name": "stdout",
     "output_type": "stream",
     "text": [
      "  Frame at t_in_clip: 22.07s (Time for subtitle lookup: 22.07s)\n",
      "    No subtitle found for actual transcript time 22.07s.\n"
     ]
    },
    {
     "name": "stderr",
     "output_type": "stream",
     "text": [
      "t:  32%|███▏      | 566/1769 [4:15:14<02:59,  6.70it/s, now=None]"
     ]
    },
    {
     "name": "stdout",
     "output_type": "stream",
     "text": [
      "Moviepy - Done !\n",
      "Moviepy - video ready ../data/generated_shorts\\Science stubs\\Kilogram_short.mp4\n",
      "Successfully created short for 'Kilogram'.\n",
      "Cleaned temporary image directory: ../data/temp_images\n",
      "Short creation and logging complete for 'Kilogram'.\n",
      "\n",
      "'What Mamma Doesn't Know' has already had a short created. Skipping.\n",
      "\n",
      "--- All short creations complete. ---\n",
      "Cleaned temporary image directory: ../data/temp_images\n"
     ]
    }
   ],
   "source": [
    "### VIDEO GENERATION SCRIPT WITH TRANSCRIPT (WITH DEBUGGING) ###\n",
    "import os\n",
    "import re\n",
    "import random\n",
    "import requests\n",
    "from moviepy.editor import VideoFileClip, AudioFileClip, ImageClip, CompositeVideoClip\n",
    "from PIL import Image, ImageDraw, ImageFont\n",
    "import numpy as np\n",
    "import glob\n",
    "from urllib.parse import urlparse\n",
    "\n",
    "# --- Configuration ---\n",
    "\n",
    "# Main Minecraft parkour footage path\n",
    "MINECRAFT_FOOTAGE_PATH = \"../data/minecraft_footage/minecraft01.mp4\"\n",
    "\n",
    "# Directory where AI generated audio files are stored\n",
    "GENERATED_AUDIO_DIRECTORY = \"../data/generated_audio\"\n",
    "\n",
    "# Directory where AI generated article text files are stored (assuming same structure as audio)\n",
    "GENERATED_ARTICLES_DIRECTORY = \"../data/generated_articles\"\n",
    "\n",
    "# Directory where the generated SRT transcripts are saved (new)\n",
    "GENERATED_TRANSCRIPT_DIRECTORY = \"../data/generated_transcripts\"\n",
    "\n",
    "# Directory where the final YouTube Shorts will be saved\n",
    "GENERATED_SHORTS_DIRECTORY = \"../data/generated_shorts\"\n",
    "\n",
    "# Temporary directory for downloaded images\n",
    "TEMP_IMAGE_DIRECTORY = \"../data/temp_images\"\n",
    "\n",
    "# Tracking file for already created shorts\n",
    "TRACKING_SHORTS_FILE = \"../data/generated_shorts.log\"\n",
    "\n",
    "# Target resolution for YouTube Shorts (e.g., 1080x1920 for 9:16 aspect ratio)\n",
    "TARGET_WIDTH = 1080\n",
    "TARGET_HEIGHT = 1920 # For 9:16 aspect ratio\n",
    "\n",
    "# --- Helper Functions for Tracking ---\n",
    "\n",
    "# 1. Function to get previously processed shorts titles\n",
    "def get_processed_shorts_titles(tracking_file):\n",
    "    \"\"\"Reads the shorts tracking file and returns a set of titles that have already had shorts created.\"\"\"\n",
    "    if not os.path.exists(tracking_file):\n",
    "        return set()\n",
    "    with open(tracking_file, 'r', encoding='utf-8') as f:\n",
    "        return set(line.strip() for line in f)\n",
    "\n",
    "# 2. Function to log a newly processed short title\n",
    "def log_processed_short_title(title, tracking_file):\n",
    "    \"\"\"Appends a new title to the shorts tracking file.\"\"\"\n",
    "    with open(tracking_file, 'a', encoding='utf-8') as f:\n",
    "        f.write(title + '\\n')\n",
    "\n",
    "# --- Image Handling Functions ---\n",
    "\n",
    "# 1. Function to extract image URLs from the article content\n",
    "def extract_image_urls_from_article(article_content):\n",
    "    \"\"\"Extracts image URLs from the 'Images:' line in the article content.\"\"\"\n",
    "    urls = []\n",
    "    match = re.search(r\"Images:\\s*(.*)\", article_content, re.IGNORECASE)\n",
    "    if match:\n",
    "        url_string = match.group(1).strip()\n",
    "        potential_urls = url_string.split()\n",
    "        for url in potential_urls:\n",
    "            if url.startswith(\"http://\") or url.startswith(\"https://\"):\n",
    "                urls.append(url)\n",
    "    return urls\n",
    "\n",
    "# 2. Function to download an image from a URL\n",
    "def download_image(url, destination_folder):\n",
    "    \"\"\"Downloads an image from a URL to a specified folder and returns its local path.\"\"\"\n",
    "    os.makedirs(destination_folder, exist_ok=True)\n",
    "    try:\n",
    "        response = requests.get(url, stream=True)\n",
    "        response.raise_for_status()\n",
    "\n",
    "        parsed_url = urlparse(url)\n",
    "        filename = os.path.basename(parsed_url.path)\n",
    "        if not filename:\n",
    "            filename = \"downloaded_image.png\"\n",
    "\n",
    "        base, ext = os.path.splitext(filename)\n",
    "        if ext.lower() == '.svg':\n",
    "            print(f\"Skipping SVG image {url} as direct SVG support is not enabled.\")\n",
    "            return None # Skip SVG for now\n",
    "\n",
    "        local_filepath = os.path.join(destination_folder, f\"{base}_{random.randint(1000,9999)}{ext}\")\n",
    "\n",
    "        with open(local_filepath, 'wb') as f:\n",
    "            for chunk in response.iter_content(chunk_size=8192):\n",
    "                f.write(chunk)\n",
    "        print(f\"Downloaded image from {url} to {local_filepath}\")\n",
    "        return local_filepath\n",
    "    except requests.exceptions.RequestException as e:\n",
    "        print(f\"Error downloading image from {url}: {e}\")\n",
    "        return None\n",
    "    except Exception as e:\n",
    "        print(f\"An unexpected error occurred during image download from {url}: {e}\")\n",
    "        return None\n",
    "    \n",
    "# 3. Function to create a temporary image from a URL\n",
    "def clean_temp_images(directory):\n",
    "    \"\"\"Removes all files from the temporary image directory.\"\"\"\n",
    "    if os.path.exists(directory):\n",
    "        for file in os.listdir(directory):\n",
    "            file_path = os.path.join(directory, file)\n",
    "            try:\n",
    "                if os.path.isfile(file_path):\n",
    "                    os.unlink(file_path)\n",
    "            except Exception as e:\n",
    "                print(f\"Error deleting temporary file {file_path}: {e}\")\n",
    "        print(f\"Cleaned temporary image directory: {directory}\")\n",
    "\n",
    "# --- Subtitle Handling Functions ---\n",
    "\n",
    "def parse_srt(srt_filepath):\n",
    "    \"\"\"Parses an SRT file and returns a list of dictionaries, each containing\n",
    "    'start', 'end', and 'text' for a subtitle entry.\"\"\"\n",
    "    \n",
    "    subtitles = []\n",
    "    current_block = []\n",
    "    \n",
    "    if not os.path.exists(srt_filepath):\n",
    "        print(f\"SRT file not found: {srt_filepath}\")\n",
    "        return subtitles\n",
    "\n",
    "    with open(srt_filepath, 'r', encoding='utf-8') as f:\n",
    "        for line in f:\n",
    "            line = line.strip()\n",
    "            if not line: # Empty line indicates end of a subtitle block\n",
    "                if current_block:\n",
    "                    try:\n",
    "                        sequence_number = int(current_block[0])\n",
    "                        time_str = current_block[1]\n",
    "                        start_time_str, end_time_str = time_str.split(' --> ')\n",
    "                        \n",
    "                        def srt_time_to_seconds(time_str_val):\n",
    "                            parts = time_str_val.replace(',', '.').split(':')\n",
    "                            if len(parts) == 3:\n",
    "                                h, m, s = float(parts[0]), float(parts[1]), float(parts[2])\n",
    "                                return h * 3600 + m * 60 + s\n",
    "                            return 0\n",
    "\n",
    "                        start_seconds = srt_time_to_seconds(start_time_str)\n",
    "                        end_seconds = srt_time_to_seconds(end_time_str)\n",
    "                        text = \" \".join(current_block[2:])\n",
    "                        \n",
    "                        subtitles.append({\n",
    "                            'start': start_seconds,\n",
    "                            'end': end_seconds,\n",
    "                            'text': text\n",
    "                        })\n",
    "                    except (ValueError, IndexError) as e:\n",
    "                        print(f\"Warning: Could not parse SRT block: {current_block}. Error: {e}\")\n",
    "                    current_block = []\n",
    "            else:\n",
    "                current_block.append(line)\n",
    "        \n",
    "        if current_block:\n",
    "            try:\n",
    "                sequence_number = int(current_block[0])\n",
    "                time_str = current_block[1]\n",
    "                start_time_str, end_time_str = time_str.split(' --> ')\n",
    "                \n",
    "                def srt_time_to_seconds(time_str_val):\n",
    "                    parts = time_str_val.replace(',', '.').split(':')\n",
    "                    if len(parts) == 3:\n",
    "                        h, m, s = float(parts[0]), float(parts[1]), float(parts[2])\n",
    "                        return h * 3600 + m * 60 + s\n",
    "                    return 0\n",
    "\n",
    "                start_seconds = srt_time_to_seconds(start_time_str)\n",
    "                end_seconds = srt_time_to_seconds(end_time_str)\n",
    "                text = \" \".join(current_block[2:])\n",
    "                \n",
    "                subtitles.append({\n",
    "                    'start': start_seconds,\n",
    "                    'end': end_seconds,\n",
    "                    'text': text\n",
    "                })\n",
    "            except (ValueError, IndexError) as e:\n",
    "                print(f\"Warning: Could not parse final SRT block: {current_block}. Error: {e}\")\n",
    "    \n",
    "    return subtitles\n",
    "\n",
    "# --- Video Processing Function ---\n",
    "\n",
    "# 1. Function to wrap text into multiple lines dynamically based on width\n",
    "def dynamic_wrap_text(text, font, max_width):\n",
    "    \"\"\"\n",
    "    Dynamically wraps text into multiple lines to fit within a max_width,\n",
    "    returning a list of lines.\n",
    "    \"\"\"\n",
    "    lines = []\n",
    "    if not text:\n",
    "        return lines\n",
    "\n",
    "    words = text.split()\n",
    "    current_line = []\n",
    "    \n",
    "    dummy_draw = ImageDraw.Draw(Image.new(\"RGB\", (1,1)))\n",
    "\n",
    "    for word in words:\n",
    "        test_line = \" \".join(current_line + [word])\n",
    "        \n",
    "        try:\n",
    "            bbox = dummy_draw.textbbox((0,0), test_line, font=font)\n",
    "            test_line_width = bbox[2] - bbox[0]\n",
    "        except AttributeError:\n",
    "            test_line_width, _ = dummy_draw.textsize(test_line, font=font)\n",
    "\n",
    "        if test_line_width <= max_width:\n",
    "            current_line.append(word)\n",
    "        else:\n",
    "            if not current_line:\n",
    "                lines.append(word)\n",
    "                current_line = []\n",
    "            else:\n",
    "                lines.append(\" \".join(current_line))\n",
    "                current_line = [word]\n",
    "    \n",
    "    if current_line:\n",
    "        lines.append(\" \".join(current_line))\n",
    "\n",
    "    return lines\n",
    "\n",
    "# 2. Function to create a YouTube Short from Minecraft footage and AI audio\n",
    "def create_youtube_short(\n",
    "    audio_filepath,\n",
    "    minecraft_footage_path,\n",
    "    output_base_dir,\n",
    "    article_title,\n",
    "    category_folder,\n",
    "    image_urls,\n",
    "    srt_filepath,\n",
    "    target_width=1080,\n",
    "    target_height=1920\n",
    "):\n",
    "    \"\"\"\n",
    "    Creates a YouTube Short by combining a random segment of Minecraft footage with AI audio,\n",
    "    cropping it to 9:16 aspect ratio, and saving it. Includes title text, image overlay, and subtitles.\n",
    "    \"\"\"\n",
    "    clean_temp_images(TEMP_IMAGE_DIRECTORY)\n",
    "\n",
    "    subtitles = parse_srt(srt_filepath)\n",
    "    print(f\"Loaded {len(subtitles)} subtitle entries from: {srt_filepath}\")\n",
    "\n",
    "    try:\n",
    "        audio_clip = AudioFileClip(audio_filepath)\n",
    "        audio_duration = audio_clip.duration\n",
    "        \n",
    "        print(f\"Loaded audio: {os.path.basename(audio_filepath)} (Duration: {audio_duration:.2f}s)\")\n",
    "\n",
    "        main_video_clip = VideoFileClip(minecraft_footage_path)\n",
    "        full_video_duration = main_video_clip.duration\n",
    "        \n",
    "        print(f\"Loaded main video: {os.path.basename(minecraft_footage_path)} (Duration: {full_video_duration:.2f}s)\")\n",
    "\n",
    "        max_start_time_based_on_80_percent = full_video_duration * 0.8\n",
    "        max_possible_start_time_for_audio_fit = full_video_duration - audio_duration\n",
    "\n",
    "        actual_max_start_time = min(max_start_time_based_on_80_percent, max_possible_start_time_for_audio_fit)\n",
    "\n",
    "        if actual_max_start_time < 0:\n",
    "            print(f\"Warning: Audio duration ({audio_duration:.2f}s) is longer than main video ({full_video_duration:.2f}s). Skipping {article_title}.\")\n",
    "            main_video_clip.close()\n",
    "            audio_clip.close()\n",
    "            return False\n",
    "            \n",
    "        if actual_max_start_time == 0 and full_video_duration > audio_duration:\n",
    "            random_start_time = 0\n",
    "            print(f\"Video is short, starting at 0s.\")\n",
    "        else:\n",
    "            random_start_time = random.uniform(0, actual_max_start_time)\n",
    "\n",
    "        end_time = random_start_time + audio_duration\n",
    "        \n",
    "        if end_time > full_video_duration + 0.01:\n",
    "             end_time = full_video_duration\n",
    "             if (end_time - random_start_time) < audio_duration * 0.95:\n",
    "                 print(f\"Warning: Adjusted video end time. Clip might be slightly shorter than audio for {article_title}.\")\n",
    "                 \n",
    "        print(f\"Selected video segment: {random_start_time:.2f}s to {end_time:.2f}s (Clip duration: {(end_time - random_start_time):.2f}s)\")\n",
    "\n",
    "        video_clip = main_video_clip.subclip(random_start_time, end_time)\n",
    "        video_clip = video_clip.set_audio(None)\n",
    "        video_clip = video_clip.set_audio(audio_clip)\n",
    "\n",
    "        original_width, original_height = video_clip.size\n",
    "        target_aspect_ratio = target_width / target_height \n",
    "        original_aspect_ratio = original_width / original_height\n",
    "\n",
    "        if original_aspect_ratio > target_aspect_ratio:\n",
    "            new_width = int(original_height * target_aspect_ratio)\n",
    "            x_center = original_width / 2\n",
    "            x1 = int(x_center - new_width / 2)\n",
    "            y1 = 0\n",
    "            cropped_clip = video_clip.crop(x1=x1, y1=y1, width=new_width, height=original_height)\n",
    "            print(f\"Cropping width from {original_width} to {new_width} to fit 9:16.\")\n",
    "        else:\n",
    "            new_height = int(original_width / target_aspect_ratio)\n",
    "            y_center = original_height / 2\n",
    "            y1 = int(y_center - new_height / 2)\n",
    "            x1 = 0\n",
    "            cropped_clip = video_clip.crop(x1=x1, y1=y1, width=original_width, height=new_height)\n",
    "            print(f\"Cropping height from {original_height} to {new_height} to fit 9:16.\")\n",
    "\n",
    "        final_clip = cropped_clip.resize(newsize=(target_width, target_height))\n",
    "        print(f\"Resized to final resolution: {final_clip.size[0]}x{final_clip.size[1]}\")\n",
    "\n",
    "        # --- Image Overlay Logic ---\n",
    "        downloaded_image_paths = []\n",
    "        if image_urls:\n",
    "            print(f\"Attempting to download {len(image_urls)} images for '{article_title}'...\")\n",
    "            for url in image_urls:\n",
    "                path = download_image(url, TEMP_IMAGE_DIRECTORY)\n",
    "                if path:\n",
    "                    downloaded_image_paths.append(path)\n",
    "            \n",
    "            if downloaded_image_paths:\n",
    "                image_duration_per_clip = audio_duration / len(downloaded_image_paths)\n",
    "                print(f\"Images will switch every {image_duration_per_clip:.2f} seconds.\")\n",
    "            else:\n",
    "                print(\"No images successfully downloaded for overlay.\")\n",
    "        else:\n",
    "            print(\"No image URLs found for overlay.\")\n",
    "\n",
    "        def draw_elements_on_frame(get_frame, t_in_clip):\n",
    "            image_array = get_frame(t_in_clip)\n",
    "            # Convert to RGBA for consistent handling of potential transparent overlays\n",
    "            img_pil = Image.fromarray(image_array.astype('uint8'), 'RGB').convert(\"RGBA\")\n",
    "            draw = ImageDraw.Draw(img_pil)\n",
    "\n",
    "            t_actual_transcript = t_in_clip\n",
    "            \n",
    "            if int(t_in_clip * 10) % 10 == 0:\n",
    "                print(f\"  Frame at t_in_clip: {t_in_clip:.2f}s (Time for subtitle lookup: {t_actual_transcript:.2f}s)\")\n",
    "\n",
    "            # --- TITLE DRAWING LOGIC ---\n",
    "            font_path = \"../data/fonts/sf-distant-galaxy-font/SfDistantGalaxy-0l3d.ttf\"\n",
    "            text_color = (255, 255, 255, 255) # White, fully opaque RGBA\n",
    "\n",
    "            dynamic_fontsize = int(target_height * 0.055)\n",
    "            try:\n",
    "                title_font = ImageFont.truetype(font_path, dynamic_fontsize)\n",
    "            except IOError:\n",
    "                print(f\"Warning: Could not load font '{font_path}' for title. Falling back to default.\")\n",
    "                title_font = ImageFont.load_default()\n",
    "\n",
    "            max_title_line_width = int(target_width * 0.85)\n",
    "            title_lines = dynamic_wrap_text(article_title, title_font, max_title_line_width)\n",
    "\n",
    "            current_y_for_text = target_height * 0.02\n",
    "            total_title_height = 0\n",
    "\n",
    "            for line in title_lines:\n",
    "                try:\n",
    "                    bbox = draw.textbbox((0,0), line, font=title_font)\n",
    "                    line_width = bbox[2] - bbox[0]\n",
    "                    line_height = bbox[3] - bbox[1]\n",
    "                except AttributeError:\n",
    "                    line_width, line_height = draw.textsize(line, font=title_font)\n",
    "\n",
    "                x_pos = (img_pil.width - line_width) / 2\n",
    "                \n",
    "                draw.text((x_pos, current_y_for_text), line, font=title_font, fill=text_color)\n",
    "                \n",
    "                current_y_for_text += line_height + int(target_height * 0.005)\n",
    "                total_title_height += line_height + int(target_height * 0.005)\n",
    "\n",
    "            # --- IMAGE OVERLAY LOGIC ---\n",
    "            image_bottom_y = current_y_for_text\n",
    "            \n",
    "            if downloaded_image_paths:\n",
    "                image_index = int(t_in_clip / image_duration_per_clip) % len(downloaded_image_paths)\n",
    "                current_image_path = downloaded_image_paths[image_index]\n",
    "\n",
    "                try:\n",
    "                    img_pil_overlay = Image.open(current_image_path).convert(\"RGBA\")\n",
    "\n",
    "                    target_image_max_dim = int(target_width * 0.96)\n",
    "\n",
    "                    orig_img_w, orig_img_h = img_pil_overlay.size\n",
    "\n",
    "                    scale_w = target_image_max_dim / orig_img_w\n",
    "                    scale_h = target_image_max_dim / orig_img_h\n",
    "                    scale = min(scale_w, scale_h)\n",
    "\n",
    "                    resized_img_w = int(orig_img_w * scale)\n",
    "                    resized_img_h = int(orig_img_h * scale)\n",
    "                    img_pil_overlay = img_pil_overlay.resize((resized_img_w, resized_img_h), Image.LANCZOS)\n",
    "\n",
    "                    image_x_pos = (target_width - resized_img_w) / 2\n",
    "                    image_y_pos = int((target_height * 0.02) + total_title_height + target_height * 0.03)\n",
    "                    \n",
    "                    # Paste the RGBA overlay onto the RGBA base image, using the overlay's alpha as a mask\n",
    "                    img_pil.paste(img_pil_overlay, (int(image_x_pos), int(image_y_pos)), img_pil_overlay)\n",
    "                    \n",
    "                    image_bottom_y = image_y_pos + resized_img_h + int(target_height * 0.03)\n",
    "\n",
    "                except Exception as img_e:\n",
    "                    print(f\"Error overlaying image {current_image_path} at time {t_in_clip:.2f}s: {img_e}\")\n",
    "\n",
    "            # --- SUBTITLE DRAWING LOGIC ---\n",
    "            # Using same font size and style as title for consistency, but positioned at bottom\n",
    "            subtitle_font_size = int(target_height * 0.05) # Slightly smaller than title for readability\n",
    "            try:\n",
    "                subtitle_font = ImageFont.truetype(font_path, subtitle_font_size)\n",
    "            except IOError:\n",
    "                print(f\"Warning: Could not load font '{font_path}' for subtitle. Falling back to default.\")\n",
    "                subtitle_font = ImageFont.load_default()\n",
    "            \n",
    "            # Subtitle color: Bright yellow, fully opaque RGBA\n",
    "            subtitle_fill_color = (255, 255, 0, 255) # Yellow, fully opaque RGBA\n",
    "\n",
    "            current_subtitle_text = \"\"\n",
    "            for sub in subtitles:\n",
    "                if sub['start'] <= t_actual_transcript < sub['end']:\n",
    "                    current_subtitle_text = sub['text']\n",
    "                    if int(t_in_clip * 10) % 10 == 0:\n",
    "                        print(f\"    Subtitle found: \\\"{current_subtitle_text}\\\" (SRT range: {sub['start']:.2f}-{sub['end']:.2f})\")\n",
    "                    break\n",
    "            \n",
    "            if not current_subtitle_text and int(t_in_clip * 10) % 10 == 0:\n",
    "                 print(f\"    No subtitle found for actual transcript time {t_actual_transcript:.2f}s.\")\n",
    "\n",
    "            if current_subtitle_text:\n",
    "                max_subtitle_line_width = int(target_width * 0.9)\n",
    "                subtitle_lines = dynamic_wrap_text(current_subtitle_text, subtitle_font, max_subtitle_line_width)\n",
    "\n",
    "                total_subtitle_height = 0\n",
    "                dummy_draw = ImageDraw.Draw(Image.new(\"RGBA\", (1,1))) # Use RGBA for dummy\n",
    "                for line in subtitle_lines:\n",
    "                     try:\n",
    "                        bbox = dummy_draw.textbbox((0,0), line, font=subtitle_font)\n",
    "                        total_subtitle_height += (bbox[3] - bbox[1]) + int(target_height * 0.005)\n",
    "                     except AttributeError:\n",
    "                        _, line_h = dummy_draw.textsize(line, font=subtitle_font)\n",
    "                        total_subtitle_height += line_h + int(target_height * 0.005)\n",
    "\n",
    "                target_bottom_margin = int(target_height * 0.18)\n",
    "                # Calculate the Y position for the bottom of the lowest subtitle line\n",
    "                desired_y_for_bottom_of_subtitles = target_height - target_bottom_margin\n",
    "                \n",
    "                # Calculate the starting Y position for the *first* subtitle line\n",
    "                current_y_for_subtitle = desired_y_for_bottom_of_subtitles - total_subtitle_height\n",
    "\n",
    "                # Ensure subtitles don't overlap with images/title if they are too long\n",
    "                subtitle_y_start_after_elements = image_bottom_y + int(target_height * 0.02) # Add a small buffer below image\n",
    "                if current_y_for_subtitle < subtitle_y_start_after_elements:\n",
    "                    current_y_for_subtitle = subtitle_y_start_after_elements\n",
    "                    print(f\"      Adjusted subtitle start Y to {current_y_for_subtitle:.0f} to avoid overlap.\")\n",
    "\n",
    "                for line in subtitle_lines:\n",
    "                    try:\n",
    "                        bbox = draw.textbbox((0,0), line, font=subtitle_font)\n",
    "                        line_width = bbox[2] - bbox[0]\n",
    "                        line_height = bbox[3] - bbox[1]\n",
    "                    except AttributeError:\n",
    "                        line_width, line_height = draw.textsize(line, font=subtitle_font)\n",
    "\n",
    "                    x_pos = (img_pil.width - line_width) / 2\n",
    "                    \n",
    "                    if int(t_in_clip * 10) % 10 == 0:\n",
    "                        print(f\"      Drawing subtitle: '{line}' at X={x_pos}, Y={current_y_for_subtitle}, W={line_width}, H={line_height}, Color={subtitle_fill_color}\")\n",
    "                    \n",
    "                    # Draw a solid black rectangle behind the subtitle for better contrast,\n",
    "                    # ensuring it's opaque and drawn *before* the text.\n",
    "                    padding_x = int(target_width * 0.01) # Small padding around text\n",
    "                    padding_y = int(target_height * 0.005)\n",
    "                    background_box_x1 = x_pos - padding_x\n",
    "                    background_box_y1 = current_y_for_subtitle - padding_y\n",
    "                    background_box_x2 = x_pos + line_width + padding_x\n",
    "                    background_box_y2 = current_y_for_subtitle + line_height + padding_y\n",
    "                    \n",
    "                    # Ensure coordinates are within bounds\n",
    "                    background_box_x1 = max(0, background_box_x1)\n",
    "                    background_box_y1 = max(0, background_box_y1)\n",
    "                    background_box_x2 = min(target_width, background_box_x2)\n",
    "                    background_box_y2 = min(target_height, background_box_y2)\n",
    "\n",
    "                    draw.rectangle([background_box_x1, background_box_y1, background_box_x2, background_box_y2],\n",
    "                                   fill=(0, 0, 0, 180)) # Semi-transparent black background\n",
    "\n",
    "                    draw.text((x_pos, current_y_for_subtitle), line, font=subtitle_font, fill=subtitle_fill_color)\n",
    "                    current_y_for_subtitle += line_height + int(target_height * 0.005)\n",
    "            \n",
    "            # Convert back to RGB before returning to MoviePy\n",
    "            return np.array(img_pil.convert(\"RGB\"))\n",
    "\n",
    "        final_clip_with_elements = final_clip.fl(draw_elements_on_frame)\n",
    "\n",
    "        sanitized_category_folder = re.sub(r'[\\\\/*?:\"<>|]', \"\", category_folder).strip()\n",
    "        if not sanitized_category_folder:\n",
    "            sanitized_category_folder = \"Uncategorized_Shorts\"\n",
    "\n",
    "        output_category_dir = os.path.join(output_base_dir, sanitized_category_folder)\n",
    "        os.makedirs(output_category_dir, exist_ok=True)\n",
    "\n",
    "        sanitized_title = re.sub(r'[\\\\/*?:\"<>\\'\"]', \"\", article_title.replace('/', '_'))\n",
    "        output_filepath = os.path.join(output_category_dir, f\"{sanitized_title}_short.mp4\")\n",
    "\n",
    "        print(f\"Writing final video to: {output_filepath}\")\n",
    "        final_clip_with_elements.write_videofile(\n",
    "            output_filepath, \n",
    "            codec=\"libx264\", \n",
    "            audio_codec=\"libmp3lame\", \n",
    "            fps=30, \n",
    "            preset=\"medium\",\n",
    "            threads=os.cpu_count(),\n",
    "            verbose=True, \n",
    "            logger='bar'\n",
    "        )\n",
    "\n",
    "        audio_clip.close()\n",
    "        main_video_clip.close()\n",
    "        video_clip.close() \n",
    "        cropped_clip.close() \n",
    "        final_clip.close()\n",
    "\n",
    "        print(f\"Successfully created short for '{article_title}'.\")\n",
    "        return True\n",
    "\n",
    "    except Exception as e:\n",
    "        print(f\"Error creating short for '{article_title}': {e}\")\n",
    "        import traceback\n",
    "        traceback.print_exc() # Print full traceback for better debugging\n",
    "        try:\n",
    "            if 'audio_clip' in locals() and audio_clip: audio_clip.close()\n",
    "            if 'main_video_clip' in locals() and main_video_clip: main_video_clip.close()\n",
    "            if 'video_clip' in locals() and video_clip: video_clip.close()\n",
    "            if 'cropped_clip' in locals() and cropped_clip: cropped_clip.close()\n",
    "            if 'final_clip' in locals() and final_clip: final_clip.close()\n",
    "        except Exception as close_e:\n",
    "            print(f\"Error closing clips: {close_e}\")\n",
    "        return False\n",
    "    finally:\n",
    "        clean_temp_images(TEMP_IMAGE_DIRECTORY)\n",
    "\n",
    "# --- Main Execution Logic ---\n",
    "if __name__ == \"__main__\":\n",
    "    os.makedirs(GENERATED_SHORTS_DIRECTORY, exist_ok=True)\n",
    "    os.makedirs(TEMP_IMAGE_DIRECTORY, exist_ok=True)\n",
    "\n",
    "    processed_shorts_titles = get_processed_shorts_titles(TRACKING_SHORTS_FILE)\n",
    "    print(f\"Loaded {len(processed_shorts_titles)} previously created shorts titles.\")\n",
    "\n",
    "    for root, dirs, files in os.walk(GENERATED_AUDIO_DIRECTORY):\n",
    "        category_folder = os.path.basename(root)\n",
    "\n",
    "        for filename in files:\n",
    "            if filename.endswith(\".mp3\"):\n",
    "                audio_filepath = os.path.join(root, filename)\n",
    "                \n",
    "                article_title = os.path.splitext(filename)[0]\n",
    "\n",
    "                if article_title in processed_shorts_titles:\n",
    "                    print(f\"\\n'{article_title}' has already had a short created. Skipping.\")\n",
    "                    continue\n",
    "\n",
    "                print(f\"\\nProcessing audio file: {audio_filepath} for short creation.\")\n",
    "                \n",
    "                article_content = \"\"\n",
    "                article_text_filepath = os.path.join(GENERATED_ARTICLES_DIRECTORY, category_folder, f\"{article_title}.txt\")\n",
    "                if os.path.exists(article_text_filepath):\n",
    "                    with open(article_text_filepath, 'r', encoding='utf-8') as f:\n",
    "                        article_content = f.read()\n",
    "                    print(f\"Loaded article content from: {article_text_filepath}\")\n",
    "                else:\n",
    "                    print(f\"Warning: No article text file found for '{article_title}' at {article_text_filepath}. No images will be extracted.\")\n",
    "                \n",
    "                image_urls = extract_image_urls_from_article(article_content)\n",
    "                if image_urls:\n",
    "                    print(f\"Found {len(image_urls)} image URLs in article.\")\n",
    "                else:\n",
    "                    print(\"No image URLs found in article content.\")\n",
    "\n",
    "                srt_filepath = os.path.join(GENERATED_TRANSCRIPT_DIRECTORY, category_folder, f\"{article_title}.srt\")\n",
    "\n",
    "                short_created = create_youtube_short(\n",
    "                    audio_filepath,\n",
    "                    MINECRAFT_FOOTAGE_PATH,\n",
    "                    GENERATED_SHORTS_DIRECTORY,\n",
    "                    article_title,\n",
    "                    category_folder,\n",
    "                    image_urls,\n",
    "                    srt_filepath \n",
    "                )\n",
    "\n",
    "                if short_created:\n",
    "                    log_processed_short_title(article_title, TRACKING_SHORTS_FILE)\n",
    "                    print(f\"Short creation and logging complete for '{article_title}'.\")\n",
    "                else:\n",
    "                    print(f\"Short creation failed for '{article_title}'. Not logging.\")\n",
    "    \n",
    "    print(\"\\n--- All short creations complete. ---\")\n",
    "    clean_temp_images(TEMP_IMAGE_DIRECTORY)"
   ]
  },
  {
   "cell_type": "code",
   "execution_count": 22,
   "id": "abfdca7d",
   "metadata": {},
   "outputs": [
    {
     "name": "stdout",
     "output_type": "stream",
     "text": [
      "Requirement already satisfied: google-api-python-client in c:\\users\\laptop\\appdata\\local\\programs\\python\\python312\\lib\\site-packages (2.177.0)\n",
      "Collecting google-auth-oauthlib\n",
      "  Downloading google_auth_oauthlib-1.2.2-py3-none-any.whl.metadata (2.7 kB)\n",
      "Requirement already satisfied: google-auth-httplib2 in c:\\users\\laptop\\appdata\\local\\programs\\python\\python312\\lib\\site-packages (0.2.0)\n",
      "Requirement already satisfied: httplib2<1.0.0,>=0.19.0 in c:\\users\\laptop\\appdata\\local\\programs\\python\\python312\\lib\\site-packages (from google-api-python-client) (0.22.0)\n",
      "Requirement already satisfied: google-auth!=2.24.0,!=2.25.0,<3.0.0,>=1.32.0 in c:\\users\\laptop\\appdata\\local\\programs\\python\\python312\\lib\\site-packages (from google-api-python-client) (2.40.3)\n",
      "Requirement already satisfied: google-api-core!=2.0.*,!=2.1.*,!=2.2.*,!=2.3.0,<3.0.0,>=1.31.5 in c:\\users\\laptop\\appdata\\local\\programs\\python\\python312\\lib\\site-packages (from google-api-python-client) (2.25.1)\n",
      "Requirement already satisfied: uritemplate<5,>=3.0.1 in c:\\users\\laptop\\appdata\\local\\programs\\python\\python312\\lib\\site-packages (from google-api-python-client) (4.2.0)\n",
      "Collecting requests-oauthlib>=0.7.0 (from google-auth-oauthlib)\n",
      "  Downloading requests_oauthlib-2.0.0-py2.py3-none-any.whl.metadata (11 kB)\n",
      "Requirement already satisfied: googleapis-common-protos<2.0.0,>=1.56.2 in c:\\users\\laptop\\appdata\\local\\programs\\python\\python312\\lib\\site-packages (from google-api-core!=2.0.*,!=2.1.*,!=2.2.*,!=2.3.0,<3.0.0,>=1.31.5->google-api-python-client) (1.70.0)\n",
      "Requirement already satisfied: protobuf!=3.20.0,!=3.20.1,!=4.21.0,!=4.21.1,!=4.21.2,!=4.21.3,!=4.21.4,!=4.21.5,<7.0.0,>=3.19.5 in c:\\users\\laptop\\appdata\\local\\programs\\python\\python312\\lib\\site-packages (from google-api-core!=2.0.*,!=2.1.*,!=2.2.*,!=2.3.0,<3.0.0,>=1.31.5->google-api-python-client) (5.29.5)\n",
      "Requirement already satisfied: proto-plus<2.0.0,>=1.22.3 in c:\\users\\laptop\\appdata\\local\\programs\\python\\python312\\lib\\site-packages (from google-api-core!=2.0.*,!=2.1.*,!=2.2.*,!=2.3.0,<3.0.0,>=1.31.5->google-api-python-client) (1.26.1)\n",
      "Requirement already satisfied: requests<3.0.0,>=2.18.0 in c:\\users\\laptop\\appdata\\local\\programs\\python\\python312\\lib\\site-packages (from google-api-core!=2.0.*,!=2.1.*,!=2.2.*,!=2.3.0,<3.0.0,>=1.31.5->google-api-python-client) (2.32.3)\n",
      "Requirement already satisfied: cachetools<6.0,>=2.0.0 in c:\\users\\laptop\\appdata\\local\\programs\\python\\python312\\lib\\site-packages (from google-auth!=2.24.0,!=2.25.0,<3.0.0,>=1.32.0->google-api-python-client) (5.5.2)\n",
      "Requirement already satisfied: pyasn1-modules>=0.2.1 in c:\\users\\laptop\\appdata\\local\\programs\\python\\python312\\lib\\site-packages (from google-auth!=2.24.0,!=2.25.0,<3.0.0,>=1.32.0->google-api-python-client) (0.4.2)\n",
      "Requirement already satisfied: rsa<5,>=3.1.4 in c:\\users\\laptop\\appdata\\local\\programs\\python\\python312\\lib\\site-packages (from google-auth!=2.24.0,!=2.25.0,<3.0.0,>=1.32.0->google-api-python-client) (4.9.1)\n",
      "Requirement already satisfied: pyparsing!=3.0.0,!=3.0.1,!=3.0.2,!=3.0.3,<4,>=2.4.2 in c:\\users\\laptop\\appdata\\local\\programs\\python\\python312\\lib\\site-packages (from httplib2<1.0.0,>=0.19.0->google-api-python-client) (3.1.4)\n",
      "Collecting oauthlib>=3.0.0 (from requests-oauthlib>=0.7.0->google-auth-oauthlib)\n",
      "  Downloading oauthlib-3.3.1-py3-none-any.whl.metadata (7.9 kB)\n",
      "Requirement already satisfied: pyasn1<0.7.0,>=0.6.1 in c:\\users\\laptop\\appdata\\local\\programs\\python\\python312\\lib\\site-packages (from pyasn1-modules>=0.2.1->google-auth!=2.24.0,!=2.25.0,<3.0.0,>=1.32.0->google-api-python-client) (0.6.1)\n",
      "Requirement already satisfied: charset-normalizer<4,>=2 in c:\\users\\laptop\\appdata\\local\\programs\\python\\python312\\lib\\site-packages (from requests<3.0.0,>=2.18.0->google-api-core!=2.0.*,!=2.1.*,!=2.2.*,!=2.3.0,<3.0.0,>=1.31.5->google-api-python-client) (3.3.2)\n",
      "Requirement already satisfied: idna<4,>=2.5 in c:\\users\\laptop\\appdata\\local\\programs\\python\\python312\\lib\\site-packages (from requests<3.0.0,>=2.18.0->google-api-core!=2.0.*,!=2.1.*,!=2.2.*,!=2.3.0,<3.0.0,>=1.31.5->google-api-python-client) (3.8)\n",
      "Requirement already satisfied: urllib3<3,>=1.21.1 in c:\\users\\laptop\\appdata\\local\\programs\\python\\python312\\lib\\site-packages (from requests<3.0.0,>=2.18.0->google-api-core!=2.0.*,!=2.1.*,!=2.2.*,!=2.3.0,<3.0.0,>=1.31.5->google-api-python-client) (2.2.2)\n",
      "Requirement already satisfied: certifi>=2017.4.17 in c:\\users\\laptop\\appdata\\local\\programs\\python\\python312\\lib\\site-packages (from requests<3.0.0,>=2.18.0->google-api-core!=2.0.*,!=2.1.*,!=2.2.*,!=2.3.0,<3.0.0,>=1.31.5->google-api-python-client) (2024.7.4)\n",
      "Downloading google_auth_oauthlib-1.2.2-py3-none-any.whl (19 kB)\n",
      "Downloading requests_oauthlib-2.0.0-py2.py3-none-any.whl (24 kB)\n",
      "Downloading oauthlib-3.3.1-py3-none-any.whl (160 kB)\n",
      "Installing collected packages: oauthlib, requests-oauthlib, google-auth-oauthlib\n",
      "Successfully installed google-auth-oauthlib-1.2.2 oauthlib-3.3.1 requests-oauthlib-2.0.0\n",
      "Note: you may need to restart the kernel to use updated packages.\n"
     ]
    },
    {
     "name": "stderr",
     "output_type": "stream",
     "text": [
      "\n",
      "[notice] A new release of pip is available: 24.2 -> 25.1.1\n",
      "[notice] To update, run: python.exe -m pip install --upgrade pip\n"
     ]
    }
   ],
   "source": [
    "pip install google-api-python-client google-auth-oauthlib google-auth-httplib2"
   ]
  },
  {
   "cell_type": "code",
   "execution_count": 4,
   "id": "e5ecd9b2",
   "metadata": {},
   "outputs": [
    {
     "name": "stderr",
     "output_type": "stream",
     "text": [
      "2025-07-29 13:11:53,703 - INFO - Loaded credentials from token.pickle\n"
     ]
    },
    {
     "name": "stderr",
     "output_type": "stream",
     "text": [
      "2025-07-29 13:11:53,708 - INFO - file_cache is only supported with oauth2client<4.0.0\n",
      "2025-07-29 13:11:53,726 - INFO - Found 10 already uploaded videos in log.\n",
      "2025-07-29 13:11:53,728 - INFO - Processing category: Arboreal planets\n",
      "2025-07-29 13:11:53,730 - INFO - Attempting to upload: Mulita\n",
      "2025-07-29 13:11:53,731 - INFO - Description: Deep within Wild Space lies Mulita, a forested planet teeming with the Drengir, sentient carnivorous...\n",
      "2025-07-29 13:11:53,732 - INFO - Tags: lightsaber, darthvader, starwarscommunity, starwarsfans, starwarslegends, shorts, starwarsfan, arboreal planets, legends, anakin, starwars, jedi, kenobi, starwarsreels, sith, force, yoda\n",
      "2025-07-29 13:11:54,552 - ERROR - An HTTP error occurred during upload for Mulita_short.mp4: <HttpError 400 when requesting None returned \"The user has exceeded the number of videos they may upload.\". Details: \"[{'message': 'The user has exceeded the number of videos they may upload.', 'domain': 'youtube.video', 'reason': 'uploadLimitExceeded'}]\">\n",
      "2025-07-29 13:11:54,554 - ERROR - Failed to upload or log: Mulita_short.mp4\n",
      "2025-07-29 13:11:54,555 - INFO - Processing category: Arms manufacturing companies\n",
      "2025-07-29 13:11:54,557 - INFO - Attempting to upload: Antrech Arms\n",
      "2025-07-29 13:11:54,558 - INFO - Description: Antrech Arms, a subsidiary of the massive BlasTech Industries, crafted specialized weaponry for the ...\n",
      "2025-07-29 13:11:54,559 - INFO - Tags: lightsaber, darthvader, starwarscommunity, starwarsfans, starwarslegends, shorts, starwarsfan, legends, anakin, starwars, jedi, kenobi, starwarsreels, arms manufacturing companies, sith, force, yoda\n",
      "2025-07-29 13:11:55,080 - ERROR - An HTTP error occurred during upload for Antrech Arms_short.mp4: <HttpError 400 when requesting None returned \"The user has exceeded the number of videos they may upload.\". Details: \"[{'message': 'The user has exceeded the number of videos they may upload.', 'domain': 'youtube.video', 'reason': 'uploadLimitExceeded'}]\">\n",
      "2025-07-29 13:11:55,081 - ERROR - Failed to upload or log: Antrech Arms_short.mp4\n",
      "2025-07-29 13:11:55,082 - INFO - Processing category: Battles in 19 BBY\n",
      "2025-07-29 13:11:55,083 - INFO - Attempting to upload: Mission To Batuu\n",
      "2025-07-29 13:11:55,085 - INFO - Description: During the Clone Wars, a Separatist droid factory on Mokivj prompted a mission led by Anakin Skywalk...\n",
      "2025-07-29 13:11:55,087 - INFO - Tags: lightsaber, darthvader, starwarscommunity, starwarsfans, starwarslegends, shorts, starwarsfan, legends, anakin, battles in 19 bby, starwars, jedi, kenobi, sith, starwarsreels, force, yoda\n",
      "2025-07-29 13:11:55,450 - ERROR - An HTTP error occurred during upload for Mission to Batuu_short.mp4: <HttpError 400 when requesting None returned \"The user has exceeded the number of videos they may upload.\". Details: \"[{'message': 'The user has exceeded the number of videos they may upload.', 'domain': 'youtube.video', 'reason': 'uploadLimitExceeded'}]\">\n",
      "2025-07-29 13:11:55,452 - ERROR - Failed to upload or log: Mission to Batuu_short.mp4\n",
      "2025-07-29 13:11:55,453 - INFO - Processing category: Character stubs\n",
      "2025-07-29 13:11:55,454 - INFO - Attempting to upload: Eos Morne\n",
      "2025-07-29 13:11:55,455 - INFO - Description: In 22 BBY, a light-skinned human named Eos Morne was spotted at Coruscant's exclusive Outlander Club...\n",
      "2025-07-29 13:11:55,456 - INFO - Tags: lightsaber, darthvader, starwarscommunity, starwarsfans, starwarslegends, shorts, starwarsfan, character stubs, legends, anakin, starwars, jedi, kenobi, starwarsreels, sith, force, yoda\n",
      "2025-07-29 13:11:55,808 - ERROR - An HTTP error occurred during upload for Eos Morne_short.mp4: <HttpError 400 when requesting None returned \"The user has exceeded the number of videos they may upload.\". Details: \"[{'message': 'The user has exceeded the number of videos they may upload.', 'domain': 'youtube.video', 'reason': 'uploadLimitExceeded'}]\">\n",
      "2025-07-29 13:11:55,810 - ERROR - Failed to upload or log: Eos Morne_short.mp4\n",
      "2025-07-29 13:11:55,811 - INFO - Attempting to upload: Unidentified Second Prince\n",
      "2025-07-29 13:11:55,813 - INFO - Description: In the Empire's twilight years, a power struggle brewed between two brothers: the Crown Prince and h...\n",
      "2025-07-29 13:11:55,814 - INFO - Tags: lightsaber, darthvader, starwarscommunity, starwarsfans, starwarslegends, shorts, starwarsfan, character stubs, legends, anakin, starwars, jedi, kenobi, starwarsreels, sith, force, yoda\n",
      "2025-07-29 13:11:56,334 - ERROR - An HTTP error occurred during upload for Unidentified Second Prince_short.mp4: <HttpError 400 when requesting None returned \"The user has exceeded the number of videos they may upload.\". Details: \"[{'message': 'The user has exceeded the number of videos they may upload.', 'domain': 'youtube.video', 'reason': 'uploadLimitExceeded'}]\">\n",
      "2025-07-29 13:11:56,335 - ERROR - Failed to upload or log: Unidentified Second Prince_short.mp4\n",
      "2025-07-29 13:11:56,337 - INFO - Processing category: Codes\n",
      "2025-07-29 13:11:56,339 - INFO - Attempting to upload: Protocol 514\n",
      "2025-07-29 13:11:56,341 - INFO - Description: On the remote planet 244Core, Tor-Ro-Bo Industries secretly activated Protocol 514.  This drastic me...\n",
      "2025-07-29 13:11:56,342 - INFO - Tags: lightsaber, darthvader, starwarscommunity, starwarsfans, starwarslegends, shorts, starwarsfan, legends, anakin, starwars, jedi, kenobi, starwarsreels, sith, force, codes, yoda\n",
      "2025-07-29 13:11:56,836 - ERROR - An HTTP error occurred during upload for Protocol 514_short.mp4: <HttpError 400 when requesting None returned \"The user has exceeded the number of videos they may upload.\". Details: \"[{'message': 'The user has exceeded the number of videos they may upload.', 'domain': 'youtube.video', 'reason': 'uploadLimitExceeded'}]\">\n",
      "2025-07-29 13:11:56,838 - ERROR - Failed to upload or log: Protocol 514_short.mp4\n",
      "2025-07-29 13:11:56,838 - INFO - Processing category: Diplomatic events\n",
      "2025-07-29 13:11:56,840 - INFO - Attempting to upload: Thirteenth Imperial Diplomatic Conclave\n",
      "2025-07-29 13:11:56,841 - INFO - Description: In the year 0 ABY,  the Imperial-aligned worlds gathered for a crucial diplomatic conclave on Phelar...\n",
      "2025-07-29 13:11:56,841 - INFO - Tags: diplomatic events, lightsaber, darthvader, starwarscommunity, starwarsfans, starwarslegends, shorts, starwarsfan, legends, anakin, starwars, jedi, kenobi, starwarsreels, sith, force, yoda\n",
      "2025-07-29 13:11:57,255 - ERROR - An HTTP error occurred during upload for Thirteenth Imperial Diplomatic Conclave_short.mp4: <HttpError 400 when requesting None returned \"The user has exceeded the number of videos they may upload.\". Details: \"[{'message': 'The user has exceeded the number of videos they may upload.', 'domain': 'youtube.video', 'reason': 'uploadLimitExceeded'}]\">\n",
      "2025-07-29 13:11:57,257 - ERROR - Failed to upload or log: Thirteenth Imperial Diplomatic Conclave_short.mp4\n",
      "2025-07-29 13:11:57,259 - INFO - Processing category: Diseases and maladies\n",
      "2025-07-29 13:11:57,261 - INFO - Attempting to upload: Spice Withdrawal\n",
      "2025-07-29 13:11:57,262 - INFO - Description: Spice withdrawal is a brutal affliction for those addicted to the potent drug.  Anja Gallandro, hook...\n",
      "2025-07-29 13:11:57,263 - INFO - Tags: lightsaber, darthvader, starwarscommunity, starwarsfans, starwarslegends, shorts, starwarsfan, diseases and maladies, legends, anakin, starwars, jedi, kenobi, starwarsreels, sith, force, yoda\n",
      "2025-07-29 13:11:57,544 - ERROR - An HTTP error occurred during upload for Spice withdrawal_short.mp4: <HttpError 400 when requesting None returned \"The user has exceeded the number of videos they may upload.\". Details: \"[{'message': 'The user has exceeded the number of videos they may upload.', 'domain': 'youtube.video', 'reason': 'uploadLimitExceeded'}]\">\n",
      "2025-07-29 13:11:57,546 - ERROR - Failed to upload or log: Spice withdrawal_short.mp4\n",
      "2025-07-29 13:11:57,547 - INFO - Processing category: Herdessa sector locations\n",
      "2025-07-29 13:11:57,548 - INFO - Attempting to upload: Cificap Viii\n",
      "2025-07-29 13:11:57,550 - INFO - Description: In the Mid Rim's Herdessa sector, lies the planet Cificap VIII.  Shortly after the Rebel victory at ...\n",
      "2025-07-29 13:11:57,551 - INFO - Tags: herdessa sector locations, lightsaber, darthvader, starwarscommunity, starwarsfans, starwarslegends, shorts, starwarsfan, legends, anakin, starwars, jedi, kenobi, starwarsreels, sith, force, yoda\n",
      "2025-07-29 13:11:57,944 - ERROR - An HTTP error occurred during upload for Cificap VIII_short.mp4: <HttpError 400 when requesting None returned \"The user has exceeded the number of videos they may upload.\". Details: \"[{'message': 'The user has exceeded the number of videos they may upload.', 'domain': 'youtube.video', 'reason': 'uploadLimitExceeded'}]\">\n",
      "2025-07-29 13:11:57,945 - ERROR - Failed to upload or log: Cificap VIII_short.mp4\n",
      "2025-07-29 13:11:57,946 - INFO - Processing category: Koradin sector locations\n",
      "2025-07-29 13:11:57,948 - INFO - Attempting to upload: Kovor System Legends\n",
      "2025-07-29 13:11:57,949 - INFO - Description: Deep in the Outer Rim Territories, nestled within the Koradin sector, lies the Kovor system.  This r...\n",
      "2025-07-29 13:11:57,950 - INFO - Tags: lightsaber, darthvader, starwarscommunity, starwarsfans, starwarslegends, shorts, starwarsfan, legends, anakin, starwars, jedi, koradin sector locations, kenobi, sith, starwarsreels, force, yoda\n",
      "2025-07-29 13:11:58,403 - ERROR - An HTTP error occurred during upload for Kovor system_Legends_short.mp4: <HttpError 400 when requesting None returned \"The user has exceeded the number of videos they may upload.\". Details: \"[{'message': 'The user has exceeded the number of videos they may upload.', 'domain': 'youtube.video', 'reason': 'uploadLimitExceeded'}]\">\n",
      "2025-07-29 13:11:58,405 - ERROR - Failed to upload or log: Kovor system_Legends_short.mp4\n",
      "2025-07-29 13:11:58,406 - INFO - Processing category: Meirm Speeder Emporium products\n",
      "2025-07-29 13:11:58,407 - INFO - Attempting to upload: Iguana (Speeder Bike)\n",
      "2025-07-29 13:11:58,409 - INFO - Description: During the Galactic Republic's Cold War with the Sith Empire,  hot off the assembly line at Meirm Sp...\n",
      "2025-07-29 13:11:58,410 - INFO - Tags: lightsaber, darthvader, starwarscommunity, starwarsfans, starwarslegends, shorts, starwarsfan, legends, anakin, starwars, jedi, kenobi, starwarsreels, sith, meirm speeder emporium products, force, yoda\n",
      "2025-07-29 13:11:58,736 - ERROR - An HTTP error occurred during upload for Iguana (speeder bike)_short.mp4: <HttpError 400 when requesting None returned \"The user has exceeded the number of videos they may upload.\". Details: \"[{'message': 'The user has exceeded the number of videos they may upload.', 'domain': 'youtube.video', 'reason': 'uploadLimitExceeded'}]\">\n",
      "2025-07-29 13:11:58,737 - ERROR - Failed to upload or log: Iguana (speeder bike)_short.mp4\n",
      "2025-07-29 13:11:58,739 - INFO - Processing category: Rocks\n",
      "2025-07-29 13:11:58,741 - INFO - Attempting to upload: Sandstone\n",
      "2025-07-29 13:11:58,742 - INFO - Description: Sandstone, a common building material in the Star Wars galaxy, played a significant role in iconic s...\n",
      "2025-07-29 13:11:58,743 - INFO - Tags: lightsaber, darthvader, starwarscommunity, starwarsfans, starwarslegends, shorts, starwarsfan, legends, anakin, starwars, jedi, kenobi, starwarsreels, sith, rocks, force, yoda\n",
      "2025-07-29 13:11:59,121 - ERROR - An HTTP error occurred during upload for Sandstone_short.mp4: <HttpError 400 when requesting None returned \"The user has exceeded the number of videos they may upload.\". Details: \"[{'message': 'The user has exceeded the number of videos they may upload.', 'domain': 'youtube.video', 'reason': 'uploadLimitExceeded'}]\">\n",
      "2025-07-29 13:11:59,122 - ERROR - Failed to upload or log: Sandstone_short.mp4\n",
      "2025-07-29 13:11:59,123 - INFO - Processing category: Science stubs\n",
      "2025-07-29 13:11:59,125 - INFO - Attempting to upload: Kilogram\n",
      "2025-07-29 13:11:59,125 - INFO - Description: In the Star Wars galaxy, the kilogram, or kg, measures mass.  We know, for instance, that a B1 battl...\n",
      "2025-07-29 13:11:59,127 - INFO - Tags: lightsaber, darthvader, starwarscommunity, starwarsfans, starwarslegends, shorts, science stubs, starwarsfan, legends, anakin, starwars, jedi, kenobi, starwarsreels, sith, force, yoda\n",
      "2025-07-29 13:11:59,541 - ERROR - An HTTP error occurred during upload for Kilogram_short.mp4: <HttpError 400 when requesting None returned \"The user has exceeded the number of videos they may upload.\". Details: \"[{'message': 'The user has exceeded the number of videos they may upload.', 'domain': 'youtube.video', 'reason': 'uploadLimitExceeded'}]\">\n",
      "2025-07-29 13:11:59,543 - ERROR - Failed to upload or log: Kilogram_short.mp4\n",
      "2025-07-29 13:11:59,544 - INFO - Processing category: Songs\n",
      "2025-07-29 13:11:59,546 - WARNING - No description file found for What Mamma Doesnt Know_short.mp4 (../data/generated_text\\Songs\\What Mamma Doesnt Know_rephrased.txt). Skipping.\n"
     ]
    }
   ],
   "source": [
    "import os\n",
    "import glob\n",
    "import pickle\n",
    "import datetime\n",
    "import logging\n",
    "from google_auth_oauthlib.flow import InstalledAppFlow\n",
    "from google.auth.transport.requests import Request\n",
    "from google.oauth2.credentials import Credentials\n",
    "from googleapiclient.discovery import build\n",
    "from googleapiclient.http import MediaFileUpload\n",
    "from googleapiclient.errors import HttpError\n",
    "from dotenv import load_dotenv\n",
    "\n",
    "# --- Load environment variables ---\n",
    "load_dotenv()\n",
    "\n",
    "# --- Configuration ---\n",
    "CLIENT_SECRETS_FILE = r'C:\\egyetem\\github-ml\\holocron-generator\\client_secret_12090445080-o5mvqmklk0ac7uu7q4co9hib5sgi01fn.apps.googleusercontent.com.json'\n",
    "UPLOADED_LOG_FILE = '../data/uploaded_shorts.log'\n",
    "BASE_VIDEO_DIR = '../data/generated_shorts'\n",
    "BASE_TEXT_DIR = '../data/generated_text'\n",
    "\n",
    "# YouTube API scopes - 'youtube.upload' is essential for uploading\n",
    "SCOPES = ['https://www.googleapis.com/auth/youtube.upload']\n",
    "API_SERVICE_NAME = 'youtube'\n",
    "API_VERSION = 'v3'\n",
    "\n",
    "# General hashtags to append to all descriptions\n",
    "GLOBAL_HASHTAGS = [\n",
    "    '#shorts',\n",
    "    '#starwars',\n",
    "    '#anakin',\n",
    "    '#legends',\n",
    "    '#starwarsfans', \n",
    "    '#jedi',\n",
    "    '#sith',\n",
    "    '#lightsaber',\n",
    "    '#starwarslegends',\n",
    "    '#starwarsfan',\n",
    "    '#starwarscommunity',\n",
    "    '#yoda',\n",
    "    '#darthvader',\n",
    "    '#kenobi',\n",
    "    '#starwarsreels',\n",
    "    '#force'\n",
    "]\n",
    "\n",
    "# --- Logging Setup ---\n",
    "logging.basicConfig(level=logging.INFO,\n",
    "                    format='%(asctime)s - %(levelname)s - %(message)s',\n",
    "                    handlers=[\n",
    "                        logging.FileHandler(\"uploader.log\"), # Log to a file\n",
    "                        logging.StreamHandler() # Also log to console\n",
    "                    ])\n",
    "\n",
    "# --- OAuth Authentication Function ---\n",
    "def get_authenticated_service():\n",
    "    \"\"\"Authenticates with Google OAuth and returns a YouTube API service.\"\"\"\n",
    "    credentials = None\n",
    "    # Load credentials from token.pickle if it exists\n",
    "    if os.path.exists('token.pickle'):\n",
    "        try:\n",
    "            with open('token.pickle', 'rb') as token:\n",
    "                credentials = pickle.load(token)\n",
    "            logging.info(\"Loaded credentials from token.pickle\")\n",
    "        except Exception as e:\n",
    "            logging.warning(f\"Error loading token.pickle: {e}. Will re-authenticate.\")\n",
    "            credentials = None\n",
    "\n",
    "    # If no valid credentials, initiate the OAuth flow\n",
    "    if not credentials or not credentials.valid:\n",
    "        if credentials and credentials.expired and credentials.refresh_token:\n",
    "            logging.info(\"Access token expired, attempting to refresh...\")\n",
    "            try:\n",
    "                credentials.refresh(Request())\n",
    "                logging.info(\"Access token refreshed successfully.\")\n",
    "            except Exception as e:\n",
    "                logging.error(f\"Error refreshing token: {e}. Re-initiating full OAuth flow.\")\n",
    "                credentials = None # Force full re-authentication\n",
    "        else:\n",
    "            logging.info(\"No valid credentials, initiating new OAuth flow...\")\n",
    "            try:\n",
    "                flow = InstalledAppFlow.from_client_secrets_file(\n",
    "                    CLIENT_SECRETS_FILE, SCOPES)\n",
    "                # This will open a browser for the user to authorize\n",
    "                credentials = flow.run_local_server(port=0)\n",
    "                logging.info(\"OAuth flow completed successfully.\")\n",
    "            except Exception as e:\n",
    "                logging.error(f\"Failed to complete OAuth flow: {e}\")\n",
    "                raise # Re-raise the exception to stop execution\n",
    "\n",
    "        # Save the new/refreshed credentials\n",
    "        try:\n",
    "            with open('token.pickle', 'wb') as token:\n",
    "                pickle.dump(credentials, token)\n",
    "            logging.info(\"Credentials saved to token.pickle\")\n",
    "        except Exception as e:\n",
    "            logging.error(f\"Failed to save credentials to token.pickle: {e}\")\n",
    "            # Non-fatal, but user might need to re-auth more often\n",
    "\n",
    "    return build(API_SERVICE_NAME, API_VERSION, credentials=credentials)\n",
    "\n",
    "# --- Video Upload Function ---\n",
    "def upload_video(youtube_service, video_path, title, description, tags, category_id='24', privacy_status='public'):\n",
    "    \"\"\"\n",
    "    Uploads a video to YouTube.\n",
    "\n",
    "    Args:\n",
    "        youtube_service: An authenticated YouTube API service object.\n",
    "        video_path (str): Path to the video file.\n",
    "        title (str): Title of the video.\n",
    "        description (str): Description of the video.\n",
    "        tags (list): List of tags for the video.\n",
    "        category_id (str): YouTube category ID (default '22' for People & Blogs).\n",
    "        privacy_status (str): 'public', 'private', or 'unlisted'.\n",
    "\n",
    "    Returns:\n",
    "        str: The YouTube video ID if successful, None otherwise.\n",
    "    \"\"\"\n",
    "    body = {\n",
    "        'snippet': {\n",
    "            'title': title,\n",
    "            'description': description,\n",
    "            'tags': tags,\n",
    "            'categoryId': category_id\n",
    "        },\n",
    "        'status': {\n",
    "            'privacyStatus': privacy_status\n",
    "        },\n",
    "        'recordingDetails': { # Optional: for Shorts, you might want to specify this\n",
    "            'recordingDate': datetime.datetime.now(datetime.timezone.utc).isoformat()\n",
    "        }\n",
    "    }\n",
    "\n",
    "    media_body = MediaFileUpload(video_path, chunksize=-1, resumable=True)\n",
    "\n",
    "    try:\n",
    "        request = youtube_service.videos().insert(\n",
    "            part='snippet,status,recordingDetails',\n",
    "            body=body,\n",
    "            media_body=media_body\n",
    "        )\n",
    "        response = None\n",
    "        while response is None:\n",
    "            status, response = request.next_chunk()\n",
    "            if status:\n",
    "                logging.info(f\"Uploaded {int(status.resumable_progress * 100)}% of {os.path.basename(video_path)}\")\n",
    "\n",
    "        if 'id' in response:\n",
    "            logging.info(f\"Successfully uploaded: '{title}' (Video ID: {response['id']})\")\n",
    "            return response['id']\n",
    "        else:\n",
    "            logging.error(f\"Upload failed for {os.path.basename(video_path)} with unexpected response: {response}\")\n",
    "            return None\n",
    "\n",
    "    except HttpError as e:\n",
    "        logging.error(f\"An HTTP error occurred during upload for {os.path.basename(video_path)}: {e}\")\n",
    "        return None\n",
    "    except Exception as e:\n",
    "        logging.error(f\"An unexpected error occurred during upload for {os.path.basename(video_path)}: {e}\")\n",
    "        return None\n",
    "\n",
    "# --- File Management and Logging ---\n",
    "def get_uploaded_videos():\n",
    "    \"\"\"Reads the log file and returns a set of already uploaded video file paths.\"\"\"\n",
    "    uploaded_files = set()\n",
    "    if os.path.exists(UPLOADED_LOG_FILE):\n",
    "        with open(UPLOADED_LOG_FILE, 'r', encoding='utf-8') as f:\n",
    "            for line in f:\n",
    "                parts = line.strip().split(' | ')\n",
    "                if len(parts) >= 2:\n",
    "                    # Get the path from the log file\n",
    "                    logged_path = parts[1]\n",
    "\n",
    "                    # --- NEW CHANGE HERE ---\n",
    "                    # Normalize the logged path to match os.path.relpath's output\n",
    "                    # This often means converting '/' to '\\' on Windows or vice versa.\n",
    "                    # os.path.normpath() is good for this, it handles / and \\ consistently.\n",
    "                    normalized_logged_path = os.path.normpath(logged_path)\n",
    "\n",
    "                    uploaded_files.add(normalized_logged_path)\n",
    "                    # --- END OF NEW CHANGE ---\n",
    "\n",
    "    return uploaded_files\n",
    "\n",
    "def log_uploaded_video(video_path, video_id, title):\n",
    "    \"\"\"Appends the details of an uploaded video to the log file.\"\"\"\n",
    "    timestamp = datetime.datetime.now().isoformat()\n",
    "    # It's good practice to normalize path for logging as well, to ensure consistency\n",
    "    # with how it's read back. os.path.normpath will use native separators.\n",
    "    normalized_video_path = os.path.normpath(video_path)\n",
    "    with open(UPLOADED_LOG_FILE, 'a', encoding='utf-8') as f:\n",
    "        f.write(f\"{timestamp} | {normalized_video_path} | {video_id} | {title}\\n\")\n",
    "    logging.info(f\"Logged upload: {os.path.basename(video_path)}\")\n",
    "\n",
    "# --- Main Logic ---\n",
    "def main():\n",
    "    try:\n",
    "        youtube = get_authenticated_service()\n",
    "    except Exception as e:\n",
    "        logging.critical(f\"Failed to authenticate. Exiting: {e}\")\n",
    "        return\n",
    "\n",
    "    uploaded_videos = get_uploaded_videos()\n",
    "    logging.info(f\"Found {len(uploaded_videos)} already uploaded videos in log.\")\n",
    "\n",
    "    # Iterate through categories (subdirectories in BASE_VIDEO_DIR)\n",
    "    for category_dir in os.listdir(BASE_VIDEO_DIR):\n",
    "        category_video_path = os.path.join(BASE_VIDEO_DIR, category_dir)\n",
    "        # --- IMPORTANT: Adjust category_text_path based on how it's relative to main_uploader.py ---\n",
    "        # If BASE_TEXT_DIR is already relative to the script's execution directory\n",
    "        # e.g., 'data/generated_text' in the project root\n",
    "        category_text_path = os.path.join(BASE_TEXT_DIR, category_dir)\n",
    "        # If your 'data' folder is one level up from your script\n",
    "        # script_dir = os.path.dirname(__file__)\n",
    "        # category_text_path = os.path.join(script_dir, '..', BASE_TEXT_DIR, category_dir) # Example: if script in 'scripts/' and data in project root\n",
    "\n",
    "        if not os.path.isdir(category_video_path):\n",
    "            continue # Skip if it's not a directory\n",
    "\n",
    "        logging.info(f\"Processing category: {category_dir}\")\n",
    "\n",
    "        # Find all MP4 files in the current category\n",
    "        for video_file in glob.glob(os.path.join(category_video_path, '*.mp4')):\n",
    "            relative_video_path = os.path.relpath(video_file) # Store relative path for consistency in log\n",
    "\n",
    "            if relative_video_path in uploaded_videos:\n",
    "                logging.info(f\"Skipping already uploaded video: {os.path.basename(video_file)}\")\n",
    "                continue\n",
    "\n",
    "            # Determine corresponding text file path\n",
    "            video_basename_with_ext = os.path.basename(video_file)\n",
    "            video_name_without_ext_full = os.path.splitext(video_basename_with_ext)[0] # e.g., \"Mission to Batuu_short\"\n",
    "\n",
    "            # Remove the \"_short\" suffix if present to get the base name for text file\n",
    "            if video_name_without_ext_full.endswith('_short'):\n",
    "                video_name_for_text_file = video_name_without_ext_full.removesuffix('_short')\n",
    "            else:\n",
    "                video_name_for_text_file = video_name_without_ext_full\n",
    "\n",
    "            # *** --- NEW CHANGE: Append \"_rephrased.txt\" for text file path --- ***\n",
    "            text_file_path_for_video = os.path.join(category_text_path, f\"{video_name_for_text_file}_rephrased.txt\")\n",
    "\n",
    "            if not os.path.exists(text_file_path_for_video): # Use the newly constructed path here\n",
    "                logging.warning(f\"No description file found for {os.path.basename(video_file)} ({text_file_path_for_video}). Skipping.\")\n",
    "                continue\n",
    "\n",
    "            # Read description\n",
    "            with open(text_file_path_for_video, 'r', encoding='utf-8') as f: # Use the newly constructed path here\n",
    "                description_content = f.read().strip()\n",
    "\n",
    "            # Construct full description with hashtags\n",
    "            full_description = f\"{description_content}\\n\\n\" + \" \".join(GLOBAL_HASHTAGS)\n",
    "\n",
    "            # Use the clean name for the video title (still without _short or _rephrased)\n",
    "            video_title = video_name_for_text_file.replace('_', ' ').title() # Basic title formatting\n",
    "\n",
    "            # Prepare tags (example: based on categories and global hashtags)\n",
    "            tags = [category_dir.replace('_', ' ').lower()] + [h.strip('#') for h in GLOBAL_HASHTAGS]\n",
    "            tags = list(set(tags)) # Remove duplicates\n",
    "\n",
    "            logging.info(f\"Attempting to upload: {video_title}\")\n",
    "            logging.info(f\"Description: {full_description[:100]}...\") # Show first 100 chars\n",
    "            logging.info(f\"Tags: {', '.join(tags)}\")\n",
    "\n",
    "            # Perform the upload\n",
    "            video_id = upload_video(youtube, video_file, video_title, full_description, tags)\n",
    "\n",
    "            if video_id:\n",
    "                log_uploaded_video(relative_video_path, video_id, video_title)\n",
    "            else:\n",
    "                logging.error(f\"Failed to upload or log: {os.path.basename(video_file)}\")\n",
    "\n",
    "if __name__ == '__main__':\n",
    "    main()"
   ]
  },
  {
   "cell_type": "code",
   "execution_count": 8,
   "id": "3c30dfaa",
   "metadata": {},
   "outputs": [
    {
     "name": "stderr",
     "output_type": "stream",
     "text": [
      "2025-07-29 13:22:16,091 - INFO - Loaded credentials from token.pickle\n",
      "2025-07-29 13:22:16,095 - INFO - file_cache is only supported with oauth2client<4.0.0\n",
      "2025-07-29 13:22:16,102 - INFO - Found 10 already uploaded videos (by title) in log.\n",
      "2025-07-29 13:22:16,104 - INFO - Processing category: Arboreal planets\n",
      "2025-07-29 13:22:16,106 - INFO - Skipping already uploaded video (title found in log): 'Mulita'\n",
      "2025-07-29 13:22:16,108 - INFO - Processing category: Arms manufacturing companies\n",
      "2025-07-29 13:22:16,111 - INFO - Skipping already uploaded video (title found in log): 'Antrech Arms'\n",
      "2025-07-29 13:22:16,112 - INFO - Processing category: Battles in 19 BBY\n",
      "2025-07-29 13:22:16,113 - INFO - Attempting to upload: 'Mission To Batuu'\n",
      "2025-07-29 13:22:16,116 - INFO - Description: During the Clone Wars, a Separatist droid factory on Mokivj prompted a mission led by Anakin Skywalk...\n",
      "2025-07-29 13:22:16,118 - INFO - Tags: lightsaber, darthvader, starwarscommunity, starwarsfans, starwarslegends, shorts, starwarsfan, legends, anakin, battles in 19 bby, starwars, jedi, kenobi, sith, starwarsreels, force, yoda\n",
      "2025-07-29 13:22:17,004 - ERROR - An HTTP error occurred during upload for Mission to Batuu_short.mp4: <HttpError 400 when requesting None returned \"The user has exceeded the number of videos they may upload.\". Details: \"[{'message': 'The user has exceeded the number of videos they may upload.', 'domain': 'youtube.video', 'reason': 'uploadLimitExceeded'}]\">\n",
      "2025-07-29 13:22:17,005 - ERROR - Failed to upload: 'Mission To Batuu'. Will retry on next run unless manually logged.\n",
      "2025-07-29 13:22:17,006 - INFO - Processing category: Character stubs\n",
      "2025-07-29 13:22:17,007 - INFO - Skipping already uploaded video (title found in log): 'Eos Morne'\n",
      "2025-07-29 13:22:17,009 - INFO - Attempting to upload: 'Unidentified Second Prince'\n",
      "2025-07-29 13:22:17,010 - INFO - Description: In the Empire's twilight years, a power struggle brewed between two brothers: the Crown Prince and h...\n",
      "2025-07-29 13:22:17,011 - INFO - Tags: lightsaber, darthvader, starwarscommunity, starwarsfans, starwarslegends, shorts, starwarsfan, character stubs, legends, anakin, starwars, jedi, kenobi, starwarsreels, sith, force, yoda\n",
      "2025-07-29 13:22:17,393 - ERROR - An HTTP error occurred during upload for Unidentified Second Prince_short.mp4: <HttpError 400 when requesting None returned \"The user has exceeded the number of videos they may upload.\". Details: \"[{'message': 'The user has exceeded the number of videos they may upload.', 'domain': 'youtube.video', 'reason': 'uploadLimitExceeded'}]\">\n",
      "2025-07-29 13:22:17,394 - ERROR - Failed to upload: 'Unidentified Second Prince'. Will retry on next run unless manually logged.\n",
      "2025-07-29 13:22:17,397 - INFO - Processing category: Codes\n",
      "2025-07-29 13:22:17,398 - INFO - Attempting to upload: 'Protocol 514'\n",
      "2025-07-29 13:22:17,399 - INFO - Description: On the remote planet 244Core, Tor-Ro-Bo Industries secretly activated Protocol 514.  This drastic me...\n",
      "2025-07-29 13:22:17,400 - INFO - Tags: lightsaber, darthvader, starwarscommunity, starwarsfans, starwarslegends, shorts, starwarsfan, legends, anakin, starwars, jedi, kenobi, starwarsreels, sith, force, codes, yoda\n",
      "2025-07-29 13:22:17,817 - ERROR - An HTTP error occurred during upload for Protocol 514_short.mp4: <HttpError 400 when requesting None returned \"The user has exceeded the number of videos they may upload.\". Details: \"[{'message': 'The user has exceeded the number of videos they may upload.', 'domain': 'youtube.video', 'reason': 'uploadLimitExceeded'}]\">\n",
      "2025-07-29 13:22:17,818 - ERROR - Failed to upload: 'Protocol 514'. Will retry on next run unless manually logged.\n",
      "2025-07-29 13:22:17,820 - INFO - Processing category: Diplomatic events\n",
      "2025-07-29 13:22:17,821 - INFO - Skipping already uploaded video (title found in log): 'Thirteenth Imperial Diplomatic Conclave'\n",
      "2025-07-29 13:22:17,823 - INFO - Processing category: Diseases and maladies\n",
      "2025-07-29 13:22:17,825 - INFO - Attempting to upload: 'Spice Withdrawal'\n",
      "2025-07-29 13:22:17,825 - INFO - Description: Spice withdrawal is a brutal affliction for those addicted to the potent drug.  Anja Gallandro, hook...\n",
      "2025-07-29 13:22:17,827 - INFO - Tags: lightsaber, darthvader, starwarscommunity, starwarsfans, starwarslegends, shorts, starwarsfan, diseases and maladies, legends, anakin, starwars, jedi, kenobi, starwarsreels, sith, force, yoda\n",
      "2025-07-29 13:22:18,366 - ERROR - An HTTP error occurred during upload for Spice withdrawal_short.mp4: <HttpError 400 when requesting None returned \"The user has exceeded the number of videos they may upload.\". Details: \"[{'message': 'The user has exceeded the number of videos they may upload.', 'domain': 'youtube.video', 'reason': 'uploadLimitExceeded'}]\">\n",
      "2025-07-29 13:22:18,367 - ERROR - Failed to upload: 'Spice Withdrawal'. Will retry on next run unless manually logged.\n",
      "2025-07-29 13:22:18,368 - INFO - Processing category: Herdessa sector locations\n",
      "2025-07-29 13:22:18,371 - INFO - Attempting to upload: 'Cificap Viii'\n",
      "2025-07-29 13:22:18,372 - INFO - Description: In the Mid Rim's Herdessa sector, lies the planet Cificap VIII.  Shortly after the Rebel victory at ...\n",
      "2025-07-29 13:22:18,373 - INFO - Tags: herdessa sector locations, lightsaber, darthvader, starwarscommunity, starwarsfans, starwarslegends, shorts, starwarsfan, legends, anakin, starwars, jedi, kenobi, starwarsreels, sith, force, yoda\n",
      "2025-07-29 13:22:18,834 - ERROR - An HTTP error occurred during upload for Cificap VIII_short.mp4: <HttpError 400 when requesting None returned \"The user has exceeded the number of videos they may upload.\". Details: \"[{'message': 'The user has exceeded the number of videos they may upload.', 'domain': 'youtube.video', 'reason': 'uploadLimitExceeded'}]\">\n",
      "2025-07-29 13:22:18,836 - ERROR - Failed to upload: 'Cificap Viii'. Will retry on next run unless manually logged.\n",
      "2025-07-29 13:22:18,837 - INFO - Processing category: Koradin sector locations\n",
      "2025-07-29 13:22:18,839 - INFO - Attempting to upload: 'Kovor system/Legends'\n",
      "2025-07-29 13:22:18,841 - INFO - Description: Deep in the Outer Rim Territories, nestled within the Koradin sector, lies the Kovor system.  This r...\n",
      "2025-07-29 13:22:18,841 - INFO - Tags: lightsaber, darthvader, starwarscommunity, starwarsfans, starwarslegends, shorts, starwarsfan, legends, anakin, starwars, jedi, koradin sector locations, kenobi, sith, starwarsreels, force, yoda\n",
      "2025-07-29 13:22:19,248 - ERROR - An HTTP error occurred during upload for Kovor system_Legends_short.mp4: <HttpError 400 when requesting None returned \"The user has exceeded the number of videos they may upload.\". Details: \"[{'message': 'The user has exceeded the number of videos they may upload.', 'domain': 'youtube.video', 'reason': 'uploadLimitExceeded'}]\">\n",
      "2025-07-29 13:22:19,250 - ERROR - Failed to upload: 'Kovor system/Legends'. Will retry on next run unless manually logged.\n",
      "2025-07-29 13:22:19,252 - INFO - Processing category: Meirm Speeder Emporium products\n",
      "2025-07-29 13:22:19,254 - INFO - Skipping already uploaded video (title found in log): 'Iguana (speeder bike)'\n",
      "2025-07-29 13:22:19,255 - INFO - Processing category: Rocks\n",
      "2025-07-29 13:22:19,256 - INFO - Skipping already uploaded video (title found in log): 'Sandstone'\n",
      "2025-07-29 13:22:19,257 - INFO - Processing category: Science stubs\n",
      "2025-07-29 13:22:19,259 - INFO - Attempting to upload: 'Kilogram'\n",
      "2025-07-29 13:22:19,260 - INFO - Description: In the Star Wars galaxy, the kilogram, or kg, measures mass.  We know, for instance, that a B1 battl...\n",
      "2025-07-29 13:22:19,262 - INFO - Tags: lightsaber, darthvader, starwarscommunity, starwarsfans, starwarslegends, shorts, science stubs, starwarsfan, legends, anakin, starwars, jedi, kenobi, starwarsreels, sith, force, yoda\n",
      "2025-07-29 13:22:19,678 - ERROR - An HTTP error occurred during upload for Kilogram_short.mp4: <HttpError 400 when requesting None returned \"The user has exceeded the number of videos they may upload.\". Details: \"[{'message': 'The user has exceeded the number of videos they may upload.', 'domain': 'youtube.video', 'reason': 'uploadLimitExceeded'}]\">\n",
      "2025-07-29 13:22:19,679 - ERROR - Failed to upload: 'Kilogram'. Will retry on next run unless manually logged.\n",
      "2025-07-29 13:22:19,681 - INFO - Processing category: Songs\n",
      "2025-07-29 13:22:19,682 - INFO - Skipping already uploaded video (title found in log): 'What Mamma Doesn't Know'\n"
     ]
    }
   ],
   "source": [
    "import os\n",
    "import glob\n",
    "import pickle\n",
    "import datetime\n",
    "import logging\n",
    "from google_auth_oauthlib.flow import InstalledAppFlow\n",
    "from google.auth.transport.requests import Request\n",
    "from google.oauth2.credentials import Credentials\n",
    "from googleapiclient.discovery import build\n",
    "from googleapiclient.http import MediaFileUpload\n",
    "from googleapiclient.errors import HttpError\n",
    "from dotenv import load_dotenv\n",
    "\n",
    "# --- Load environment variables ---\n",
    "load_dotenv()\n",
    "\n",
    "# --- Configuration ---\n",
    "CLIENT_SECRETS_FILE = r'C:\\egyetem\\github-ml\\holocron-generator\\client_secret_12090445080-o5mvqmklk0ac7uu7q4co9hib5sgi01fn.apps.googleusercontent.com.json'\n",
    "UPLOADED_LOG_FILE = '../data/uploaded_shorts.log'\n",
    "BASE_VIDEO_DIR = '../data/generated_shorts'\n",
    "BASE_TEXT_DIR = '../data/generated_text'\n",
    "TOKEN_PICKLE_FILE = 'token.pickle'\n",
    "\n",
    "# YouTube API scopes - 'youtube.upload' is essential for uploading\n",
    "SCOPES = ['https://www.googleapis.com/auth/youtube.upload']\n",
    "API_SERVICE_NAME = 'youtube'\n",
    "API_VERSION = 'v3'\n",
    "\n",
    "# General hashtags to append to all descriptions\n",
    "GLOBAL_HASHTAGS = [\n",
    "    '#shorts',\n",
    "    '#starwars',\n",
    "    '#anakin',\n",
    "    '#legends',\n",
    "    '#starwarsfans', \n",
    "    '#jedi',\n",
    "    '#sith',\n",
    "    '#lightsaber',\n",
    "    '#starwarslegends',\n",
    "    '#starwarsfan',\n",
    "    '#starwarscommunity',\n",
    "    '#yoda',\n",
    "    '#darthvader',\n",
    "    '#kenobi',\n",
    "    '#starwarsreels',\n",
    "    '#force'\n",
    "]\n",
    "\n",
    "# --- Logging Setup ---\n",
    "logging.basicConfig(level=logging.INFO,\n",
    "                    format='%(asctime)s - %(levelname)s - %(message)s',\n",
    "                    handlers=[\n",
    "                        logging.FileHandler(\"uploader.log\"), # Log to a file\n",
    "                        logging.StreamHandler() # Also log to console\n",
    "                    ])\n",
    "\n",
    "# --- OAuth Authentication Function (No functional change) ---\n",
    "def get_authenticated_service():\n",
    "    \"\"\"Authenticates with Google OAuth and returns a YouTube API service.\"\"\"\n",
    "    credentials = None\n",
    "    if os.path.exists(TOKEN_PICKLE_FILE):\n",
    "        try:\n",
    "            with open(TOKEN_PICKLE_FILE, 'rb') as token:\n",
    "                credentials = pickle.load(token)\n",
    "            logging.info(\"Loaded credentials from token.pickle\")\n",
    "        except Exception as e:\n",
    "            logging.warning(f\"Error loading token.pickle: {e}. Will re-authenticate.\")\n",
    "            credentials = None\n",
    "\n",
    "    if not credentials or not credentials.valid:\n",
    "        if credentials and credentials.expired and credentials.refresh_token:\n",
    "            logging.info(\"Access token expired, attempting to refresh...\")\n",
    "            try:\n",
    "                credentials.refresh(Request())\n",
    "                logging.info(\"Access token refreshed successfully.\")\n",
    "            except Exception as e:\n",
    "                logging.error(f\"Error refreshing token: {e}. Re-initiating full OAuth flow.\")\n",
    "                credentials = None\n",
    "        else:\n",
    "            logging.info(\"No valid credentials, initiating new OAuth flow...\")\n",
    "            try:\n",
    "                flow = InstalledAppFlow.from_client_secrets_file(\n",
    "                    CLIENT_SECRETS_FILE, SCOPES)\n",
    "                credentials = flow.run_local_server(port=0)\n",
    "                logging.info(\"OAuth flow completed successfully.\")\n",
    "            except Exception as e:\n",
    "                logging.error(f\"Failed to complete OAuth flow: {e}\")\n",
    "                raise\n",
    "\n",
    "        try:\n",
    "            with open(TOKEN_PICKLE_FILE, 'wb') as token:\n",
    "                pickle.dump(credentials, token)\n",
    "            logging.info(\"Credentials saved to token.pickle\")\n",
    "        except Exception as e:\n",
    "            logging.error(f\"Failed to save credentials to token.pickle: {e}\")\n",
    "\n",
    "    return build(API_SERVICE_NAME, API_VERSION, credentials=credentials)\n",
    "\n",
    "# --- Video Upload Function (No functional change) ---\n",
    "def upload_video(youtube_service, video_path, title, description, tags, category_id='24', privacy_status='public'):\n",
    "    \"\"\"\n",
    "    Uploads a video to YouTube.\n",
    "    ... (rest of the upload_video function remains the same) ...\n",
    "    \"\"\"\n",
    "    body = {\n",
    "        'snippet': {\n",
    "            'title': title,\n",
    "            'description': description,\n",
    "            'tags': tags,\n",
    "            'categoryId': category_id\n",
    "        },\n",
    "        'status': {\n",
    "            'privacyStatus': privacy_status\n",
    "        },\n",
    "        'recordingDetails': {\n",
    "            'recordingDate': datetime.datetime.now(datetime.timezone.utc).isoformat()\n",
    "        }\n",
    "    }\n",
    "\n",
    "    media_body = MediaFileUpload(video_path, chunksize=-1, resumable=True)\n",
    "\n",
    "    try:\n",
    "        request = youtube_service.videos().insert(\n",
    "            part='snippet,status,recordingDetails',\n",
    "            body=body,\n",
    "            media_body=media_body\n",
    "        )\n",
    "        response = None\n",
    "        while response is None:\n",
    "            status, response = request.next_chunk()\n",
    "            if status:\n",
    "                logging.info(f\"Uploaded {int(status.resumable_progress * 100)}% of {os.path.basename(video_path)}\")\n",
    "\n",
    "        if 'id' in response:\n",
    "            logging.info(f\"Successfully uploaded: '{title}' (Video ID: {response['id']})\")\n",
    "            return response['id']\n",
    "        else:\n",
    "            logging.error(f\"Upload failed for {os.path.basename(video_path)} with unexpected response: {response}\")\n",
    "            return None\n",
    "\n",
    "    except HttpError as e:\n",
    "        logging.error(f\"An HTTP error occurred during upload for {os.path.basename(video_path)}: {e}\")\n",
    "        return None\n",
    "    except Exception as e:\n",
    "        logging.error(f\"An unexpected error occurred during upload for {os.path.basename(video_path)}: {e}\")\n",
    "        return None\n",
    "\n",
    "# --- File Management and Logging (SIMPLIFIED TO TITLE ONLY) ---\n",
    "def get_uploaded_videos():\n",
    "    \"\"\"Reads the log file and returns a set of already uploaded video titles.\"\"\"\n",
    "    uploaded_titles = set()\n",
    "    if os.path.exists(UPLOADED_LOG_FILE):\n",
    "        with open(UPLOADED_LOG_FILE, 'r', encoding='utf-8') as f:\n",
    "            for line in f:\n",
    "                line = line.strip()\n",
    "                if line: # Ensure line is not empty\n",
    "                    uploaded_titles.add(line) # Add the entire line as the title\n",
    "    return uploaded_titles\n",
    "\n",
    "def log_uploaded_video(title):\n",
    "    \"\"\"Appends the title of an uploaded video to the log file.\"\"\"\n",
    "    with open(UPLOADED_LOG_FILE, 'a', encoding='utf-8') as f:\n",
    "        f.write(f\"{title}\\n\") # Just write the title\n",
    "    logging.info(f\"Logged upload: '{title}'\")\n",
    "\n",
    "# --- Main Logic (ADJUSTED FOR TITLE MATCHING AND DERIVATION) ---\n",
    "def main():\n",
    "    try:\n",
    "        youtube = get_authenticated_service()\n",
    "    except Exception as e:\n",
    "        logging.critical(f\"Failed to authenticate. Exiting: {e}\")\n",
    "        return\n",
    "\n",
    "    uploaded_titles = get_uploaded_videos()\n",
    "    logging.info(f\"Found {len(uploaded_titles)} already uploaded videos (by title) in log.\")\n",
    "\n",
    "    for category_dir in os.listdir(BASE_VIDEO_DIR):\n",
    "        category_video_path = os.path.join(BASE_VIDEO_DIR, category_dir)\n",
    "        category_text_path = os.path.join(BASE_TEXT_DIR, category_dir)\n",
    "\n",
    "        if not os.path.isdir(category_video_path):\n",
    "            continue\n",
    "\n",
    "        logging.info(f\"Processing category: {category_dir}\")\n",
    "\n",
    "        for video_file in glob.glob(os.path.join(category_video_path, '*.mp4')):\n",
    "            video_basename_with_ext = os.path.basename(video_file)\n",
    "            video_name_without_ext_full = os.path.splitext(video_basename_with_ext)[0]\n",
    "\n",
    "            if video_name_without_ext_full.endswith('_short'):\n",
    "                video_name_base = video_name_without_ext_full.removesuffix('_short')\n",
    "            else:\n",
    "                video_name_base = video_name_without_ext_full\n",
    "\n",
    "            # --- DYNAMICALLY DETERMINE FINAL VIDEO TITLE ---\n",
    "            # This logic must accurately convert video_name_base to your desired YouTube title.\n",
    "            # Start with a default transformation\n",
    "            video_title = video_name_base.replace('_', ' ').title()\n",
    "\n",
    "            # Apply specific overrides/corrections based on your examples\n",
    "            # This order matters if patterns overlap!\n",
    "\n",
    "            # Example: \"Kovor system_Legends\" -> \"Kovor system/Legends\"\n",
    "            if \"Kovor system_Legends\" == video_name_base: # Use exact match for specific cases\n",
    "                video_title = \"Kovor system/Legends\"\n",
    "            \n",
    "            # Example: \"What Mamma Doesnt Know\" -> \"What Mamma Doesn't Know\"\n",
    "            if \"What Mamma Doesnt Know\" == video_name_base:\n",
    "                 video_title = \"What Mamma Doesn't Know\"\n",
    "            \n",
    "            # Example: \"Iguana (speeder bike)\"\n",
    "            if \"Iguana (speeder bike)\" == video_name_base:\n",
    "                video_title = \"Iguana (speeder bike)\" # If the base name is already perfect, use it directly\n",
    "                                                      # The .title() on this would make it \"Iguana (Speeder Bike)\"\n",
    "                                                      # which might not be desired.\n",
    "\n",
    "            # If you have more specific patterns like \"Protocol 514\" or \"Unidentified Second Prince\"\n",
    "            # that are already perfect in video_name_base, you can add similar if-statements\n",
    "            # if video_name_base needs to override the default .title() conversion.\n",
    "            # Example:\n",
    "            # if \"Protocol 514\" == video_name_base:\n",
    "            #     video_title = \"Protocol 514\"\n",
    "            # if \"Unidentified Second Prince\" == video_name_base:\n",
    "            #     video_title = \"Unidentified Second Prince\"\n",
    "\n",
    "            # --- CRITICAL: Check if this derived video_title is already in our log ---\n",
    "            if video_title in uploaded_titles:\n",
    "                logging.info(f\"Skipping already uploaded video (title found in log): '{video_title}'\")\n",
    "                continue\n",
    "\n",
    "            # --- Determine corresponding text file path (uses video_name_base) ---\n",
    "            text_file_path_for_video = os.path.join(category_text_path, f\"{video_name_base}_rephrased.txt\")\n",
    "\n",
    "            if not os.path.exists(text_file_path_for_video):\n",
    "                logging.warning(f\"No description file found for {os.path.basename(video_file)} ({text_file_path_for_video}). Skipping.\")\n",
    "                continue\n",
    "\n",
    "            with open(text_file_path_for_video, 'r', encoding='utf-8') as f:\n",
    "                description_content = f.read().strip()\n",
    "\n",
    "            full_description = f\"{description_content}\\n\\n\" + \" \".join(GLOBAL_HASHTAGS)\n",
    "\n",
    "            tags = [category_dir.replace('_', ' ').lower()] + [h.strip('#') for h in GLOBAL_HASHTAGS]\n",
    "            tags = list(set(tags))\n",
    "\n",
    "            logging.info(f\"Attempting to upload: '{video_title}'\")\n",
    "            logging.info(f\"Description: {full_description[:100]}...\")\n",
    "            logging.info(f\"Tags: {', '.join(tags)}\")\n",
    "\n",
    "            video_id = upload_video(youtube, video_file, video_title, full_description, tags)\n",
    "\n",
    "            if video_id:\n",
    "                log_uploaded_video(video_title) # Log ONLY the title\n",
    "            else:\n",
    "                logging.error(f\"Failed to upload: '{video_title}'. Will retry on next run unless manually logged.\")\n",
    "\n",
    "if __name__ == '__main__':\n",
    "    main()"
   ]
  }
 ],
 "metadata": {
  "kernelspec": {
   "display_name": "Python 3",
   "language": "python",
   "name": "python3"
  },
  "language_info": {
   "codemirror_mode": {
    "name": "ipython",
    "version": 3
   },
   "file_extension": ".py",
   "mimetype": "text/x-python",
   "name": "python",
   "nbconvert_exporter": "python",
   "pygments_lexer": "ipython3",
   "version": "3.12.4"
  }
 },
 "nbformat": 4,
 "nbformat_minor": 5
}
